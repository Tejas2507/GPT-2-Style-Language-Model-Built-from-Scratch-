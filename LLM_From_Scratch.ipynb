{
  "cells": [
    {
      "cell_type": "markdown",
      "metadata": {
        "id": "ZdaaBDiDviL6"
      },
      "source": [
        "**Transformer-Based Language Model Built from Scratch**\n",
        "--"
      ]
    },
    {
      "cell_type": "markdown",
      "metadata": {
        "id": "pRiRtoWfvgfP"
      },
      "source": [
        "# Data Preparation and Sampling\n"
      ]
    },
    {
      "cell_type": "markdown",
      "metadata": {
        "id": "hQgfw98Teyvk"
      },
      "source": [
        "## Tokenizing"
      ]
    },
    {
      "cell_type": "markdown",
      "metadata": {
        "id": "J-WCNSRSwhbH"
      },
      "source": [
        "Dataset Used : 'Harry Potter Books'"
      ]
    },
    {
      "cell_type": "code",
      "execution_count": 1,
      "metadata": {},
      "outputs": [
        {
          "name": "stdout",
          "output_type": "stream",
          "text": [
            "Requirement already satisfied: torch in /Users/tejas/venv-metal/lib/python3.9/site-packages (2.7.0)\n",
            "Requirement already satisfied: filelock in /Users/tejas/venv-metal/lib/python3.9/site-packages (from torch) (3.18.0)\n",
            "Requirement already satisfied: typing-extensions>=4.10.0 in /Users/tejas/venv-metal/lib/python3.9/site-packages (from torch) (4.12.2)\n",
            "Requirement already satisfied: sympy>=1.13.3 in /Users/tejas/venv-metal/lib/python3.9/site-packages (from torch) (1.14.0)\n",
            "Requirement already satisfied: networkx in /Users/tejas/venv-metal/lib/python3.9/site-packages (from torch) (3.2.1)\n",
            "Requirement already satisfied: jinja2 in /Users/tejas/venv-metal/lib/python3.9/site-packages (from torch) (3.1.5)\n",
            "Requirement already satisfied: fsspec in /Users/tejas/venv-metal/lib/python3.9/site-packages (from torch) (2025.5.0)\n",
            "Requirement already satisfied: mpmath<1.4,>=1.1.0 in /Users/tejas/venv-metal/lib/python3.9/site-packages (from sympy>=1.13.3->torch) (1.3.0)\n",
            "Requirement already satisfied: MarkupSafe>=2.0 in /Users/tejas/venv-metal/lib/python3.9/site-packages (from jinja2->torch) (3.0.2)\n",
            "\n",
            "\u001b[1m[\u001b[0m\u001b[34;49mnotice\u001b[0m\u001b[1;39;49m]\u001b[0m\u001b[39;49m A new release of pip is available: \u001b[0m\u001b[31;49m25.0.1\u001b[0m\u001b[39;49m -> \u001b[0m\u001b[32;49m25.1.1\u001b[0m\n",
            "\u001b[1m[\u001b[0m\u001b[34;49mnotice\u001b[0m\u001b[1;39;49m]\u001b[0m\u001b[39;49m To update, run: \u001b[0m\u001b[32;49mpip install --upgrade pip\u001b[0m\n",
            "Note: you may need to restart the kernel to use updated packages.\n"
          ]
        }
      ],
      "source": [
        "pip install torch"
      ]
    },
    {
      "cell_type": "code",
      "execution_count": 2,
      "metadata": {},
      "outputs": [
        {
          "name": "stdout",
          "output_type": "stream",
          "text": [
            "Requirement already satisfied: kagglehub in /Users/tejas/venv-metal/lib/python3.9/site-packages (0.3.12)\n",
            "Requirement already satisfied: packaging in /Users/tejas/venv-metal/lib/python3.9/site-packages (from kagglehub) (24.2)\n",
            "Requirement already satisfied: pyyaml in /Users/tejas/venv-metal/lib/python3.9/site-packages (from kagglehub) (6.0.2)\n",
            "Requirement already satisfied: requests in /Users/tejas/venv-metal/lib/python3.9/site-packages (from kagglehub) (2.32.3)\n",
            "Requirement already satisfied: tqdm in /Users/tejas/venv-metal/lib/python3.9/site-packages (from kagglehub) (4.67.1)\n",
            "Requirement already satisfied: charset-normalizer<4,>=2 in /Users/tejas/venv-metal/lib/python3.9/site-packages (from requests->kagglehub) (3.4.1)\n",
            "Requirement already satisfied: idna<4,>=2.5 in /Users/tejas/venv-metal/lib/python3.9/site-packages (from requests->kagglehub) (3.10)\n",
            "Requirement already satisfied: urllib3<3,>=1.21.1 in /Users/tejas/venv-metal/lib/python3.9/site-packages (from requests->kagglehub) (2.3.0)\n",
            "Requirement already satisfied: certifi>=2017.4.17 in /Users/tejas/venv-metal/lib/python3.9/site-packages (from requests->kagglehub) (2025.1.31)\n",
            "\n",
            "\u001b[1m[\u001b[0m\u001b[34;49mnotice\u001b[0m\u001b[1;39;49m]\u001b[0m\u001b[39;49m A new release of pip is available: \u001b[0m\u001b[31;49m25.0.1\u001b[0m\u001b[39;49m -> \u001b[0m\u001b[32;49m25.1.1\u001b[0m\n",
            "\u001b[1m[\u001b[0m\u001b[34;49mnotice\u001b[0m\u001b[1;39;49m]\u001b[0m\u001b[39;49m To update, run: \u001b[0m\u001b[32;49mpip install --upgrade pip\u001b[0m\n",
            "Note: you may need to restart the kernel to use updated packages.\n"
          ]
        }
      ],
      "source": [
        "pip install kagglehub"
      ]
    },
    {
      "cell_type": "code",
      "execution_count": 3,
      "metadata": {
        "colab": {
          "base_uri": "https://localhost:8080/"
        },
        "id": "q06mg-0nuLRi",
        "outputId": "ccccc63b-01d5-46b6-a597-9d84dea4927c"
      },
      "outputs": [
        {
          "name": "stderr",
          "output_type": "stream",
          "text": [
            "/Users/tejas/venv-metal/lib/python3.9/site-packages/urllib3/__init__.py:35: NotOpenSSLWarning: urllib3 v2 only supports OpenSSL 1.1.1+, currently the 'ssl' module is compiled with 'LibreSSL 2.8.3'. See: https://github.com/urllib3/urllib3/issues/3020\n",
            "  warnings.warn(\n"
          ]
        },
        {
          "name": "stdout",
          "output_type": "stream",
          "text": [
            "Path to dataset files: /Users/tejas/.cache/kagglehub/datasets/shubhammaindola/harry-potter-books/versions/1\n",
            "Successfully read the text file.\n"
          ]
        }
      ],
      "source": [
        "import kagglehub\n",
        "import os # Import the os module\n",
        "\n",
        "# Download latest version\n",
        "path = kagglehub.dataset_download(\"shubhammaindola/harry-potter-books\")\n",
        "\n",
        "print(\"Path to dataset files:\", path)\n",
        "\n",
        "# Find the text file within the downloaded directory\n",
        "\n",
        "text_file_path = None\n",
        "for filename in os.listdir(path):\n",
        "    if filename.endswith(\".txt\"):\n",
        "        text_file_path = os.path.join(path, filename)\n",
        "        break\n",
        "\n",
        "if text_file_path:\n",
        "    with open(text_file_path, 'r', encoding=\"utf-8\") as f:\n",
        "        raw_text = f.read()\n",
        "    print(\"Successfully read the text file.\")\n",
        "else:\n",
        "    print(\"Could not find a .txt file in the downloaded directory.\")"
      ]
    },
    {
      "cell_type": "code",
      "execution_count": 4,
      "metadata": {
        "colab": {
          "base_uri": "https://localhost:8080/"
        },
        "id": "W-AdtE6RxZrK",
        "outputId": "7c855237-d7f2-4381-a95f-07fdea336a0b"
      },
      "outputs": [
        {
          "name": "stdout",
          "output_type": "stream",
          "text": [
            "length of dataset in characters:  1140011\n"
          ]
        }
      ],
      "source": [
        "print(\"length of dataset in characters: \", len(raw_text))"
      ]
    },
    {
      "cell_type": "markdown",
      "metadata": {
        "id": "nkh9tvYYy2bQ"
      },
      "source": [
        "Now we proceed with tokenizing all the words\n",
        "\n",
        "using 're' library"
      ]
    },
    {
      "cell_type": "code",
      "execution_count": 5,
      "metadata": {
        "id": "XmyKmiIXypl7"
      },
      "outputs": [],
      "source": [
        "import re"
      ]
    },
    {
      "cell_type": "markdown",
      "metadata": {
        "id": "v3FjzxVF3Ob0"
      },
      "source": [
        "split individual words by (whitespaces , commas , fullstops)\n",
        "\n",
        "Removing whitespaces is optional and has its pros and cons"
      ]
    },
    {
      "cell_type": "code",
      "execution_count": 6,
      "metadata": {
        "colab": {
          "base_uri": "https://localhost:8080/"
        },
        "id": "j7J7oqHZ3Y2Z",
        "outputId": "3237f1d6-8427-4479-dead-f01dd89557b8"
      },
      "outputs": [
        {
          "name": "stdout",
          "output_type": "stream",
          "text": [
            "['The', 'two', 'men', 'appeared', 'out', 'of', 'nowhere', ',', 'a', 'few', 'yards', 'apart', 'in', 'the', 'narrow', ',', 'moonlit', 'lane', '.', 'For']\n"
          ]
        }
      ],
      "source": [
        "preprocessed = re.split(r'([,.:;?_!\"()\\']|--|\\s)',raw_text)\n",
        "preprocessed = [item.strip() for item in preprocessed if item.strip()]\n",
        "print(preprocessed[:20])"
      ]
    },
    {
      "cell_type": "code",
      "execution_count": 7,
      "metadata": {
        "colab": {
          "base_uri": "https://localhost:8080/"
        },
        "id": "WfEoOSKC53_6",
        "outputId": "ab0715f4-4fe3-4416-ccba-96b3826576ff"
      },
      "outputs": [
        {
          "name": "stdout",
          "output_type": "stream",
          "text": [
            "243775\n"
          ]
        }
      ],
      "source": [
        "print(len(preprocessed))"
      ]
    },
    {
      "cell_type": "markdown",
      "metadata": {
        "id": "sMTDXFFn2Pq8"
      },
      "source": [
        "### Word based Tokenizer"
      ]
    },
    {
      "cell_type": "markdown",
      "metadata": {
        "id": "11tBLJ5jOQ0b"
      },
      "source": [
        "convert to token IDs\n",
        "\n",
        "1. Create vocabulary\n"
      ]
    },
    {
      "cell_type": "code",
      "execution_count": 8,
      "metadata": {
        "colab": {
          "base_uri": "https://localhost:8080/"
        },
        "id": "_qgue-EZ6CbT",
        "outputId": "12c1a231-fa3d-4790-90a7-04c8e05c5396"
      },
      "outputs": [
        {
          "name": "stdout",
          "output_type": "stream",
          "text": [
            "14357\n"
          ]
        }
      ],
      "source": [
        "all_words = sorted(set(preprocessed))\n",
        "vocab_size = len(all_words)\n",
        "\n",
        "print(vocab_size)\n"
      ]
    },
    {
      "cell_type": "code",
      "execution_count": 9,
      "metadata": {
        "id": "e06ZwPssOvK0"
      },
      "outputs": [],
      "source": [
        "vocab = {token : integer for integer, token in enumerate(all_words)}"
      ]
    },
    {
      "cell_type": "code",
      "execution_count": 10,
      "metadata": {
        "colab": {
          "base_uri": "https://localhost:8080/"
        },
        "id": "St-WK5vgP4-c",
        "outputId": "4ef0299f-e7fa-4be8-8da9-c7ae113a94c5"
      },
      "outputs": [
        {
          "name": "stdout",
          "output_type": "stream",
          "text": [
            "('!', 0)\n",
            "('\"', 1)\n",
            "(\"'\", 2)\n",
            "('(', 3)\n",
            "(')', 4)\n",
            "('*', 5)\n",
            "('*Reducio*“', 6)\n",
            "('*name*', 7)\n",
            "(',', 8)\n",
            "('-', 9)\n",
            "('--', 10)\n"
          ]
        }
      ],
      "source": [
        "for i , item in enumerate(vocab.items()):\n",
        "    print(item)\n",
        "    if i == 10:\n",
        "        break"
      ]
    },
    {
      "cell_type": "markdown",
      "metadata": {
        "id": "cvACoS8_UJU0"
      },
      "source": [
        "TOKENIZE CLASS"
      ]
    },
    {
      "cell_type": "code",
      "execution_count": 11,
      "metadata": {
        "id": "b0jr5e0ZQT0t"
      },
      "outputs": [],
      "source": [
        "class SimpleTokenizerV1:\n",
        "  def __init__(self, vocab):\n",
        "        self.str_to_int = vocab\n",
        "        self.int_to_str = {integer: token for token, integer in vocab.items()}\n",
        "\n",
        "  def encode(self, text):\n",
        "    preprocessed = re.split(r'([,.:;?_!\"()\\']|--|\\s)',text)\n",
        "    preprocessed = [item.strip() for item in preprocessed if item.strip()]\n",
        "    ids = [self.str_to_int[token] for token in preprocessed]\n",
        "    return ids\n",
        "\n",
        "  def decode(self, ids):\n",
        "    tokens = [self.int_to_str[id] for id in ids]\n",
        "    text = \" \".join(tokens)\n",
        "    text = re.sub(r'\\s+([,.?!\"()\\'])', r'\\1', text) # to get rid of spaces before punctuations\n",
        "    return text"
      ]
    },
    {
      "cell_type": "code",
      "execution_count": 12,
      "metadata": {
        "colab": {
          "base_uri": "https://localhost:8080/"
        },
        "id": "y0SbzglTZ_31",
        "outputId": "f71bcebb-a6f6-4895-9601-7db507e0b6ae"
      },
      "outputs": [
        {
          "name": "stdout",
          "output_type": "stream",
          "text": [
            "[1024, 2494, 927]\n"
          ]
        }
      ],
      "source": [
        "tokenizer = SimpleTokenizerV1(vocab)\n",
        "\n",
        "text = \"\"\"I am Harry\"\"\"\n",
        "\n",
        "ids = tokenizer.encode(text)\n",
        "\n",
        "print(ids)"
      ]
    },
    {
      "cell_type": "code",
      "execution_count": 13,
      "metadata": {
        "colab": {
          "base_uri": "https://localhost:8080/"
        },
        "id": "EpY30JMBaLEp",
        "outputId": "695c6b5b-6bb3-4b10-989e-f73a0462df41"
      },
      "outputs": [
        {
          "name": "stdout",
          "output_type": "stream",
          "text": [
            "I am Harry\n"
          ]
        }
      ],
      "source": [
        "text = tokenizer.decode(ids)\n",
        "print(text)"
      ]
    },
    {
      "cell_type": "markdown",
      "metadata": {
        "id": "piu20Gt_c0N7"
      },
      "source": [
        "Thus Encode and Decode is working , but what if the word isn't present in the vocab ?"
      ]
    },
    {
      "cell_type": "markdown",
      "metadata": {
        "id": "mwkvP5wbdJka"
      },
      "source": [
        "#### Special Contet Tokens\n",
        "\n",
        "for words not in vocabulary-|unk| and markers - |endoftext|\n",
        "1. |unk| -> 9461\n",
        "2. |endoftext| -> 9462"
      ]
    },
    {
      "cell_type": "code",
      "execution_count": 14,
      "metadata": {
        "colab": {
          "base_uri": "https://localhost:8080/"
        },
        "id": "EoPBI5H6a0Hp",
        "outputId": "1395390d-26e4-4e10-87cd-48285e3b8233"
      },
      "outputs": [
        {
          "data": {
            "text/plain": [
              "14359"
            ]
          },
          "execution_count": 14,
          "metadata": {},
          "output_type": "execute_result"
        }
      ],
      "source": [
        "all_tokens = sorted(set(preprocessed))\n",
        "all_tokens.extend([\"<unk>\",\"<endoftext>\"])\n",
        "vocab = {token : integer for integer, token in enumerate(all_tokens)}\n",
        "len(vocab.items())"
      ]
    },
    {
      "cell_type": "code",
      "execution_count": 15,
      "metadata": {
        "id": "3-bKB53sgxry"
      },
      "outputs": [],
      "source": [
        "class SimpleTokenizerV2:\n",
        "  def __init__(self, vocab):\n",
        "        self.str_to_int = vocab\n",
        "        self.int_to_str = {integer: token for token, integer in vocab.items()}\n",
        "\n",
        "  def encode(self, text):\n",
        "    preprocessed = re.split(r'([,.:;?_!\"()\\']|--|\\s)',text)\n",
        "    preprocessed = [item.strip() for item in preprocessed if item.strip()]\n",
        "    preprocessed = [\n",
        "\n",
        "                    item if item in self.str_to_int else \"<|unk|>\" for item in preprocessed\n",
        "    ]\n",
        "    ids = [self.str_to_int[token] for token in preprocessed]\n",
        "    return ids\n",
        "\n",
        "  def decode(self, ids):\n",
        "    tokens = [self.int_to_str[id] for id in ids]\n",
        "    text = \" \".join(tokens)\n",
        "    text = re.sub(r'\\s+([,.?!\"()\\'])', r'\\1', text) # to get rid of spaces before punctuations\n",
        "    return text"
      ]
    },
    {
      "cell_type": "markdown",
      "metadata": {
        "id": "-1WhW-Eej5qB"
      },
      "source": [
        "### Byte Pair Encoding ( BPE )\n",
        "\n",
        "* subword based tokenizer : split the rare words into easier subwords\n",
        "* Most common pair of continuous byte pair ( left to right ) , with byte that doesn't occur in the data ( Repeat )\n",
        "* aaabdaaabac -> aa ab d aa ab ac -> Z Y d Z Y ac -> ZY d ZY ac -> WdWac\n",
        "* Similar algo is used for tokenization in LLMs , we just merge byte pairs by making frequency table of charecters of the whole dataset.\n",
        "* Subtract the numberof frequency from the original charecter after we merge it with another charecter\n",
        "* remove the tokens with 0 frequency\n",
        "* stopping criteria must be specified ( based on iterations or number of tokens )\n",
        "\n",
        "\n",
        "LIBRARY USED : TIKTOKEN"
      ]
    },
    {
      "cell_type": "code",
      "execution_count": 16,
      "metadata": {
        "colab": {
          "base_uri": "https://localhost:8080/"
        },
        "id": "ikXlYLO3j5Ri",
        "outputId": "6105f9f1-3781-4738-e939-542cb893aa10"
      },
      "outputs": [
        {
          "name": "stdout",
          "output_type": "stream",
          "text": [
            "Requirement already satisfied: tiktoken in /Users/tejas/venv-metal/lib/python3.9/site-packages (0.9.0)\n",
            "Requirement already satisfied: regex>=2022.1.18 in /Users/tejas/venv-metal/lib/python3.9/site-packages (from tiktoken) (2024.11.6)\n",
            "Requirement already satisfied: requests>=2.26.0 in /Users/tejas/venv-metal/lib/python3.9/site-packages (from tiktoken) (2.32.3)\n",
            "Requirement already satisfied: charset-normalizer<4,>=2 in /Users/tejas/venv-metal/lib/python3.9/site-packages (from requests>=2.26.0->tiktoken) (3.4.1)\n",
            "Requirement already satisfied: idna<4,>=2.5 in /Users/tejas/venv-metal/lib/python3.9/site-packages (from requests>=2.26.0->tiktoken) (3.10)\n",
            "Requirement already satisfied: urllib3<3,>=1.21.1 in /Users/tejas/venv-metal/lib/python3.9/site-packages (from requests>=2.26.0->tiktoken) (2.3.0)\n",
            "Requirement already satisfied: certifi>=2017.4.17 in /Users/tejas/venv-metal/lib/python3.9/site-packages (from requests>=2.26.0->tiktoken) (2025.1.31)\n",
            "\n",
            "\u001b[1m[\u001b[0m\u001b[34;49mnotice\u001b[0m\u001b[1;39;49m]\u001b[0m\u001b[39;49m A new release of pip is available: \u001b[0m\u001b[31;49m25.0.1\u001b[0m\u001b[39;49m -> \u001b[0m\u001b[32;49m25.1.1\u001b[0m\n",
            "\u001b[1m[\u001b[0m\u001b[34;49mnotice\u001b[0m\u001b[1;39;49m]\u001b[0m\u001b[39;49m To update, run: \u001b[0m\u001b[32;49mpip install --upgrade pip\u001b[0m\n"
          ]
        }
      ],
      "source": [
        "! pip3 install tiktoken"
      ]
    },
    {
      "cell_type": "code",
      "execution_count": 17,
      "metadata": {
        "colab": {
          "base_uri": "https://localhost:8080/",
          "height": 36
        },
        "id": "lH-HALVE65dU",
        "outputId": "03c13b0c-7242-401f-b80c-6dc14a0ca08a"
      },
      "outputs": [
        {
          "data": {
            "text/plain": [
              "'0.9.0'"
            ]
          },
          "execution_count": 17,
          "metadata": {},
          "output_type": "execute_result"
        }
      ],
      "source": [
        "import importlib\n",
        "import tiktoken\n",
        "\n",
        "importlib.metadata.version('tiktoken')"
      ]
    },
    {
      "cell_type": "code",
      "execution_count": 18,
      "metadata": {
        "id": "lo0STOmJ7Tpo"
      },
      "outputs": [],
      "source": [
        "tokenizer = tiktoken.get_encoding('gpt2')"
      ]
    },
    {
      "cell_type": "code",
      "execution_count": 19,
      "metadata": {
        "colab": {
          "base_uri": "https://localhost:8080/"
        },
        "id": "aibaTPuo7nqb",
        "outputId": "a2146834-6a7c-4e9d-c1db-58cd615fdf03"
      },
      "outputs": [
        {
          "name": "stdout",
          "output_type": "stream",
          "text": [
            "[15496, 837, 466, 345, 1107, 588, 23452, 5633, 220, 50256, 554, 262, 8824, 18250, 8812, 2114, 286, 705, 34680, 6, 279, 6081, 64, 330, 408, 824, 82]\n"
          ]
        }
      ],
      "source": [
        "text = (\"Hello , do you really like mushrooms ? <|endoftext|> In the moonlit terraces of 'unknown' palaaacesssss\")\n",
        "\n",
        "integers = tokenizer.encode(text,allowed_special={\"<|endoftext|>\"})\n",
        "print(integers)"
      ]
    },
    {
      "cell_type": "code",
      "execution_count": 20,
      "metadata": {
        "colab": {
          "base_uri": "https://localhost:8080/",
          "height": 54
        },
        "id": "kElqREgZ8uFS",
        "outputId": "01ca1679-964d-4102-c2fd-920053b73c55"
      },
      "outputs": [
        {
          "data": {
            "text/plain": [
              "\"Hello , do you really like mushrooms ? <|endoftext|> In the moonlit terraces of 'unknown' palaaacesssss\""
            ]
          },
          "execution_count": 20,
          "metadata": {},
          "output_type": "execute_result"
        }
      ],
      "source": [
        "strings = tokenizer.decode(integers)\n",
        "strings"
      ]
    },
    {
      "cell_type": "markdown",
      "metadata": {
        "id": "_Ynrtj-r97M0"
      },
      "source": [
        "GPT2 encoder has 50256 tokens"
      ]
    },
    {
      "cell_type": "markdown",
      "metadata": {
        "id": "3ysqmUNZ-MO0"
      },
      "source": [
        "### Creating Input - Target pairs\n",
        "\n",
        "LLMs are - Autoregressive , Self-supervised\n",
        "\n",
        "create input output pairs using sliding window approach"
      ]
    },
    {
      "cell_type": "code",
      "execution_count": 21,
      "metadata": {
        "colab": {
          "base_uri": "https://localhost:8080/"
        },
        "id": "D0wOTcoz9U-m",
        "outputId": "7238d9ed-e548-432a-fcf3-61bdce5c02a0"
      },
      "outputs": [
        {
          "data": {
            "text/plain": [
              "305068"
            ]
          },
          "execution_count": 21,
          "metadata": {},
          "output_type": "execute_result"
        }
      ],
      "source": [
        "enc_text = tokenizer.encode(raw_text)\n",
        "\n",
        "len(enc_text)"
      ]
    },
    {
      "cell_type": "code",
      "execution_count": 22,
      "metadata": {
        "id": "kdgEAgixARzF"
      },
      "outputs": [],
      "source": [
        "enc_sample = enc_text[:100]"
      ]
    },
    {
      "cell_type": "markdown",
      "metadata": {
        "id": "QgmQEeGXAphs"
      },
      "source": [
        "create 2 variables x , y ; where y is x shifted by 1 token.\n",
        "\n",
        "Therefore if x is the input , y should be the output.\n",
        "\n",
        "**context_size** : the number of tokens the model needs to focus on, inorder to predict the new word\n",
        "\n",
        "\n",
        "example : x = [1,2,3,4] , y = [2,3,4,5] , context_size = 4"
      ]
    },
    {
      "cell_type": "code",
      "execution_count": 23,
      "metadata": {
        "colab": {
          "base_uri": "https://localhost:8080/"
        },
        "id": "NyFe18iqA0qV",
        "outputId": "fe7f5cd9-c2a7-4005-8b67-a3ce7637d86d"
      },
      "outputs": [
        {
          "name": "stdout",
          "output_type": "stream",
          "text": [
            "[464, 734, 1450, 4120] [734, 1450, 4120, 503]\n"
          ]
        }
      ],
      "source": [
        "context_size = 4\n",
        "\n",
        "x = enc_sample[:context_size]\n",
        "y = enc_sample[1:context_size+1]\n",
        "\n",
        "print(x , y)"
      ]
    },
    {
      "cell_type": "markdown",
      "metadata": {
        "id": "P-ui3MuCDFdI"
      },
      "source": [
        "Number of prediction in one input output pair depends on context_size\n",
        "\n",
        "for 4 , it is 4 predictions as below"
      ]
    },
    {
      "cell_type": "code",
      "execution_count": 24,
      "metadata": {
        "colab": {
          "base_uri": "https://localhost:8080/"
        },
        "id": "rt3iKoYZCV6H",
        "outputId": "2501ceab-f45d-4551-f317-3ddbde682151"
      },
      "outputs": [
        {
          "name": "stdout",
          "output_type": "stream",
          "text": [
            "The  ----->   two\n",
            "The two  ----->   men\n",
            "The two men  ----->   appeared\n",
            "The two men appeared  ----->   out\n"
          ]
        }
      ],
      "source": [
        "for i in range(1, context_size + 1):\n",
        "    context = enc_sample[:i]\n",
        "    desired = enc_sample[i]\n",
        "\n",
        "    print(tokenizer.decode(context), \" -----> \", tokenizer.decode([desired]))"
      ]
    },
    {
      "cell_type": "markdown",
      "metadata": {
        "id": "sqlrKQ0WDcjA"
      },
      "source": [
        "#### Data Loader"
      ]
    },
    {
      "cell_type": "markdown",
      "metadata": {
        "id": "5KOgEeS8DpdJ"
      },
      "source": [
        "using Pytorch's inbuilt Dataset & Dataloader classes"
      ]
    },
    {
      "cell_type": "markdown",
      "metadata": {
        "id": "Vr1l4QY8EWiE"
      },
      "source": [
        "step 1 : Tokenizing entire dataset\n",
        "\n",
        "step 2 : Create dataset\n"
      ]
    },
    {
      "cell_type": "code",
      "execution_count": 25,
      "metadata": {
        "id": "Ns0KeZDxFxTN"
      },
      "outputs": [],
      "source": [
        "import torch"
      ]
    },
    {
      "cell_type": "code",
      "execution_count": 26,
      "metadata": {
        "id": "6RZ-DTAeDQLc"
      },
      "outputs": [],
      "source": [
        "from torch.utils.data import Dataset , DataLoader\n",
        "\n",
        "class GPTDatasetV1(Dataset):\n",
        "  def __init__(self,txt,tokenizer,max_length,stride):\n",
        "    self.input_ids = []\n",
        "    self.target_ids = []\n",
        "\n",
        "    token_ids = tokenizer.encode(txt,allowed_special={\"<|endoftext|>\"}) # tokenize\n",
        "\n",
        "    # Using sliding window of max length\n",
        "    for i in range(0,len(token_ids)-max_length,stride):\n",
        "      input_chunk = token_ids[i:i+max_length]\n",
        "      target_chunk = token_ids[i+1:i+max_length+1]\n",
        "      self.input_ids.append(torch.tensor(input_chunk))\n",
        "      self.target_ids.append(torch.tensor(target_chunk))\n",
        "\n",
        "  def __len__(self):\n",
        "    return len(self.input_ids)\n",
        "\n",
        "  def __getitem__(self,idx):\n",
        "    return self.input_ids[idx],self.target_ids[idx]\n",
        "\n",
        "\n"
      ]
    },
    {
      "cell_type": "markdown",
      "metadata": {
        "id": "drE-yAX5JRYn"
      },
      "source": [
        "helps us in paralell processing"
      ]
    },
    {
      "cell_type": "code",
      "execution_count": 27,
      "metadata": {
        "id": "-mMALtK3IId-"
      },
      "outputs": [],
      "source": [
        "def create_dataloader_v1(txt , batch_size = 4 , max_length = 256 , stride = 128 , shuffle = True , drop_last = True , num_workers = 0):\n",
        "\n",
        "  # initialize the tokenizer\n",
        "  tokenizer = tiktoken.get_encoding('gpt2')\n",
        "\n",
        "  dataset = GPTDatasetV1(txt,tokenizer,max_length,stride)\n",
        "\n",
        "  dataloader = DataLoader(dataset,\n",
        "                          batch_size=batch_size,\n",
        "                          shuffle=shuffle,\n",
        "                          drop_last=drop_last,\n",
        "                          num_workers=num_workers)\n",
        "\n",
        "  return dataloader"
      ]
    },
    {
      "cell_type": "markdown",
      "metadata": {
        "id": "1bSRX21cJY2N"
      },
      "source": [
        "Test : batch size = 1 , context size = 4"
      ]
    },
    {
      "cell_type": "code",
      "execution_count": 28,
      "metadata": {
        "colab": {
          "base_uri": "https://localhost:8080/"
        },
        "id": "SHuaFScuJN52",
        "outputId": "7976d8da-8dbb-4d6b-e057-5955784a0624"
      },
      "outputs": [
        {
          "name": "stdout",
          "output_type": "stream",
          "text": [
            "[tensor([[ 464,  734, 1450, 4120]]), tensor([[ 734, 1450, 4120,  503]])]\n"
          ]
        }
      ],
      "source": [
        "dataloader = create_dataloader_v1(raw_text,batch_size=1,max_length=4,stride=1,shuffle = False)\n",
        "\n",
        "data_iter = iter(dataloader)\n",
        "first_batch = next(data_iter)\n",
        "print(first_batch)"
      ]
    },
    {
      "cell_type": "code",
      "execution_count": 29,
      "metadata": {
        "colab": {
          "base_uri": "https://localhost:8080/"
        },
        "id": "QCkqvc1kJ6P2",
        "outputId": "23702e4f-4842-42cf-fd95-607d07b6212c"
      },
      "outputs": [
        {
          "name": "stdout",
          "output_type": "stream",
          "text": [
            "Inputs:\n",
            " tensor([[  464,   734,  1450,  4120],\n",
            "        [  503,   286, 12062,    11],\n",
            "        [  257,  1178,  5695,  5475],\n",
            "        [  287,   262,  7135,    11],\n",
            "        [ 8824, 18250, 11193,    13],\n",
            "        [ 1114,   257,  1218,   484],\n",
            "        [ 6204,  2407,   991,    11],\n",
            "        [  266,  1746,  7924,   379]])\n",
            "Targets:\n",
            " tensor([[  734,  1450,  4120,   503],\n",
            "        [  286, 12062,    11,   257],\n",
            "        [ 1178,  5695,  5475,   287],\n",
            "        [  262,  7135,    11,  8824],\n",
            "        [18250, 11193,    13,  1114],\n",
            "        [  257,  1218,   484,  6204],\n",
            "        [ 2407,   991,    11,   266],\n",
            "        [ 1746,  7924,   379,  1123]])\n"
          ]
        }
      ],
      "source": [
        "dataloader = create_dataloader_v1(raw_text,batch_size=8,max_length=4,stride=4,shuffle = False)\n",
        "\n",
        "data_iter = iter(dataloader)\n",
        "inputs , targets = next(data_iter)\n",
        "\n",
        "print('Inputs:\\n' , inputs)\n",
        "print('Targets:\\n' , targets)"
      ]
    },
    {
      "cell_type": "markdown",
      "metadata": {
        "id": "J8qNs_WoLTjE"
      },
      "source": [
        "Less stride -> More overlap -> More OverFitting\n",
        "\n",
        "stride length = max length => no overlap and also no token miss"
      ]
    },
    {
      "cell_type": "markdown",
      "metadata": {
        "id": "hbmBKVbsV7M0"
      },
      "source": [
        "## Token Embeddings\n",
        "\n",
        "* Every Token is represented by an N dimensional Vector\n",
        "* Captures Semantic relationship between words --> Unrelated words are farther from each other\n",
        "* Train an NN to create such Embeddings\n",
        "\n",
        "Examples : word2vec-google-news-300 ( pretrained - 300 dimensional )\n",
        "\n",
        "---\n",
        "\n",
        "For GPT-2 : vocab size : 50257 , embedding dimension - 768\n",
        "\n",
        "Therefore Embedding Layer Weight matrix size is  50257*768\n",
        "\n",
        "These weights are initialized randomly and optimized using LLM training itself (torch.nn.embedding)\n",
        "\n",
        "---\n",
        "\n",
        "**Positional Encoding**\n",
        "\n",
        "\n",
        "2 types :\n",
        "\n",
        "1. Absolute : a unique embedding is added to the token embedding so that the embeddings become different if the same word appears in different positions. (GPT was trained with this)\n",
        "\n",
        "2. Relative : emphasis on distance between the words , it can generalize better to sequence of long lengths."
      ]
    },
    {
      "cell_type": "code",
      "execution_count": 30,
      "metadata": {
        "id": "X0EJUNVNK8Ae"
      },
      "outputs": [],
      "source": [
        "vocab_size = 50257\n",
        "output_dim = 256\n",
        "\n",
        "token_embedding_layer = torch.nn.Embedding(vocab_size,output_dim)"
      ]
    },
    {
      "cell_type": "code",
      "execution_count": 31,
      "metadata": {
        "id": "ECX3L-0cjVDR"
      },
      "outputs": [],
      "source": [
        "max_length = 4\n",
        "Dataloader = create_dataloader_v1(raw_text , batch_size = 8 , max_length=max_length , stride = max_length , shuffle = False)\n",
        "data_iter = iter(Dataloader)\n",
        "\n",
        "inputs , targets = next(data_iter)"
      ]
    },
    {
      "cell_type": "markdown",
      "metadata": {
        "id": "E3yXwc8JkwG_"
      },
      "source": [
        "one embedding of 256 dimension is generated for each of the input"
      ]
    },
    {
      "cell_type": "code",
      "execution_count": 32,
      "metadata": {
        "colab": {
          "base_uri": "https://localhost:8080/"
        },
        "id": "bkB395p2k5wH",
        "outputId": "ba080fd0-7c3f-43e8-ad7f-f85b71724396"
      },
      "outputs": [
        {
          "name": "stdout",
          "output_type": "stream",
          "text": [
            "torch.Size([8, 4, 256])\n"
          ]
        }
      ],
      "source": [
        "token_embeddings = token_embedding_layer(inputs)\n",
        "print(token_embeddings.shape)"
      ]
    },
    {
      "cell_type": "markdown",
      "metadata": {
        "id": "NWEi1Cn1lf77"
      },
      "source": [
        "Create embedding for positional encoding ( only 4 position here => 4*256 )"
      ]
    },
    {
      "cell_type": "code",
      "execution_count": 33,
      "metadata": {
        "colab": {
          "base_uri": "https://localhost:8080/"
        },
        "id": "7qJ0a4BZlLEb",
        "outputId": "702a54d6-9df5-4170-cb76-5794e807da85"
      },
      "outputs": [
        {
          "name": "stdout",
          "output_type": "stream",
          "text": [
            "torch.Size([4, 256])\n"
          ]
        }
      ],
      "source": [
        "context_length = max_length\n",
        "\n",
        "pos_embedding_layer = torch.nn.Embedding(context_length,output_dim)\n",
        "\n",
        "pos_embedding_layer = pos_embedding_layer(torch.arange(max_length))\n",
        "\n",
        "print(pos_embedding_layer.shape)"
      ]
    },
    {
      "cell_type": "markdown",
      "metadata": {
        "id": "qWtQRRKZmshB"
      },
      "source": [
        "Add : Token Embeddings + Positional Embeddings"
      ]
    },
    {
      "cell_type": "code",
      "execution_count": 34,
      "metadata": {
        "colab": {
          "base_uri": "https://localhost:8080/"
        },
        "id": "-79byCO7mkbp",
        "outputId": "f6d2792b-9902-487b-9673-90a769a9e6fd"
      },
      "outputs": [
        {
          "name": "stdout",
          "output_type": "stream",
          "text": [
            "torch.Size([8, 4, 256])\n"
          ]
        }
      ],
      "source": [
        "final_embeddings = token_embeddings + pos_embedding_layer\n",
        "print(final_embeddings.shape)"
      ]
    },
    {
      "cell_type": "markdown",
      "metadata": {
        "id": "tpiiOTzhnyLC"
      },
      "source": [
        "# Transformer Architecture"
      ]
    },
    {
      "cell_type": "markdown",
      "metadata": {
        "id": "ND7Pjh9en4tn"
      },
      "source": [
        "## Attention\n",
        "\n",
        "-> Simple attention - No trainable weights ; K=Q=V = X\n"
      ]
    },
    {
      "cell_type": "markdown",
      "metadata": {
        "id": "61D5gWjcXBJB"
      },
      "source": [
        "### Self attention - Trainable weights ; K = Wk@X , Q = Wq@X , V = Wv@X"
      ]
    },
    {
      "cell_type": "code",
      "execution_count": 35,
      "metadata": {
        "id": "8lhrwav_nx89"
      },
      "outputs": [],
      "source": [
        "import torch.nn as nn\n",
        "import torch\n",
        "\n",
        "# SELF ATTENTION V1\n",
        "class SelfAttention_v1(nn.Module):\n",
        "\n",
        "  def __init__(self,d_in,d_out): # d_in = input dimension\n",
        "    super().__init__()\n",
        "    self.W_q = nn.Parameter(torch.rand(d_in,d_out))\n",
        "    self.W_k = nn.Parameter(torch.rand(d_in,d_out))\n",
        "    self.W_v = nn.Parameter(torch.rand(d_in,d_out))\n",
        "\n",
        "  def forward(self,x):\n",
        "    keys = x @ self.W_k\n",
        "    query = x @ self.W_q\n",
        "    value = x @ self.W_v\n",
        "\n",
        "    attention_weights = torch.softmax((query @ keys.T)/(keys.shape[-1])**0.5 , dim = -1)\n",
        "\n",
        "    context_vec = attention_weights @ value\n",
        "    return context_vec"
      ]
    },
    {
      "cell_type": "code",
      "execution_count": 36,
      "metadata": {
        "colab": {
          "base_uri": "https://localhost:8080/"
        },
        "id": "lf1z7_iM1tlC",
        "outputId": "a886a780-59a1-4aa7-d061-d331ddd1eb68"
      },
      "outputs": [
        {
          "name": "stdout",
          "output_type": "stream",
          "text": [
            "tensor([[0.3558, 0.9283],\n",
            "        [0.3565, 0.9351],\n",
            "        [0.3539, 0.9108],\n",
            "        [0.3551, 0.9219],\n",
            "        [0.3567, 0.9369],\n",
            "        [0.3560, 0.9296]], grad_fn=<MmBackward0>)\n"
          ]
        }
      ],
      "source": [
        "torch.manual_seed(123)\n",
        "sa_v1 = SelfAttention_v1(3,2)\n",
        "print(sa_v1(torch.rand(6,3)))"
      ]
    },
    {
      "cell_type": "code",
      "execution_count": 37,
      "metadata": {
        "id": "Kj9P26tQ2duh"
      },
      "outputs": [],
      "source": [
        "# SELF ATTENTION V2 (using nn.Linear)\n",
        "class SelfAttention_v2(nn.Module):\n",
        "\n",
        "  def __init__(self,d_in,d_out):\n",
        "    super().__init__()\n",
        "    self.W_q = nn.Linear(d_in , d_out )\n",
        "    self.W_k = nn.Linear(d_in , d_out )\n",
        "    self.W_v = nn.Linear(d_in , d_out )\n",
        "\n",
        "  def forward(self,x):\n",
        "    keys = x @ self.W_k\n",
        "    query = x @ self.W_q\n",
        "    value = x @ self.W_v\n",
        "\n",
        "    attention_weights = torch.softmax((query @ keys.T)/(keys.shape[-1])**0.5 , dim = -1)\n",
        "\n",
        "    context_vec = attention_weights @ value\n",
        "    return context_vec"
      ]
    },
    {
      "cell_type": "markdown",
      "metadata": {
        "id": "KzrU9XEhXGx7"
      },
      "source": [
        "### Causal Attention\n",
        "\n",
        "also called as masked attention\n",
        "\n",
        "special form of self attention -> only considers attention wrt tokens at or before the given token i.e masks out the future tokens\n",
        "\n",
        "Attention weight matrix is lower triangular\n",
        "\n",
        "Get Self attention scores -> make it lower triangular (set the values above the diagnonals as zero)  -> renormalize"
      ]
    },
    {
      "cell_type": "code",
      "execution_count": 38,
      "metadata": {
        "colab": {
          "base_uri": "https://localhost:8080/"
        },
        "id": "uH7s46Nh3822",
        "outputId": "c0e95831-b057-4464-d5f7-0d066819a879"
      },
      "outputs": [
        {
          "name": "stdout",
          "output_type": "stream",
          "text": [
            "tensor([[0.1887, 0.1749, 0.1601, 0.1676, 0.1493, 0.1594],\n",
            "        [0.1924, 0.1783, 0.1557, 0.1688, 0.1468, 0.1580],\n",
            "        [0.1982, 0.1857, 0.1460, 0.1716, 0.1430, 0.1555],\n",
            "        [0.1877, 0.1802, 0.1515, 0.1707, 0.1505, 0.1593],\n",
            "        [0.1966, 0.1876, 0.1429, 0.1729, 0.1443, 0.1558],\n",
            "        [0.1902, 0.1836, 0.1471, 0.1720, 0.1488, 0.1582]],\n",
            "       grad_fn=<SoftmaxBackward0>)\n"
          ]
        }
      ],
      "source": [
        "inputs = torch.rand(6,3)\n",
        "sa_v2 = SelfAttention_v2(3,6)\n",
        "\n",
        "query = sa_v2.W_q(inputs)\n",
        "keys = sa_v2.W_k(inputs)\n",
        "self_attention_scores = (query @ keys.T)/(keys.shape[-1])**0.5\n",
        "self_attention_weights = torch.softmax(self_attention_scores , dim = -1)\n",
        "print(self_attention_weights)"
      ]
    },
    {
      "cell_type": "code",
      "execution_count": 39,
      "metadata": {
        "colab": {
          "base_uri": "https://localhost:8080/"
        },
        "id": "l3abeKfzcXyC",
        "outputId": "8a22a0d1-f7bb-42e6-d09d-d1768747ab97"
      },
      "outputs": [
        {
          "name": "stdout",
          "output_type": "stream",
          "text": [
            "tensor([[1., 0., 0., 0., 0., 0.],\n",
            "        [1., 1., 0., 0., 0., 0.],\n",
            "        [1., 1., 1., 0., 0., 0.],\n",
            "        [1., 1., 1., 1., 0., 0.],\n",
            "        [1., 1., 1., 1., 1., 0.],\n",
            "        [1., 1., 1., 1., 1., 1.]])\n"
          ]
        }
      ],
      "source": [
        "context_length =  self_attention_weights.shape[0]\n",
        "mask_simple = torch.tril(torch.ones(context_length,context_length))\n",
        "print(mask_simple)"
      ]
    },
    {
      "cell_type": "code",
      "execution_count": 40,
      "metadata": {
        "colab": {
          "base_uri": "https://localhost:8080/"
        },
        "id": "2Gdag3jHc5kN",
        "outputId": "2b836914-3b33-4015-c976-3589ca4d3885"
      },
      "outputs": [
        {
          "name": "stdout",
          "output_type": "stream",
          "text": [
            "tensor([[0.1887, 0.0000, 0.0000, 0.0000, 0.0000, 0.0000],\n",
            "        [0.1924, 0.1783, 0.0000, 0.0000, 0.0000, 0.0000],\n",
            "        [0.1982, 0.1857, 0.1460, 0.0000, 0.0000, 0.0000],\n",
            "        [0.1877, 0.1802, 0.1515, 0.1707, 0.0000, 0.0000],\n",
            "        [0.1966, 0.1876, 0.1429, 0.1729, 0.1443, 0.0000],\n",
            "        [0.1902, 0.1836, 0.1471, 0.1720, 0.1488, 0.1582]],\n",
            "       grad_fn=<MulBackward0>)\n"
          ]
        }
      ],
      "source": [
        "masked = mask_simple *  self_attention_weights\n",
        "print(masked)"
      ]
    },
    {
      "cell_type": "code",
      "execution_count": 41,
      "metadata": {
        "colab": {
          "base_uri": "https://localhost:8080/"
        },
        "id": "covek_8NdR5L",
        "outputId": "ad8478b3-9165-4ae4-90c4-2396c2977bce"
      },
      "outputs": [
        {
          "data": {
            "text/plain": [
              "tensor([[1.0000, 0.0000, 0.0000, 0.0000, 0.0000, 0.0000],\n",
              "        [0.5190, 0.4810, 0.0000, 0.0000, 0.0000, 0.0000],\n",
              "        [0.3740, 0.3505, 0.2755, 0.0000, 0.0000, 0.0000],\n",
              "        [0.2720, 0.2611, 0.2195, 0.2473, 0.0000, 0.0000],\n",
              "        [0.2329, 0.2222, 0.1693, 0.2048, 0.1709, 0.0000],\n",
              "        [0.1902, 0.1836, 0.1471, 0.1720, 0.1488, 0.1582]],\n",
              "       grad_fn=<DivBackward0>)"
            ]
          },
          "execution_count": 41,
          "metadata": {},
          "output_type": "execute_result"
        }
      ],
      "source": [
        "row_sums = masked.sum(dim =1 , keepdims = True)\n",
        "maskedNorm = masked / row_sums\n",
        "maskedNorm"
      ]
    },
    {
      "cell_type": "markdown",
      "metadata": {
        "id": "JA8VwJmweMqj"
      },
      "source": [
        "smarter way : take attention score matric ( not weights ) -> apply negative infinity Triangular mask -> apply softmax\n",
        "\n",
        "This ensures no data leakage because of future values"
      ]
    },
    {
      "cell_type": "code",
      "execution_count": 42,
      "metadata": {
        "colab": {
          "base_uri": "https://localhost:8080/"
        },
        "id": "GfaR26ThdrRG",
        "outputId": "8b134215-4aa7-46a1-eae8-b9d76c4f1ac3"
      },
      "outputs": [
        {
          "name": "stdout",
          "output_type": "stream",
          "text": [
            "tensor([[-0.1535,    -inf,    -inf,    -inf,    -inf,    -inf],\n",
            "        [-0.2132, -0.2890,    -inf,    -inf,    -inf,    -inf],\n",
            "        [-0.4413, -0.5061, -0.7471,    -inf,    -inf,    -inf],\n",
            "        [-0.3768, -0.4176, -0.5911, -0.4718,    -inf,    -inf],\n",
            "        [-0.5157, -0.5626, -0.8343, -0.6442, -0.8252,    -inf],\n",
            "        [-0.4747, -0.5100, -0.7318, -0.5751, -0.7203, -0.6592]],\n",
            "       grad_fn=<MaskedFillBackward0>)\n"
          ]
        }
      ],
      "source": [
        "mask = torch.triu(torch.ones(context_length,context_length),diagonal = 1)\n",
        "masked = self_attention_scores.masked_fill(mask.bool(),-torch.inf)\n",
        "\n",
        "print(masked)"
      ]
    },
    {
      "cell_type": "code",
      "execution_count": 43,
      "metadata": {
        "colab": {
          "base_uri": "https://localhost:8080/"
        },
        "id": "hCLKUEwbfK2C",
        "outputId": "84ed9ad6-effd-415f-e545-ac9261b804a7"
      },
      "outputs": [
        {
          "data": {
            "text/plain": [
              "tensor([[1.0000, 0.0000, 0.0000, 0.0000, 0.0000, 0.0000],\n",
              "        [0.5190, 0.4810, 0.0000, 0.0000, 0.0000, 0.0000],\n",
              "        [0.3740, 0.3505, 0.2755, 0.0000, 0.0000, 0.0000],\n",
              "        [0.2720, 0.2611, 0.2195, 0.2473, 0.0000, 0.0000],\n",
              "        [0.2329, 0.2222, 0.1693, 0.2048, 0.1709, 0.0000],\n",
              "        [0.1902, 0.1836, 0.1471, 0.1720, 0.1488, 0.1582]],\n",
              "       grad_fn=<SoftmaxBackward0>)"
            ]
          },
          "execution_count": 43,
          "metadata": {},
          "output_type": "execute_result"
        }
      ],
      "source": [
        "causal_attention_weights = torch.softmax(masked,dim=-1)\n",
        "causal_attention_weights"
      ]
    },
    {
      "cell_type": "markdown",
      "metadata": {
        "id": "lEzRczWNgQNL"
      },
      "source": [
        "Add dropout with rate = 0.5"
      ]
    },
    {
      "cell_type": "markdown",
      "metadata": {
        "id": "pQ68p4wpg-ES"
      },
      "source": [
        "#### Implementing Causal Attention with Dropout Class :\n",
        "\n",
        "which can handle inputs in batches"
      ]
    },
    {
      "cell_type": "code",
      "execution_count": 44,
      "metadata": {
        "colab": {
          "base_uri": "https://localhost:8080/"
        },
        "id": "ucEE2ATbfmxn",
        "outputId": "6103105c-b532-4c9f-88d3-ecdd4ae98658"
      },
      "outputs": [
        {
          "data": {
            "text/plain": [
              "torch.Size([2, 6, 3])"
            ]
          },
          "execution_count": 44,
          "metadata": {},
          "output_type": "execute_result"
        }
      ],
      "source": [
        "batch = torch.stack((inputs,inputs),dim = 0)\n",
        "batch.shape"
      ]
    },
    {
      "cell_type": "code",
      "execution_count": 45,
      "metadata": {
        "id": "6VVbFSbzhWVC"
      },
      "outputs": [],
      "source": [
        "class CausalAttention(nn.Module):\n",
        "  def __init__(self,d_in,d_out,context_length , dropout_rate , qkv_bias = False):\n",
        "    super().__init__()\n",
        "    self.d_out = d_out\n",
        "    self.W_q = nn.Linear(d_in , d_out , bias = qkv_bias)\n",
        "    self.W_k = nn.Linear(d_in , d_out , bias = qkv_bias)\n",
        "    self.W_v = nn.Linear(d_in , d_out , bias = qkv_bias)\n",
        "    self.dropout = nn.Dropout(dropout_rate)\n",
        "    self.register_buffer('mask' , torch.triu(torch.ones(context_length,context_length),diagonal = 1))\n",
        "\n",
        "  def forward(self,x):\n",
        "    b , num_tokens , d_in = x.shape  # b = number of inputs in one batch , num_tokens = number of tokens in an input , d_in = length of embedding vector of each token\n",
        "    keys = self.W_k(x)\n",
        "    queries = self.W_q(x)\n",
        "    values = self.W_v(x)\n",
        "\n",
        "    attention_scores = ( queries @ keys.transpose(1,2) )/ (self.d_out)**0.5\n",
        "    attention_scores = attention_scores.masked_fill(self.mask.bool()[:num_tokens,:num_tokens],-torch.inf)\n",
        "    attention_weights = torch.softmax(attention_scores,dim = -1)\n",
        "    attention_weights = self.dropout(attention_weights)\n",
        "\n",
        "    context_vec = attention_weights @ values\n",
        "    return context_vec\n",
        "\n",
        "\n"
      ]
    },
    {
      "cell_type": "code",
      "execution_count": 46,
      "metadata": {
        "colab": {
          "base_uri": "https://localhost:8080/"
        },
        "id": "7rZt3L7ekN0_",
        "outputId": "8ede93fd-c254-4d05-c02f-3d777b83c47f"
      },
      "outputs": [
        {
          "name": "stdout",
          "output_type": "stream",
          "text": [
            "context vector shape \n",
            " torch.Size([2, 6, 2])\n"
          ]
        }
      ],
      "source": [
        "torch.manual_seed(123)\n",
        "context_length = batch.shape[1]\n",
        "ca = CausalAttention(3,2,context_length,0.0)\n",
        "context_vecs = ca(batch)\n",
        "\n",
        "print('context vector shape \\n' , context_vecs.shape)"
      ]
    },
    {
      "cell_type": "markdown",
      "metadata": {
        "id": "8BRRI3fimF5x"
      },
      "source": [
        "### Multi-Head-Attention"
      ]
    },
    {
      "cell_type": "markdown",
      "metadata": {
        "id": "pfhyuoTrqX5v"
      },
      "source": [
        "Stack Multiple Causal attention heads together\n",
        "\n",
        "Now there are many trainable weight matrices. Eg : W_q1 , W_q2 .... W_k1 , W_k2 ...\n",
        "\n",
        "stack the context vector along the rows => it increases the dimension of d_out\n",
        "\n",
        "Concatenated along the rows because , for the same token we are extending the embedding length with more trainable weights sort of"
      ]
    },
    {
      "cell_type": "code",
      "execution_count": 47,
      "metadata": {
        "id": "mhPEVJ8GlAGN"
      },
      "outputs": [],
      "source": [
        "class MultiHeadAttentionWrapper(nn.Module):\n",
        "\n",
        "  def __init__(self,d_in,d_out,context_length,num_heads,dropout_rate,qkv_bias = False):\n",
        "    super().__init__()\n",
        "    self.heads = nn.ModuleList([CausalAttention(d_in,d_out,context_length,dropout_rate,qkv_bias) for _ in range(num_heads)])\n",
        "\n",
        "  def forward(self , x):\n",
        "    return torch.cat([head(x) for head in self.heads] , dim = -1)"
      ]
    },
    {
      "cell_type": "markdown",
      "metadata": {
        "id": "wLjSh2mGOZz_"
      },
      "source": [
        "instance :"
      ]
    },
    {
      "cell_type": "code",
      "execution_count": 48,
      "metadata": {
        "colab": {
          "base_uri": "https://localhost:8080/"
        },
        "id": "V0UiHUBiOa1R",
        "outputId": "1b14eb38-8509-4626-a255-a792ed6a85eb"
      },
      "outputs": [
        {
          "name": "stdout",
          "output_type": "stream",
          "text": [
            "tensor([[[0.1735, 0.1782, 0.1959, 0.0912],\n",
            "         [0.3047, 0.2418, 0.3305, 0.1326],\n",
            "         [0.4103, 0.3456, 0.4355, 0.1817],\n",
            "         [0.4353, 0.3303, 0.4606, 0.1996],\n",
            "         [0.5234, 0.3789, 0.5431, 0.2325],\n",
            "         [0.5418, 0.3797, 0.5668, 0.2471]],\n",
            "\n",
            "        [[0.1735, 0.1782, 0.1959, 0.0912],\n",
            "         [0.3047, 0.2418, 0.3305, 0.1326],\n",
            "         [0.4103, 0.3456, 0.4355, 0.1817],\n",
            "         [0.4353, 0.3303, 0.4606, 0.1996],\n",
            "         [0.5234, 0.3789, 0.5431, 0.2325],\n",
            "         [0.5418, 0.3797, 0.5668, 0.2471]]], grad_fn=<CatBackward0>)\n"
          ]
        }
      ],
      "source": [
        "d_in = 3\n",
        "d_out = 2\n",
        "mha = MultiHeadAttentionWrapper(d_in,d_out,context_length,num_heads = 2,dropout_rate = 0.0)\n",
        "context_vectors = mha(batch)\n",
        "print(context_vectors)"
      ]
    },
    {
      "cell_type": "markdown",
      "metadata": {
        "id": "229DO5EzQ9LB"
      },
      "source": [
        "#### Multi Head attention Module with weight splits\n",
        "\n",
        "Multiply with a large weight matrix and then split the output ( instead of concatinating like before )\n",
        "\n",
        "This reduces the number of matrix multiplications"
      ]
    },
    {
      "cell_type": "code",
      "execution_count": 49,
      "metadata": {
        "id": "s_PzBYstPLT6"
      },
      "outputs": [],
      "source": [
        "class MultiHeadAttention(nn.Module):\n",
        "  def __init__(self,d_in,d_out,context_length,num_heads,dropout_rate,qkv_bias = False):\n",
        "    super().__init__()\n",
        "    assert (d_out % num_heads) == 0 , \"d_out must be divisible by num_heads\"\n",
        "\n",
        "    self.d_out = d_out\n",
        "    self.num_heads = num_heads\n",
        "    self.head_dim = d_out // num_heads\n",
        "\n",
        "    self.W_q = nn.Linear(d_in , d_out , bias = qkv_bias)\n",
        "    self.W_k = nn.Linear(d_in , d_out , bias = qkv_bias)\n",
        "    self.W_v = nn.Linear(d_in , d_out , bias = qkv_bias)\n",
        "\n",
        "    self.out_proj = nn.Linear(d_out , d_out)\n",
        "    self.dropout = nn.Dropout(dropout_rate)\n",
        "    self.register_buffer('mask' , torch.triu(torch.ones(context_length,context_length),diagonal = 1))\n",
        "\n",
        "  def forward(self,x):\n",
        "    b , num_tokens , d_in = x.shape\n",
        "\n",
        "    keys = self.W_k(x)\n",
        "    queries = self.W_q(x)\n",
        "    values = self.W_v(x)\n",
        "\n",
        "\n",
        "    # Unroll (b , num_tokens , d_out) -> (b , num_tokens , num_heads , head_dim)\n",
        "    keys = keys.view(b,num_tokens,self.num_heads,self.head_dim)\n",
        "    queries = queries.view(b,num_tokens,self.num_heads,self.head_dim)\n",
        "    values = values.view(b,num_tokens,self.num_heads,self.head_dim)\n",
        "\n",
        "    # Transpose (b , num_tokens , num_heads , head_dim) -> (b , num_heads , num_tokens , head_dim)\n",
        "    # group the matrices with number of heads\n",
        "    keys = keys.transpose(1,2)\n",
        "    queries = queries.transpose(1,2)\n",
        "    values = values.transpose(1,2)\n",
        "\n",
        "    # Compute attention scores\n",
        "    attention_scores = ( queries @ keys.transpose(2,3) )/ (self.head_dim)**0.5 # dim : (b , num_heads , num_tokens , num_tokens)\n",
        "\n",
        "    # Causality\n",
        "    attention_scores = attention_scores.masked_fill(self.mask.bool()[:num_tokens,:num_tokens],-torch.inf)\n",
        "\n",
        "    attention_weights = torch.softmax(attention_scores,dim = -1)\n",
        "    attention_weights = self.dropout(attention_weights)\n",
        "\n",
        "    context_vec = (attention_weights @ values).transpose(1,2)  # reformat the context vector\n",
        "\n",
        "    context_vec = context_vec.contiguous().view(b,num_tokens,self.d_out) # flatten the last 2 dimensions to get a single context vector for every token\n",
        "    context_vec = self.out_proj(context_vec)\n",
        "\n",
        "    return context_vec\n",
        "\n",
        "\n"
      ]
    },
    {
      "cell_type": "markdown",
      "metadata": {
        "id": "Apj80VdrdZRs"
      },
      "source": [
        "instance :"
      ]
    },
    {
      "cell_type": "code",
      "execution_count": 50,
      "metadata": {
        "colab": {
          "base_uri": "https://localhost:8080/"
        },
        "id": "Fl0EFYaidaPt",
        "outputId": "d099128b-c63e-4ab1-8cfd-3111a458b3ba"
      },
      "outputs": [
        {
          "name": "stdout",
          "output_type": "stream",
          "text": [
            "tensor([[[-0.1575, -0.2885, -0.0279, -0.3526,  0.2802,  0.1826],\n",
            "         [-0.3522, -0.0716, -0.0073, -0.3403, -0.0790, -0.0936],\n",
            "         [-0.5049, -0.0105,  0.1023, -0.4373, -0.0580, -0.1559]],\n",
            "\n",
            "        [[-0.1575, -0.2885, -0.0279, -0.3526,  0.2802,  0.1826],\n",
            "         [-0.3522, -0.0716, -0.0073, -0.3403, -0.0790, -0.0936],\n",
            "         [-0.5049, -0.0105,  0.1023, -0.4373, -0.0580, -0.1559]]],\n",
            "       grad_fn=<ViewBackward0>)\n",
            "context vector shape:  torch.Size([2, 3, 6])\n"
          ]
        }
      ],
      "source": [
        "inputs = torch.randn(3,6)\n",
        "batch = torch.stack((inputs,inputs),dim = 0)\n",
        "\n",
        "batch_size , context_length , d_in = batch.shape\n",
        "d_out = 6\n",
        "\n",
        "mha = MultiHeadAttention(d_in,d_out,context_length,num_heads = 2,dropout_rate = 0.0)\n",
        "context_vectors = mha(batch)\n",
        "print(context_vectors)\n",
        "print(\"context vector shape: \" , context_vectors.shape)"
      ]
    },
    {
      "cell_type": "markdown",
      "metadata": {
        "id": "84C3GMk_eF9G"
      },
      "source": [
        "In the above example : there are 3 tokens and context length = 6 , input embedding dimension (d_in = 6)  , there are 2 attention heads\n",
        "\n",
        "Generally in GPTs (d_in = d_out)"
      ]
    },
    {
      "cell_type": "markdown",
      "metadata": {
        "id": "s_5WAmfokbB7"
      },
      "source": [
        "# Building GPT Model from Scratch to generate text  "
      ]
    },
    {
      "cell_type": "code",
      "execution_count": 51,
      "metadata": {
        "id": "QKVV1gV9kZXJ"
      },
      "outputs": [],
      "source": [
        "GPT_CONFIG_124M = {\n",
        "    \"vocab_size\":50257,\n",
        "    \"context_length\":1024,\n",
        "    \"emb_dim\":768,\n",
        "    \"n_heads\":12,\n",
        "    \"n_layers\":12,\n",
        "    \"dropout\":0.1,\n",
        "    \"qkv_bias\":False\n",
        "}\n",
        "\n"
      ]
    },
    {
      "cell_type": "markdown",
      "metadata": {
        "id": "P7F7UJq5wbgQ"
      },
      "source": [
        "## GPT BackBone"
      ]
    },
    {
      "cell_type": "code",
      "execution_count": 52,
      "metadata": {
        "id": "MnpLFD4XdieD"
      },
      "outputs": [],
      "source": [
        "class DummyGPTModel(nn.Module):\n",
        "  def __init__(self,cfg):\n",
        "    super().__init__()\n",
        "    self.tok_emb = nn.Embeding(cfg['vocab_size'],cfg['emb_dim'])\n",
        "    self.pos_emb = nn.Embedding(cfg['context_length'],cfg['emb_dim'])\n",
        "    self.drop_emb = nn.Dropout(cfg['drop_rate'])\n",
        "\n",
        "    # use a placeholder for transformer Block\n",
        "    self.trf_blocks = nn.Sequential(\n",
        "        *[DummyTransformerBlock(cfg) for _ in range(cfg['n_layers'])]\n",
        "    )\n",
        "\n",
        "    # Use a placeholder for Layernorm\n",
        "    self.final_norm = DummyLayerNorm(cfg['emb_dim'])\n",
        "    self.out_head = nn.Linear(cfg['emb_dim'],cfg['vocab_size'],bias = Flase)\n",
        "\n",
        "\n",
        "  def forward(self,in_idx):\n",
        "    batch_size , seq_len = in_idx.shape\n",
        "    tok_embeds = self.tok_emb(in_idx)\n",
        "    pos_embeds = self.pos_emb(torch.arange(seq_len,device = in_idx.device))\n",
        "    x = tok_embeds + pos_embeds\n",
        "    x = self.drop_emb(x)\n",
        "    x = self.trf_blocks(x)\n",
        "    x = self.final_norm(x)\n",
        "    logits = self.out_head(x)\n",
        "    return logits\n",
        "\n",
        "class DummyTransformerBlock(nn.Module):\n",
        "  def __init__(self,cfg):\n",
        "    super().__init__()\n",
        "    self.ln1 = DummyLayerNorm(cfg['emb_dim'])\n",
        "\n",
        "  def forward(self,x):\n",
        "\n",
        "    return x\n",
        "\n",
        "class DummyLayerNorm(nn.Module):\n",
        "  def __init__(self,cfg):\n",
        "    super().__init__()\n",
        "\n",
        "  def forward(self,x):\n",
        "\n",
        "    return x\n",
        "\n",
        "\n"
      ]
    },
    {
      "cell_type": "markdown",
      "metadata": {
        "id": "xpDhxeopweoP"
      },
      "source": [
        "## Layer Normalization"
      ]
    },
    {
      "cell_type": "markdown",
      "metadata": {
        "id": "WCJBSH_uwqob"
      },
      "source": [
        "To resolve Vanishing / Exploding Gradients\n",
        "\n",
        "This stabilizes the training\n",
        "\n",
        "Prevents internal covariant shift -> accelerates convergence\n",
        "\n",
        "**Main Idea** : make sure that the output of every Layer has mean = 0 & variance = 1 [ (x - mue)/stddev ]\n",
        "\n",
        "\n",
        "This appears before and after Multi-Head-Attention layer and also once before final Layer\n",
        "\n"
      ]
    },
    {
      "cell_type": "code",
      "execution_count": 53,
      "metadata": {
        "id": "6pRwHqzfwiFr"
      },
      "outputs": [],
      "source": [
        "class LayerNorm(nn.Module):\n",
        "  def __init__(self,emb_dim):\n",
        "    super().__init__()\n",
        "    self.eps = 1e-5\n",
        "    self.scale = nn.Parameter(torch.ones(emb_dim)) # Trainable Parameters\n",
        "    self.shift = nn.Parameter(torch.zeros(emb_dim))\n",
        "\n",
        "  def forward(self,x):\n",
        "    mean = x.mean(dim = -1 , keepdim = True)\n",
        "    var = x.var(dim = -1 , keepdim = True , unbiased = False)\n",
        "    norm_x = (x-mean)/ torch.sqrt(var + self.eps)\n",
        "    return self.scale * norm_x + self.shift\n"
      ]
    },
    {
      "cell_type": "markdown",
      "metadata": {
        "id": "BS1zNzeY2bEu"
      },
      "source": [
        "## Feed Forward Block"
      ]
    },
    {
      "cell_type": "markdown",
      "metadata": {
        "id": "3xqZcmR66fpY"
      },
      "source": [
        "* input = dimension of embedding (768 here)\n",
        "* 1 hidden layer with neurons = 4 * input dimension\n",
        "* Output dimension = Input dimension"
      ]
    },
    {
      "cell_type": "markdown",
      "metadata": {
        "id": "hHu77we922qB"
      },
      "source": [
        "### GELU activation\n",
        "\n",
        "* GELU(x) = x * CDF(std Gaussian districution)\n",
        "\n",
        "* simplified (approximation) :\n",
        " GELU(x) ≈ 0.5 * x * (1 + tanh(√(2/π) * (x + 0.044715 * x³)))\n",
        "\n",
        "* Differentiable at 0\n",
        "\n",
        "* not all negative values have output strictly 0 , therefore solves the dead neuron problem\n",
        "\n",
        "* Very similar to RELU for > 0"
      ]
    },
    {
      "cell_type": "code",
      "execution_count": 54,
      "metadata": {
        "id": "UAz3zUmy1bpT"
      },
      "outputs": [],
      "source": [
        "class GELU(nn.Module):\n",
        "  def __init__(self):\n",
        "    super().__init__()\n",
        "\n",
        "  def forward(self , x):\n",
        "   return 0.5* x * (1+torch.tanh(torch.sqrt(torch.tensor(2.0/torch.pi))*(x + 0.044715 * torch.pow(x,3))))\n"
      ]
    },
    {
      "cell_type": "code",
      "execution_count": 55,
      "metadata": {
        "id": "4d3KSpmQ59jH"
      },
      "outputs": [],
      "source": [
        "class FeedForward(nn.Module):\n",
        "  def __init__(self,cfg):\n",
        "    super().__init__()\n",
        "    self.Layers = nn.Sequential(\n",
        "        nn.Linear(cfg['emb_dim'],4*cfg['emb_dim']),\n",
        "        GELU(),\n",
        "        nn.Linear(4*cfg['emb_dim'],cfg['emb_dim']),\n",
        "\n",
        "    )\n",
        "\n",
        "  def forward(self,x):\n",
        "    return self.Layers(x)"
      ]
    },
    {
      "cell_type": "markdown",
      "metadata": {
        "id": "XI-Q1OJUBCmg"
      },
      "source": [
        "### Shortcut Connections\n",
        "\n",
        "* Solves the problem of vanishing Gradients\n",
        "\n",
        "* We add the output of one layer to the output of next layer\n",
        "\n",
        "* Makes loss function landscape smoother which makes gradient smoother"
      ]
    },
    {
      "cell_type": "markdown",
      "metadata": {
        "id": "O5fADVkxEtPr"
      },
      "source": [
        "## Full Transformer Block (GPT-2)"
      ]
    },
    {
      "cell_type": "markdown",
      "metadata": {
        "id": "n6-lLdkLHEVJ"
      },
      "source": [
        "* The transformer block preserves the dimensions , thats why it is easy to stack multiple blocks\n"
      ]
    },
    {
      "cell_type": "code",
      "execution_count": 56,
      "metadata": {
        "id": "Xboq_jmmBFbr"
      },
      "outputs": [],
      "source": [
        "class TransformerBlock(nn.Module):\n",
        "  def __init__(self,cfg):\n",
        "    super().__init__()\n",
        "    self.att = MultiHeadAttention(\n",
        "        d_in = cfg[\"emb_dim\"],\n",
        "        d_out = cfg[\"emb_dim\"],\n",
        "        context_length = cfg[\"context_length\"],\n",
        "        num_heads = cfg[\"n_heads\"],\n",
        "        dropout_rate = cfg[\"dropout\"],\n",
        "        qkv_bias = cfg[\"qkv_bias\"])\n",
        "    self.ff = FeedForward(cfg)\n",
        "    self.norm1 = LayerNorm(cfg[\"emb_dim\"])\n",
        "    self.norm2 = LayerNorm(cfg[\"emb_dim\"])\n",
        "    self.drop_shortcut = nn.Dropout(cfg[\"dropout\"])\n",
        "\n",
        "  def forward(self,x):\n",
        "    # Shortcut Conncetion for attention block\n",
        "    shortcut = x\n",
        "    x = self.norm1(x)\n",
        "    x = self.att(x)\n",
        "    x = self.drop_shortcut(x)\n",
        "    x = x + shortcut\n",
        "\n",
        "    # Shortcut connection for feed forward block\n",
        "    shortcut = x\n",
        "    x = self.norm2(x)\n",
        "    x = self.ff(x)\n",
        "    x = self.drop_shortcut(x)\n",
        "    x = x + shortcut\n",
        "\n",
        "    return x\n",
        "\n",
        "\n"
      ]
    },
    {
      "cell_type": "markdown",
      "metadata": {
        "id": "mR65UsIxKNTn"
      },
      "source": [
        "instance"
      ]
    },
    {
      "cell_type": "code",
      "execution_count": 57,
      "metadata": {
        "colab": {
          "base_uri": "https://localhost:8080/"
        },
        "id": "qeNjH_qMKDbK",
        "outputId": "9ad19b64-fd26-4734-bbf2-bfdbd433ab1d"
      },
      "outputs": [
        {
          "name": "stdout",
          "output_type": "stream",
          "text": [
            "Input shape torch.Size([2, 4, 768])\n",
            "Output shape torch.Size([2, 4, 768])\n"
          ]
        }
      ],
      "source": [
        "torch.manual_seed(420)\n",
        "x = torch.randn(2,4,768) # 2 batches ; each batch -> 4 tokens ; each token -> 768 dim embedding\n",
        "block = TransformerBlock(GPT_CONFIG_124M)\n",
        "output = block(x)\n",
        "\n",
        "print(\"Input shape\" , x.shape)\n",
        "print(\"Output shape\" , output.shape)\n"
      ]
    },
    {
      "cell_type": "markdown",
      "metadata": {
        "id": "lCP5YfhtZ8tW"
      },
      "source": [
        "## Class GPT Model"
      ]
    },
    {
      "cell_type": "markdown",
      "metadata": {
        "id": "SZgzJb-Cd78o"
      },
      "source": [
        "Total Number of parameters = 124M"
      ]
    },
    {
      "cell_type": "code",
      "execution_count": 58,
      "metadata": {
        "id": "DiZAexUmKtFk"
      },
      "outputs": [],
      "source": [
        "class GPTModel(nn.Module):\n",
        "  def __init__(self,cfg):\n",
        "    super().__init__()\n",
        "    self.tok_emb = nn.Embedding(cfg['vocab_size'],cfg['emb_dim'])\n",
        "    self.pos_emb = nn.Embedding(cfg['context_length'],cfg['emb_dim'])\n",
        "    self.drop_emb = nn.Dropout(cfg['dropout'])\n",
        "\n",
        "    self.trf_blocks = nn.Sequential(\n",
        "        *[TransformerBlock(cfg) for _ in range(cfg['n_layers'])]\n",
        "    )\n",
        "\n",
        "    self.final_norm = LayerNorm(cfg['emb_dim'])\n",
        "    self.out_head = nn.Linear(cfg['emb_dim'],cfg['vocab_size'],bias = False)\n",
        "\n",
        "\n",
        "\n",
        "\n",
        "  def forward(self,in_idx):\n",
        "    batch_size , seq_len = in_idx.shape\n",
        "    tok_embeds = self.tok_emb(in_idx)\n",
        "    pos_embeds = self.pos_emb(torch.arange(seq_len,device = in_idx.device))\n",
        "    x = tok_embeds + pos_embeds # Shape [batch , num_tokens , emb_dim]\n",
        "\n",
        "    x = self.drop_emb(x)\n",
        "    x = self.trf_blocks(x)\n",
        "    x = self.final_norm(x)\n",
        "    logits = self.out_head(x)\n",
        "    return logits"
      ]
    },
    {
      "cell_type": "markdown",
      "metadata": {
        "id": "2pPu6mOybJqb"
      },
      "source": [
        "instance :"
      ]
    },
    {
      "cell_type": "code",
      "execution_count": 59,
      "metadata": {
        "colab": {
          "base_uri": "https://localhost:8080/"
        },
        "id": "c7Nu3CkHbK4R",
        "outputId": "4a2dd134-f4bc-4691-9ad4-6dd4fd5d4f60"
      },
      "outputs": [
        {
          "name": "stdout",
          "output_type": "stream",
          "text": [
            "Input batch\n",
            " tensor([[46103,  3007,  3776, 15611],\n",
            "        [42310, 31747,  1833, 39073]])\n",
            "Input shape\n",
            " torch.Size([2, 4])\n",
            "Output shape\n",
            " torch.Size([2, 4, 50257])\n",
            "Output batch\n",
            " tensor([[[-0.2298, -0.6678,  0.4102,  ..., -0.6716,  1.0854,  0.2116],\n",
            "         [ 0.6892,  0.1763,  0.6234,  ...,  0.8724,  0.1343,  1.4408],\n",
            "         [ 0.9255, -0.4244,  0.2204,  ...,  0.2753, -0.2813,  0.0440],\n",
            "         [-0.0114, -0.2595, -0.4595,  ..., -0.0491, -0.5639,  0.8802]],\n",
            "\n",
            "        [[ 0.0589,  0.0864,  2.0323,  ..., -0.5011,  1.5534, -1.2938],\n",
            "         [ 0.0175,  0.8676,  0.5706,  ..., -0.0299,  0.2419,  0.4955],\n",
            "         [ 1.0347,  1.5934,  0.8412,  ..., -0.0297, -0.3425,  0.0238],\n",
            "         [ 0.0410,  0.6639,  0.5011,  ..., -1.1873,  0.1577, -0.1997]]],\n",
            "       grad_fn=<UnsafeViewBackward0>)\n"
          ]
        }
      ],
      "source": [
        "model = GPTModel(GPT_CONFIG_124M)\n",
        "batch = torch.randint(0, GPT_CONFIG_124M['vocab_size'], (2, 4))\n",
        "out = model(batch)\n",
        "\n",
        "print(\"Input batch\\n\" , batch)\n",
        "print(\"Input shape\\n\" , batch.shape)\n",
        "print(\"Output shape\\n\" , out.shape)\n",
        "print(\"Output batch\\n\" , out)"
      ]
    },
    {
      "cell_type": "markdown",
      "metadata": {
        "id": "8JiTtpbQdSP0"
      },
      "source": [
        "Output Tensor has :\n",
        "* 2 batches -> 2 sets of input sentences\n",
        "* 4 rows -> 4 input tokens in each batch\n",
        "* 50257 columns -> size of vocab , i.e the column number with the highest value will be predicted as next token for each input token. **[4 predictions happen]**"
      ]
    },
    {
      "cell_type": "markdown",
      "metadata": {
        "id": "niKcSUP9efnX"
      },
      "source": [
        "## Text Generations from Output Tensor"
      ]
    },
    {
      "cell_type": "markdown",
      "metadata": {
        "id": "LplhPyfyfuxA"
      },
      "source": [
        "* extract the last vector from the tensor\n",
        "* convert the logits to probability\n",
        "* Identify the index position with highest probability ( Token ID )\n",
        "* Append token ID to the previous inpouts for next round"
      ]
    },
    {
      "cell_type": "code",
      "execution_count": 60,
      "metadata": {
        "id": "yQ5aUigskALD"
      },
      "outputs": [],
      "source": [
        "def generate_text_simple(model , idx , max_new_tokens , context_size):\n",
        "  # idx is (batch , n_tokens) array of indices in current context\n",
        "  for _ in range(max_new_tokens):\n",
        "    idx_cond = idx[:,-context_size:]\n",
        "\n",
        "    with torch.no_grad():\n",
        "      logits = model(idx_cond) # [batch , n_tokens , vocab_size]\n",
        "\n",
        "      # extract only the last time step\n",
        "      logits = logits[:,-1,:] # [batch , vocab_size]\n",
        "\n",
        "      probs = torch.softmax(logits,dim = -1) # convert to probabilities\n",
        "\n",
        "      idx_next = torch.argmax(probs,keepdim = True) # choose the token with highest probability\n",
        "\n",
        "      idx = torch.cat((idx,idx_next),dim=1) # append the predicted token [batch , n_tokens+1]\n",
        "\n",
        "  return idx\n"
      ]
    },
    {
      "cell_type": "code",
      "execution_count": 61,
      "metadata": {
        "colab": {
          "base_uri": "https://localhost:8080/"
        },
        "id": "u7ugHWe2kYen",
        "outputId": "29ea8783-f687-4216-c7cd-7e4883748c74"
      },
      "outputs": [
        {
          "name": "stdout",
          "output_type": "stream",
          "text": [
            "encoded: [15496, 11, 314, 716]\n",
            "encoded tensor shape: torch.Size([1, 4])\n"
          ]
        }
      ],
      "source": [
        "start_context = \"Hello, I am\"\n",
        "encoded = tokenizer.encode(start_context)\n",
        "print('encoded:',encoded)\n",
        "encoded_tensor = torch.tensor(encoded).unsqueeze(0)\n",
        "print('encoded tensor shape:',encoded_tensor.shape)"
      ]
    },
    {
      "cell_type": "code",
      "execution_count": 62,
      "metadata": {
        "colab": {
          "base_uri": "https://localhost:8080/"
        },
        "id": "kP1KCsiYkzd5",
        "outputId": "d164377c-43a7-4b6e-9584-5f82ffc403ee"
      },
      "outputs": [
        {
          "name": "stdout",
          "output_type": "stream",
          "text": [
            "Output: tensor([[15496,    11,   314,   716, 47582, 11405, 49504, 22554, 28900, 19944]])\n",
            "Decoded: Hello, I am774 && kcalenergyHopu\n"
          ]
        }
      ],
      "source": [
        "model.eval()\n",
        "out = generate_text_simple(\n",
        "    model = model,\n",
        "    idx = encoded_tensor,\n",
        "    max_new_tokens = 6,\n",
        "    context_size = GPT_CONFIG_124M['context_length']\n",
        ")\n",
        "\n",
        "print(\"Output:\" , out)\n",
        "print(\"Decoded:\" , tokenizer.decode(out[0].tolist()))\n"
      ]
    },
    {
      "cell_type": "markdown",
      "metadata": {
        "id": "QpdrZrxZrBol"
      },
      "source": [
        "# Pretraining our LLM"
      ]
    },
    {
      "cell_type": "markdown",
      "metadata": {
        "id": "pdtm8nGmrE1C"
      },
      "source": [
        "## Loss function\n",
        "\n",
        "* wrt all the tokens take the output given by the LLM (tokens with the highest probabilities) and concatenate them\n",
        "* similarly take the target tokens and concatenate them\n",
        "* Train to make the probabilities of target tokens 1."
      ]
    },
    {
      "cell_type": "code",
      "execution_count": 63,
      "metadata": {
        "id": "lTqUJu6UlYiO"
      },
      "outputs": [],
      "source": [
        "GPT_CONFIG_124M = {\n",
        "    \"vocab_size\":50257,\n",
        "    \"context_length\":256, # reduce computationa overhead\n",
        "    \"emb_dim\":768,\n",
        "    \"n_heads\":12,\n",
        "    \"n_layers\":12,\n",
        "    \"dropout\":0.1,\n",
        "    \"qkv_bias\":False\n",
        "}\n",
        "\n",
        "model = GPTModel(GPT_CONFIG_124M)\n",
        "model.eval();"
      ]
    },
    {
      "cell_type": "code",
      "execution_count": 64,
      "metadata": {
        "id": "-xCm20QXuELW"
      },
      "outputs": [],
      "source": [
        "def text_to_token_ids(text , tokenizer):\n",
        "  encoded = tokenizer.encode(text,allowed_special={'<|endoftext|>'})\n",
        "  encoded_tensor = torch.tensor(encoded).unsqueeze(0) # add batch dimension\n",
        "  return encoded_tensor\n",
        "\n",
        "def token_ids_to_text(token_ids , tokenizer):\n",
        "  flat = token_ids.squeeze(0) # remove batch dimension\n",
        "  return tokenizer.decode(flat.tolist())\n",
        "\n",
        "# start_context = \"every effort moves you\"\n",
        "# tokenizer = tiktoken.get_encoding(\"gpt2\")\n",
        "\n",
        "# token_ids = generate_text_simple(\n",
        "#     model = model,\n",
        "#     idx = text_to_token_ids(start_context,tokenizer),\n",
        "#     max_new_tokens = 10,\n",
        "#     context_size = GPT_CONFIG_124M['context_length']\n",
        "# )\n",
        "\n",
        "\n",
        "# print(\"Output:\" , token_ids_to_text(token_ids,tokenizer))"
      ]
    },
    {
      "cell_type": "markdown",
      "metadata": {
        "id": "i4arm0HGwtq9"
      },
      "source": [
        "### Cross entropy loss\n",
        "\n",
        "Negative Log Likelihood"
      ]
    },
    {
      "cell_type": "markdown",
      "metadata": {
        "id": "zI80kTjqg6JE"
      },
      "source": [
        "CREATING THE DATASET"
      ]
    },
    {
      "cell_type": "code",
      "execution_count": 65,
      "metadata": {
        "id": "UGWyUjn-vTzk"
      },
      "outputs": [],
      "source": [
        "from torch.utils.data import Dataset , DataLoader\n",
        "import tiktoken\n",
        "\n",
        "class GPTDatasetV1(Dataset):\n",
        "  def __init__(self,txt,stride,max_length,tokenizer):\n",
        "    self.input_ids = []\n",
        "    self.target_ids = []\n",
        "\n",
        "    # Tokenize the entire text\n",
        "    token_ids = tokenizer.encode(txt,allowed_special = {'<|endoftext|>'})\n",
        "\n",
        "    # Use striding window to chunk the book\n",
        "    for i in range(0,len(token_ids)-max_length,stride):\n",
        "      input_chunk = token_ids[i:i+max_length]\n",
        "      target_chunk = token_ids[i+1:i+max_length+1]\n",
        "      self.input_ids.append(torch.tensor(input_chunk)) # Convert to tensor here\n",
        "      self.target_ids.append(torch.tensor(target_chunk)) # Convert to tensor here\n",
        "\n",
        "\n",
        "  def __len__(self):\n",
        "    return len(self.input_ids)\n",
        "\n",
        "  def __getitem__(self,idx):\n",
        "    return self.input_ids[idx],self.target_ids[idx]\n",
        "\n",
        "\n"
      ]
    },
    {
      "cell_type": "code",
      "execution_count": 66,
      "metadata": {
        "id": "qvpNwCbqnZFk"
      },
      "outputs": [],
      "source": [
        "def create_dataloader(txt,batch_size = 4 , max_length = 256 , stride = 128 , shuffle = True , drop_last = True, num_workers = 0):\n",
        "\n",
        "    tokenizer = tiktoken.get_encoding(\"gpt2\")\n",
        "\n",
        "    dataset = GPTDatasetV1(txt,stride,max_length,tokenizer)\n",
        "\n",
        "    dataloader = DataLoader(dataset,batch_size = batch_size,shuffle = shuffle,drop_last = drop_last,num_workers = num_workers)\n",
        "\n",
        "    return dataloader\n"
      ]
    },
    {
      "cell_type": "code",
      "execution_count": 67,
      "metadata": {
        "id": "TS8sVbc4eplI"
      },
      "outputs": [],
      "source": [
        "train_ratio = 0.90\n",
        "split_idx = int(train_ratio * len(raw_text))\n",
        "train_data = raw_text[:split_idx]\n",
        "val_data = raw_text[split_idx:]\n",
        "\n",
        "train_loader = create_dataloader(\n",
        "    train_data,\n",
        "    batch_size = 2,\n",
        "    max_length = GPT_CONFIG_124M['context_length'],\n",
        "    stride = GPT_CONFIG_124M['context_length'],\n",
        "    shuffle = True,\n",
        "    drop_last = True,\n",
        "    num_workers = 0\n",
        ")\n",
        "\n",
        "val_loader = create_dataloader(\n",
        "    val_data,\n",
        "    batch_size = 2,\n",
        "    max_length = GPT_CONFIG_124M['context_length'],\n",
        "    stride = GPT_CONFIG_124M['context_length'],\n",
        "    shuffle = True,\n",
        "    drop_last = True,\n",
        "    num_workers = 0\n",
        "\n",
        ")"
      ]
    },
    {
      "cell_type": "code",
      "execution_count": 68,
      "metadata": {
        "colab": {
          "base_uri": "https://localhost:8080/"
        },
        "id": "SSeSPlsSjrhE",
        "outputId": "a0e22a90-5d15-4ef5-a133-71d6d45c736a"
      },
      "outputs": [
        {
          "name": "stdout",
          "output_type": "stream",
          "text": [
            "Training tokens: 274944\n",
            "Validation tokens: 29696\n"
          ]
        }
      ],
      "source": [
        "train_tokens = 0\n",
        "\n",
        "for input_batch,target_batch in train_loader:\n",
        "  train_tokens += input_batch.numel()\n",
        "\n",
        "val_tokens = 0\n",
        "\n",
        "for input_batch,target_batch in val_loader:\n",
        "  val_tokens += input_batch.numel()\n",
        "\n",
        "print('Training tokens:',train_tokens)\n",
        "print('Validation tokens:',val_tokens)"
      ]
    },
    {
      "cell_type": "code",
      "execution_count": 69,
      "metadata": {
        "id": "my7RhvR6nst4"
      },
      "outputs": [],
      "source": [
        "model = GPTModel(GPT_CONFIG_124M)\n",
        "model.eval();"
      ]
    },
    {
      "cell_type": "code",
      "execution_count": 70,
      "metadata": {
        "id": "VgDRfacNjrdr"
      },
      "outputs": [],
      "source": [
        "def calc_loss_batch(input_batch , target_batch , model , device):\n",
        "  input_batch , target_batch = input_batch.to(device) , target_batch.to(device)\n",
        "  logits = model(input_batch)\n",
        "  loss = torch.nn.functional.cross_entropy(logits.flatten(0,1),target_batch.flatten())\n",
        "  return loss\n",
        "\n",
        "def calc_loss_loader(data_loader,model,device,num_batches=None):\n",
        "  total_loss = 0.0\n",
        "  if len(data_loader) == 0:\n",
        "    return float(\"nan\")\n",
        "  elif num_batches is None:\n",
        "    num_batches = len(data_loader)\n",
        "  else:\n",
        "    # Reduce the number of batches to match the total number of batches in the data loader\n",
        "    # if num_batches exeeds the number of batches in the data loader\n",
        "    num_batches = min(num_batches , len(data_loader))\n",
        "  for i , (input_batch, target_batch) in enumerate(data_loader):\n",
        "    if i >= num_batches:\n",
        "      break\n",
        "    else:\n",
        "      loss = calc_loss_batch(input_batch,target_batch,model,device)\n",
        "      total_loss += loss.item()\n",
        "\n",
        "  return total_loss / num_batches # mean loss per batch\n"
      ]
    },
    {
      "cell_type": "code",
      "execution_count": 71,
      "metadata": {
        "colab": {
          "base_uri": "https://localhost:8080/"
        },
        "id": "ng9FhRk6jrbp",
        "outputId": "8a9c6424-2e03-4d6a-a50c-9d7a92e87ce1"
      },
      "outputs": [
        {
          "name": "stdout",
          "output_type": "stream",
          "text": [
            "Train loss: 11.000955333034863\n",
            "Validation loss: 10.998758102285452\n"
          ]
        }
      ],
      "source": [
        "device = torch.device('mps' if torch.backends.mps.is_available() else 'cpu')\n",
        "\n",
        "\n",
        "model.to(device)\n",
        "torch.manual_seed(123)\n",
        "\n",
        "with torch.no_grad():\n",
        "  train_loss = calc_loss_loader(train_loader,model,device)\n",
        "  val_loss = calc_loss_loader(val_loader,model,device)\n",
        "\n",
        "print('Train loss:',train_loss)\n",
        "print('Validation loss:',val_loss)"
      ]
    },
    {
      "cell_type": "markdown",
      "metadata": {
        "id": "j1TFsglizltt"
      },
      "source": [
        "## Training Loop for LLM"
      ]
    },
    {
      "cell_type": "code",
      "execution_count": 72,
      "metadata": {
        "id": "7S6nUtd9rMc-"
      },
      "outputs": [],
      "source": [
        "def train_model_simple(model , train_loader , val_loader , optimizer , num_epochs,\n",
        "                       eval_freq  , eval_iter , start_context , tokenizer):\n",
        "\n",
        "  # initialize lists to track losses and tokens seen\n",
        "  train_losses = []\n",
        "  val_losses = []\n",
        "  track_tokens_seen = []\n",
        "\n",
        "  tokens_seen , global_step = 0,-1\n",
        "\n",
        "  # Main training loop\n",
        "  for epoch in range(num_epochs):\n",
        "    model.train() # Set model to training mode\n",
        "\n",
        "    for input_batch , target_batch in train_loader:\n",
        "      optimizer.zero_grad() # Resent loss gradients from prev batch iteration\n",
        "      loss = calc_loss_batch(input_batch,target_batch,model,device)\n",
        "      loss.backward() # calculate gradients\n",
        "      optimizer.step() # update model weights using loss gradients\n",
        "      tokens_seen += input_batch.numel() # total number of elements seen\n",
        "      global_step += 1\n",
        "\n",
        "      # Evaluation step (optional)\n",
        "      if global_step % eval_freq == 0:\n",
        "        train_loss , val_loss = evaluate_model(\n",
        "            model,train_loader,val_loader,device,eval_iter\n",
        "        )\n",
        "\n",
        "        train_losses.append(train_loss)\n",
        "        val_losses.append(val_loss)\n",
        "        track_tokens_seen.append(tokens_seen)\n",
        "        print(f\"Epoch {epoch+1}/{num_epochs}, Train Loss: {train_loss:.4f}, Val Loss: {val_loss:.4f}\")\n",
        "\n",
        "      # Print sample text after each epoch\n",
        "    generate_and_print_sample(model,tokenizer , device , start_context)\n",
        "\n",
        "  return train_losses , val_losses , track_tokens_seen"
      ]
    },
    {
      "cell_type": "code",
      "execution_count": 73,
      "metadata": {
        "id": "QaokpVgo2eK_"
      },
      "outputs": [],
      "source": [
        "def evaluate_model(model , train_loader , val_loader , device , eval_iter):\n",
        "  model.eval()\n",
        "  with torch.no_grad():\n",
        "    train_loss = calc_loss_loader(train_loader,model,device,eval_iter)\n",
        "    val_loss = calc_loss_loader(val_loader,model,device,eval_iter)\n",
        "  model.train()\n",
        "  return train_loss , val_loss"
      ]
    },
    {
      "cell_type": "code",
      "execution_count": 74,
      "metadata": {
        "id": "ABzx18-e235v"
      },
      "outputs": [],
      "source": [
        "def generate_and_print_sample(model,tokenizer,device,start_context):\n",
        "  model.eval()\n",
        "  context_size = model.pos_emb.weight.shape[0]\n",
        "  encoded = text_to_token_ids(start_context,tokenizer).to(device)\n",
        "  with torch.no_grad():\n",
        "    token_ids = generate_text_simple(\n",
        "        model = model,\n",
        "        idx = encoded,\n",
        "        max_new_tokens = 50,\n",
        "        context_size = context_size\n",
        "\n",
        "    )\n",
        "  decoded_text = token_ids_to_text(token_ids,tokenizer)\n",
        "  print(decoded_text.replace(\"\\n\",\" \")) # compact print format\n",
        "  model.train()"
      ]
    },
    {
      "cell_type": "code",
      "execution_count": 75,
      "metadata": {
        "colab": {
          "base_uri": "https://localhost:8080/"
        },
        "id": "GIaqnfoy5vmh",
        "outputId": "1d3d7747-0276-4340-c22b-0add5f6b70a0"
      },
      "outputs": [
        {
          "name": "stdout",
          "output_type": "stream",
          "text": [
            "Epoch 1/10, Train Loss: 9.6318, Val Loss: 9.6905\n",
            "Epoch 1/10, Train Loss: 6.2992, Val Loss: 6.4770\n",
            "Epoch 1/10, Train Loss: 6.0306, Val Loss: 6.0300\n",
            "Epoch 1/10, Train Loss: 6.0126, Val Loss: 6.0433\n",
            "Epoch 1/10, Train Loss: 5.3129, Val Loss: 5.7403\n",
            "Epoch 1/10, Train Loss: 5.4534, Val Loss: 5.6020\n",
            "Epoch 1/10, Train Loss: 5.2887, Val Loss: 5.4057\n",
            "Epoch 1/10, Train Loss: 5.3623, Val Loss: 5.5741\n",
            "Epoch 1/10, Train Loss: 5.2550, Val Loss: 5.3756\n",
            "Epoch 1/10, Train Loss: 5.1752, Val Loss: 5.4600\n",
            "Epoch 1/10, Train Loss: 4.9277, Val Loss: 5.3823\n",
            "Epoch 1/10, Train Loss: 5.2819, Val Loss: 5.1696\n",
            "Epoch 1/10, Train Loss: 5.1701, Val Loss: 5.0768\n",
            "Epoch 1/10, Train Loss: 5.0132, Val Loss: 5.3034\n",
            "Epoch 1/10, Train Loss: 4.6912, Val Loss: 5.2400\n",
            "Epoch 1/10, Train Loss: 4.9724, Val Loss: 5.2158\n",
            "Epoch 1/10, Train Loss: 5.1680, Val Loss: 5.2313\n",
            "Epoch 1/10, Train Loss: 5.1063, Val Loss: 4.9833\n",
            "Epoch 1/10, Train Loss: 4.7575, Val Loss: 5.3988\n",
            "Epoch 1/10, Train Loss: 4.9596, Val Loss: 5.1197\n",
            "Epoch 1/10, Train Loss: 4.9292, Val Loss: 5.0882\n",
            "Epoch 1/10, Train Loss: 4.7544, Val Loss: 5.3803\n",
            "Every effort moves you’s,’s eyes,’s,’s,’s eyes.  ’s wand,’s wand,’s eyes. “I’s,’s\n",
            "Epoch 2/10, Train Loss: 4.6394, Val Loss: 4.9175\n",
            "Epoch 2/10, Train Loss: 4.4588, Val Loss: 5.1405\n",
            "Epoch 2/10, Train Loss: 4.8878, Val Loss: 4.9026\n",
            "Epoch 2/10, Train Loss: 4.7863, Val Loss: 5.0762\n",
            "Epoch 2/10, Train Loss: 4.4503, Val Loss: 5.1015\n",
            "Epoch 2/10, Train Loss: 4.6288, Val Loss: 5.1580\n",
            "Epoch 2/10, Train Loss: 4.3862, Val Loss: 5.1061\n",
            "Epoch 2/10, Train Loss: 4.8146, Val Loss: 4.9440\n",
            "Epoch 2/10, Train Loss: 4.5461, Val Loss: 5.2458\n",
            "Epoch 2/10, Train Loss: 4.6202, Val Loss: 4.9742\n",
            "Epoch 2/10, Train Loss: 4.5599, Val Loss: 5.1568\n",
            "Epoch 2/10, Train Loss: 4.5488, Val Loss: 5.0983\n",
            "Epoch 2/10, Train Loss: 4.2213, Val Loss: 5.2984\n",
            "Epoch 2/10, Train Loss: 4.2696, Val Loss: 4.9055\n",
            "Epoch 2/10, Train Loss: 4.3731, Val Loss: 4.7288\n",
            "Epoch 2/10, Train Loss: 4.4236, Val Loss: 4.9403\n",
            "Epoch 2/10, Train Loss: 4.2276, Val Loss: 4.9619\n",
            "Epoch 2/10, Train Loss: 4.4111, Val Loss: 5.2050\n",
            "Epoch 2/10, Train Loss: 4.6093, Val Loss: 4.8918\n",
            "Epoch 2/10, Train Loss: 4.3405, Val Loss: 4.7545\n",
            "Epoch 2/10, Train Loss: 4.4271, Val Loss: 4.9378\n",
            "Every effort moves you?”  “I shall you?” said Harry.”  “I shall you,” said Harry. “I shall not to the Death Eater.”  “I shall be\n",
            "Epoch 3/10, Train Loss: 4.3593, Val Loss: 4.9025\n",
            "Epoch 3/10, Train Loss: 4.4091, Val Loss: 4.9668\n",
            "Epoch 3/10, Train Loss: 4.0479, Val Loss: 5.0245\n",
            "Epoch 3/10, Train Loss: 4.4156, Val Loss: 4.6817\n",
            "Epoch 3/10, Train Loss: 4.1917, Val Loss: 4.8154\n",
            "Epoch 3/10, Train Loss: 4.3221, Val Loss: 5.0636\n",
            "Epoch 3/10, Train Loss: 4.0885, Val Loss: 4.6440\n",
            "Epoch 3/10, Train Loss: 4.0115, Val Loss: 4.4944\n",
            "Epoch 3/10, Train Loss: 3.9384, Val Loss: 5.0051\n",
            "Epoch 3/10, Train Loss: 3.8728, Val Loss: 4.8842\n",
            "Epoch 3/10, Train Loss: 4.0831, Val Loss: 4.8001\n",
            "Epoch 3/10, Train Loss: 3.8353, Val Loss: 4.7914\n",
            "Epoch 3/10, Train Loss: 3.7670, Val Loss: 4.8640\n",
            "Epoch 3/10, Train Loss: 3.8150, Val Loss: 4.8522\n",
            "Epoch 3/10, Train Loss: 4.0606, Val Loss: 4.7479\n",
            "Epoch 3/10, Train Loss: 4.1280, Val Loss: 4.8157\n",
            "Epoch 3/10, Train Loss: 4.0574, Val Loss: 4.8466\n",
            "Epoch 3/10, Train Loss: 3.8155, Val Loss: 4.9424\n",
            "Epoch 3/10, Train Loss: 3.8587, Val Loss: 4.8412\n",
            "Epoch 3/10, Train Loss: 3.7168, Val Loss: 4.6119\n",
            "Epoch 3/10, Train Loss: 3.9670, Val Loss: 4.7789\n",
            "Epoch 3/10, Train Loss: 3.8379, Val Loss: 4.6887\n",
            "Every effort moves you’ve got to the Ministry?”  “I’ve got you’re going to the Death Eaters?”  “I’s a few days,” said Harry. �\n",
            "Epoch 4/10, Train Loss: 3.8636, Val Loss: 5.0859\n",
            "Epoch 4/10, Train Loss: 4.0304, Val Loss: 4.7160\n",
            "Epoch 4/10, Train Loss: 3.6477, Val Loss: 4.8911\n",
            "Epoch 4/10, Train Loss: 3.8083, Val Loss: 4.9240\n",
            "Epoch 4/10, Train Loss: 3.7751, Val Loss: 4.8259\n",
            "Epoch 4/10, Train Loss: 3.6596, Val Loss: 4.6501\n",
            "Epoch 4/10, Train Loss: 3.4190, Val Loss: 5.0949\n",
            "Epoch 4/10, Train Loss: 3.7082, Val Loss: 4.8240\n",
            "Epoch 4/10, Train Loss: 3.8417, Val Loss: 4.7434\n",
            "Epoch 4/10, Train Loss: 3.5616, Val Loss: 4.9464\n",
            "Epoch 4/10, Train Loss: 3.4927, Val Loss: 4.5948\n",
            "Epoch 4/10, Train Loss: 3.6278, Val Loss: 4.7010\n",
            "Epoch 4/10, Train Loss: 3.6854, Val Loss: 4.6451\n",
            "Epoch 4/10, Train Loss: 3.4916, Val Loss: 4.6447\n",
            "Epoch 4/10, Train Loss: 3.4121, Val Loss: 4.9671\n",
            "Epoch 4/10, Train Loss: 4.0133, Val Loss: 4.7038\n",
            "Epoch 4/10, Train Loss: 3.7525, Val Loss: 4.9478\n",
            "Epoch 4/10, Train Loss: 3.3811, Val Loss: 4.5514\n",
            "Epoch 4/10, Train Loss: 3.4810, Val Loss: 4.8471\n",
            "Epoch 4/10, Train Loss: 3.5086, Val Loss: 4.5758\n",
            "Epoch 4/10, Train Loss: 3.4818, Val Loss: 4.8149\n",
            "Every effort moves you’s not be able to the same way,”  “What?” said Harry. “I’s not to do,” said Harry. “I’s not to the Ministry.\n",
            "Epoch 5/10, Train Loss: 3.8368, Val Loss: 4.6683\n",
            "Epoch 5/10, Train Loss: 3.3998, Val Loss: 4.9784\n",
            "Epoch 5/10, Train Loss: 3.3587, Val Loss: 4.8393\n",
            "Epoch 5/10, Train Loss: 3.2321, Val Loss: 4.6587\n",
            "Epoch 5/10, Train Loss: 3.5251, Val Loss: 4.7347\n",
            "Epoch 5/10, Train Loss: 3.4965, Val Loss: 4.8969\n",
            "Epoch 5/10, Train Loss: 3.2702, Val Loss: 4.6197\n",
            "Epoch 5/10, Train Loss: 3.2050, Val Loss: 4.4466\n",
            "Epoch 5/10, Train Loss: 3.5415, Val Loss: 4.8400\n",
            "Epoch 5/10, Train Loss: 3.1917, Val Loss: 4.9435\n",
            "Epoch 5/10, Train Loss: 3.5723, Val Loss: 4.9358\n",
            "Epoch 5/10, Train Loss: 3.2566, Val Loss: 5.0073\n",
            "Epoch 5/10, Train Loss: 3.1665, Val Loss: 4.7461\n",
            "Epoch 5/10, Train Loss: 3.4082, Val Loss: 4.8101\n",
            "Epoch 5/10, Train Loss: 2.9894, Val Loss: 4.7963\n",
            "Epoch 5/10, Train Loss: 3.2874, Val Loss: 4.8667\n",
            "Epoch 5/10, Train Loss: 3.0591, Val Loss: 5.0237\n",
            "Epoch 5/10, Train Loss: 3.2549, Val Loss: 4.7693\n",
            "Epoch 5/10, Train Loss: 3.0171, Val Loss: 4.6611\n",
            "Epoch 5/10, Train Loss: 3.1081, Val Loss: 4.7976\n",
            "Epoch 5/10, Train Loss: 3.0734, Val Loss: 4.8404\n",
            "Epoch 5/10, Train Loss: 3.0958, Val Loss: 5.1151\n",
            "Every effort moves you,”  “I'm going to go up,” said Harry, “I don't know why he's not in the real,”  “I don't know why you,”  \n",
            "Epoch 6/10, Train Loss: 2.9632, Val Loss: 4.8724\n",
            "Epoch 6/10, Train Loss: 2.8867, Val Loss: 5.0799\n",
            "Epoch 6/10, Train Loss: 3.0271, Val Loss: 4.6885\n",
            "Epoch 6/10, Train Loss: 2.7646, Val Loss: 4.7961\n",
            "Epoch 6/10, Train Loss: 2.7358, Val Loss: 4.9305\n",
            "Epoch 6/10, Train Loss: 2.6908, Val Loss: 4.8832\n",
            "Epoch 6/10, Train Loss: 3.0370, Val Loss: 4.8813\n",
            "Epoch 6/10, Train Loss: 3.0047, Val Loss: 4.9587\n",
            "Epoch 6/10, Train Loss: 2.7819, Val Loss: 4.9684\n",
            "Epoch 6/10, Train Loss: 3.0362, Val Loss: 4.9849\n",
            "Epoch 6/10, Train Loss: 2.7984, Val Loss: 4.9794\n",
            "Epoch 6/10, Train Loss: 2.7331, Val Loss: 5.1240\n",
            "Epoch 6/10, Train Loss: 2.7096, Val Loss: 4.8783\n",
            "Epoch 6/10, Train Loss: 2.9861, Val Loss: 4.6847\n",
            "Epoch 6/10, Train Loss: 2.7418, Val Loss: 4.5924\n",
            "Epoch 6/10, Train Loss: 3.0673, Val Loss: 4.9071\n",
            "Epoch 6/10, Train Loss: 2.7442, Val Loss: 4.5189\n",
            "Epoch 6/10, Train Loss: 2.7705, Val Loss: 4.7278\n",
            "Epoch 6/10, Train Loss: 2.7474, Val Loss: 5.1332\n",
            "Epoch 6/10, Train Loss: 2.4966, Val Loss: 5.1582\n",
            "Epoch 6/10, Train Loss: 2.8813, Val Loss: 4.8135\n",
            "Every effort moves you?”  “I think of it,” said Harry. “I dunno,”  “I think I think I think I think I think I think I think I think I think I think I think\n",
            "Epoch 7/10, Train Loss: 2.5500, Val Loss: 4.7567\n",
            "Epoch 7/10, Train Loss: 2.5331, Val Loss: 5.1781\n",
            "Epoch 7/10, Train Loss: 2.4212, Val Loss: 4.9516\n",
            "Epoch 7/10, Train Loss: 2.5176, Val Loss: 4.8749\n",
            "Epoch 7/10, Train Loss: 2.3231, Val Loss: 4.6427\n",
            "Epoch 7/10, Train Loss: 2.6810, Val Loss: 5.0499\n",
            "Epoch 7/10, Train Loss: 2.8899, Val Loss: 5.1745\n",
            "Epoch 7/10, Train Loss: 2.3547, Val Loss: 4.6811\n",
            "Epoch 7/10, Train Loss: 2.6542, Val Loss: 4.9778\n",
            "Epoch 7/10, Train Loss: 2.7196, Val Loss: 4.7157\n",
            "Epoch 7/10, Train Loss: 2.0000, Val Loss: 5.2602\n",
            "Epoch 7/10, Train Loss: 2.3898, Val Loss: 4.8201\n",
            "Epoch 7/10, Train Loss: 2.5327, Val Loss: 5.2947\n",
            "Epoch 7/10, Train Loss: 2.2337, Val Loss: 5.4390\n",
            "Epoch 7/10, Train Loss: 2.4176, Val Loss: 4.9800\n",
            "Epoch 7/10, Train Loss: 2.2979, Val Loss: 4.9179\n",
            "Epoch 7/10, Train Loss: 2.1146, Val Loss: 5.0919\n",
            "Epoch 7/10, Train Loss: 2.2837, Val Loss: 5.1730\n",
            "Epoch 7/10, Train Loss: 2.4801, Val Loss: 5.2492\n",
            "Epoch 7/10, Train Loss: 2.2166, Val Loss: 4.8007\n",
            "Epoch 7/10, Train Loss: 2.0247, Val Loss: 5.2867\n",
            "Epoch 7/10, Train Loss: 2.3045, Val Loss: 4.8511\n",
            "Every effort moves you,” said Ron. “I’m sorry,”  “I’s not a bit of Death Eaters,” said Ron.  “I’s got a lot. �\n",
            "Epoch 8/10, Train Loss: 2.1012, Val Loss: 5.4195\n",
            "Epoch 8/10, Train Loss: 2.0456, Val Loss: 5.0506\n",
            "Epoch 8/10, Train Loss: 1.9578, Val Loss: 5.2348\n",
            "Epoch 8/10, Train Loss: 2.0194, Val Loss: 4.9218\n",
            "Epoch 8/10, Train Loss: 1.8438, Val Loss: 4.9041\n",
            "Epoch 8/10, Train Loss: 2.1903, Val Loss: 4.7921\n",
            "Epoch 8/10, Train Loss: 1.9569, Val Loss: 5.4037\n",
            "Epoch 8/10, Train Loss: 1.9942, Val Loss: 5.2277\n",
            "Epoch 8/10, Train Loss: 1.8948, Val Loss: 5.1431\n",
            "Epoch 8/10, Train Loss: 1.7598, Val Loss: 5.3461\n",
            "Epoch 8/10, Train Loss: 2.0457, Val Loss: 5.3054\n",
            "Epoch 8/10, Train Loss: 1.8939, Val Loss: 5.3773\n",
            "Epoch 8/10, Train Loss: 2.0404, Val Loss: 5.1622\n",
            "Epoch 8/10, Train Loss: 1.9439, Val Loss: 5.5444\n",
            "Epoch 8/10, Train Loss: 2.1148, Val Loss: 5.3163\n",
            "Epoch 8/10, Train Loss: 1.9106, Val Loss: 5.3192\n",
            "Epoch 8/10, Train Loss: 1.6884, Val Loss: 5.3244\n",
            "Epoch 8/10, Train Loss: 1.8512, Val Loss: 5.1485\n",
            "Epoch 8/10, Train Loss: 1.8408, Val Loss: 4.8618\n",
            "Epoch 8/10, Train Loss: 1.8554, Val Loss: 5.4179\n",
            "Epoch 8/10, Train Loss: 1.6395, Val Loss: 5.5901\n",
            "Every effort moves you?”  “Yes,” said Harry. “I thought you knew what you were close your wand?”  “Yes,”  “Yes,” said Harry, “\n",
            "Epoch 9/10, Train Loss: 1.5553, Val Loss: 5.2849\n",
            "Epoch 9/10, Train Loss: 1.5892, Val Loss: 5.5332\n",
            "Epoch 9/10, Train Loss: 1.4452, Val Loss: 5.0931\n",
            "Epoch 9/10, Train Loss: 1.4545, Val Loss: 5.3161\n",
            "Epoch 9/10, Train Loss: 1.5126, Val Loss: 5.3469\n",
            "Epoch 9/10, Train Loss: 1.5599, Val Loss: 5.3167\n",
            "Epoch 9/10, Train Loss: 1.5497, Val Loss: 5.0210\n",
            "Epoch 9/10, Train Loss: 1.6463, Val Loss: 4.8847\n",
            "Epoch 9/10, Train Loss: 1.5720, Val Loss: 5.3528\n",
            "Epoch 9/10, Train Loss: 1.4686, Val Loss: 5.2425\n",
            "Epoch 9/10, Train Loss: 1.3631, Val Loss: 5.4797\n",
            "Epoch 9/10, Train Loss: 1.3225, Val Loss: 5.5789\n",
            "Epoch 9/10, Train Loss: 1.2114, Val Loss: 5.7995\n",
            "Epoch 9/10, Train Loss: 1.5244, Val Loss: 5.9038\n",
            "Epoch 9/10, Train Loss: 1.6391, Val Loss: 5.8417\n",
            "Epoch 9/10, Train Loss: 1.1557, Val Loss: 6.1157\n",
            "Epoch 9/10, Train Loss: 1.2154, Val Loss: 5.2462\n",
            "Epoch 9/10, Train Loss: 1.2517, Val Loss: 5.3698\n",
            "Epoch 9/10, Train Loss: 1.2355, Val Loss: 5.6133\n",
            "Epoch 9/10, Train Loss: 1.1489, Val Loss: 5.7002\n",
            "Epoch 9/10, Train Loss: 1.2845, Val Loss: 5.5379\n",
            "Epoch 9/10, Train Loss: 1.1840, Val Loss: 5.5059\n",
            "Every effort moves you?”  “I don’t know how you think I’t know you to tell you to do,” said Ron. “I mean?”  “I mean,” said\n",
            "Epoch 10/10, Train Loss: 1.2192, Val Loss: 5.5724\n",
            "Epoch 10/10, Train Loss: 1.0991, Val Loss: 5.8509\n",
            "Epoch 10/10, Train Loss: 0.9430, Val Loss: 5.8264\n",
            "Epoch 10/10, Train Loss: 1.0565, Val Loss: 5.8626\n",
            "Epoch 10/10, Train Loss: 1.1038, Val Loss: 5.6238\n",
            "Epoch 10/10, Train Loss: 0.9408, Val Loss: 5.9240\n",
            "Epoch 10/10, Train Loss: 1.0654, Val Loss: 5.9201\n",
            "Epoch 10/10, Train Loss: 1.0673, Val Loss: 5.6234\n",
            "Epoch 10/10, Train Loss: 1.0651, Val Loss: 5.9333\n",
            "Epoch 10/10, Train Loss: 0.6702, Val Loss: 5.9770\n",
            "Epoch 10/10, Train Loss: 0.7556, Val Loss: 5.9397\n",
            "Epoch 10/10, Train Loss: 1.2237, Val Loss: 5.5809\n",
            "Epoch 10/10, Train Loss: 0.9110, Val Loss: 5.7894\n",
            "Epoch 10/10, Train Loss: 1.0171, Val Loss: 5.8114\n",
            "Epoch 10/10, Train Loss: 1.0443, Val Loss: 6.0349\n",
            "Epoch 10/10, Train Loss: 0.8639, Val Loss: 6.0417\n",
            "Epoch 10/10, Train Loss: 1.0831, Val Loss: 5.6530\n",
            "Epoch 10/10, Train Loss: 0.8284, Val Loss: 6.1981\n",
            "Epoch 10/10, Train Loss: 0.9037, Val Loss: 5.9546\n",
            "Epoch 10/10, Train Loss: 0.9107, Val Loss: 5.9919\n",
            "Epoch 10/10, Train Loss: 0.9364, Val Loss: 5.6960\n",
            "Every effort moves you.”  “But isn't your sister in there,” said Ron. “I've been in a way through my place for you, but I've got to be -”  “But I've\n",
            "Training time: 2758.472484111786 seconds\n"
          ]
        }
      ],
      "source": [
        "import time\n",
        "start_time = time.time()\n",
        "\n",
        "model = GPTModel(GPT_CONFIG_124M)\n",
        "model.to(device)\n",
        "optimizer = torch.optim.AdamW(model.parameters(),lr = 0.0004 , weight_decay = 0.1)\n",
        "\n",
        "num_epochs = 10\n",
        "\n",
        "train_losses , val_losses , tokens_seen = train_model_simple(\n",
        "    model , train_loader , val_loader , optimizer ,\n",
        "    num_epochs , eval_freq = 25 , eval_iter = 5 ,\n",
        "    start_context = \"Every effort moves you\" , tokenizer = tokenizer\n",
        ")\n",
        "\n",
        "end_time = time.time()\n",
        "print(f\"Training time: {end_time - start_time} seconds\")"
      ]
    },
    {
      "cell_type": "markdown",
      "metadata": {
        "id": "QTeoD6jMAiyS"
      },
      "source": [
        "* Here we can see that model is overfitting and memorizing from dataset\n",
        "\n",
        "* Usually models are trained for single epoch using very large datasets\n",
        "\n",
        "* To reduce Overfitting , we control randomness"
      ]
    },
    {
      "cell_type": "markdown",
      "metadata": {
        "id": "dRjYY__NBXXL"
      },
      "source": [
        "## Reducing overfitting\n",
        "\n",
        "\n",
        "\n"
      ]
    },
    {
      "cell_type": "markdown",
      "metadata": {
        "id": "AR3fUxTjB6dB"
      },
      "source": [
        "### Decoding Stratergy - 1 : Temperature scaling\n",
        "\n",
        "* Until now we always sampled the next token which had the highest probability (Greedy decoding)\n",
        "\n",
        "* Now instead of 'argmax' we will sample next token according the probability distribution (multinomial function)\n",
        "\n"
      ]
    },
    {
      "cell_type": "markdown",
      "metadata": {
        "id": "VdZpQ7KiFbXO"
      },
      "source": [
        "* **Temperature scaling** : Before applying softmax , we divide the logits by temperature.\n",
        "\n",
        "1. Temperature < 1 : the difference between the probabilities becomes sharper (greedier)\n",
        "\n",
        "2. Temperature > 1 : the difference between probabilities lessen (becomes more uniform)"
      ]
    },
    {
      "cell_type": "code",
      "execution_count": 76,
      "metadata": {
        "id": "Slp_JXsb8O7U"
      },
      "outputs": [],
      "source": [
        "def print_sampled_tokens(probas):\n",
        "  sample = [torch.multinomial(probas,num_samples = 1) for _ in range(1000)]\n",
        "  sampled_ids = torch.bincount(torch.tensor(sample))\n",
        "  for i , freq in enumerate(sampled_ids):\n",
        "    print(f\"{freq} x {inverse_vocab[i]}\")\n",
        "\n"
      ]
    },
    {
      "cell_type": "code",
      "execution_count": 77,
      "metadata": {
        "id": "WWSR1eRPD-DT"
      },
      "outputs": [],
      "source": [
        "def softmax_with_temperature(logits , temperature):\n",
        "  scaled_logits = logits / temperature\n",
        "  return torch.softmax(scaled_logits,dim = 0)\n",
        "\n",
        "# after this multinomial is applied"
      ]
    },
    {
      "cell_type": "markdown",
      "metadata": {
        "id": "3mpGvIpCFZL7"
      },
      "source": [
        "## Decoding Stratergy - 2 : Top-k sampling"
      ]
    },
    {
      "cell_type": "markdown",
      "metadata": {
        "id": "h3FiEqQoJkHT"
      },
      "source": [
        "Extending the multinomial approach ; here we restrict the output to be one of the top-k tokens only , so that random tokens with very less probabilities could not appear  "
      ]
    },
    {
      "cell_type": "code",
      "execution_count": 78,
      "metadata": {
        "colab": {
          "base_uri": "https://localhost:8080/"
        },
        "id": "FxmwRM-RH96Z",
        "outputId": "1591845f-e232-45a1-a952-ce068db7f78d"
      },
      "outputs": [
        {
          "name": "stdout",
          "output_type": "stream",
          "text": [
            "tensor([9, 8, 7])\n",
            "tensor([8, 7, 6])\n"
          ]
        }
      ],
      "source": [
        "top_k = 3\n",
        "next_token_logits = torch.tensor([1,2,3,4,5,6,7,8,9])\n",
        "top_logits , top_pos = torch.topk(next_token_logits , top_k)\n",
        "print(top_logits)\n",
        "print(top_pos)\n"
      ]
    },
    {
      "cell_type": "code",
      "execution_count": 79,
      "metadata": {
        "colab": {
          "base_uri": "https://localhost:8080/"
        },
        "id": "5Hwqz5gKKlVV",
        "outputId": "37c746f9-2d1d-444c-d69f-d8524ff2bf76"
      },
      "outputs": [
        {
          "name": "stdout",
          "output_type": "stream",
          "text": [
            "tensor([-inf, -inf, -inf, -inf, -inf, -inf, 7., 8., 9.])\n"
          ]
        }
      ],
      "source": [
        "new_logits = torch.where(\n",
        "    condition = next_token_logits < top_logits[-1],\n",
        "    input = torch.tensor(float('-inf')),\n",
        "    other = next_token_logits\n",
        ")\n",
        "\n",
        "print(new_logits)"
      ]
    },
    {
      "cell_type": "code",
      "execution_count": 80,
      "metadata": {
        "colab": {
          "base_uri": "https://localhost:8080/"
        },
        "id": "jKO9Eg38LYid",
        "outputId": "a61d6172-951c-4096-f350-1e961cf5f5c4"
      },
      "outputs": [
        {
          "name": "stdout",
          "output_type": "stream",
          "text": [
            "tensor([0.0000, 0.0000, 0.0000, 0.0000, 0.0000, 0.0000, 0.0900, 0.2447, 0.6652])\n"
          ]
        }
      ],
      "source": [
        "topk_probabs = torch.softmax(new_logits,dim = 0)\n",
        "print(topk_probabs)"
      ]
    },
    {
      "cell_type": "markdown",
      "metadata": {
        "id": "HowHdDggLwuh"
      },
      "source": [
        "### Merge Both the methods"
      ]
    },
    {
      "cell_type": "code",
      "execution_count": 81,
      "metadata": {
        "id": "WN6lbf8FLqSQ"
      },
      "outputs": [],
      "source": [
        "def generate(model , idx , max_new_tokens,context_size,temperature = 0.0 , top_k = None , eos_id = None):\n",
        "\n",
        "  # Get the device of the model\n",
        "  device = next(model.parameters()).device\n",
        "\n",
        "  for _ in range(max_new_tokens):\n",
        "    # Ensure the input tensor for the current step is on the correct device\n",
        "    idx_cond = idx[:,-context_size:].to(device)\n",
        "\n",
        "    with torch.no_grad():\n",
        "      logits = model(idx_cond) # [batch , n_tokens , vocab_size]\n",
        "    logits = logits[:,-1,:] # [batch , vocab_size]\n",
        "\n",
        "    if top_k is not None:\n",
        "      # Move top_logits calculation to the device\n",
        "      top_logits = torch.topk(logits,top_k)\n",
        "      min_val = top_logits.values[:,-1] # Access values attribute\n",
        "      logits = torch.where(logits<min_val,torch.tensor(float('-inf'), device=device),logits) # Ensure -inf is on the correct device\n",
        "\n",
        "    if temperature > 0.0:\n",
        "      logits = logits / temperature\n",
        "\n",
        "      probs = torch.softmax(logits,dim=-1) # [batch_size , context_len]\n",
        "\n",
        "      idx_next = torch.multinomial(probs,num_samples=1) # [batch_size , 1]\n",
        "\n",
        "    else:\n",
        "      idx_next = torch.argmax(logits,dim=-1,keepdim=True) # [batch_size , 1]\n",
        "\n",
        "    if idx_next == eos_id : # stop generating\n",
        "      break\n",
        "\n",
        "    # Ensure idx_next is on the CPU before concatenation if idx is on CPU,\n",
        "    # or keep it on device if idx is on device\n",
        "    if idx.device != idx_next.device:\n",
        "        idx_next = idx_next.to(idx.device)\n",
        "\n",
        "    idx = torch.cat((idx , idx_next),dim = 1 )\n",
        "\n",
        "  return idx"
      ]
    },
    {
      "cell_type": "markdown",
      "metadata": {
        "id": "RY7FlFe8O1_M"
      },
      "source": [
        "test :"
      ]
    },
    {
      "cell_type": "code",
      "execution_count": 82,
      "metadata": {
        "colab": {
          "base_uri": "https://localhost:8080/"
        },
        "id": "kpwTvsOOOsuf",
        "outputId": "e20315b7-1651-48df-d86a-d1c8c35b962d"
      },
      "outputs": [
        {
          "name": "stdout",
          "output_type": "stream",
          "text": [
            "Output text\n",
            " Every effort moves you look through you’ your dad. . . . . . .”\n",
            "\n",
            "“Thank you – we should\n"
          ]
        }
      ],
      "source": [
        "token_ids = generate(\n",
        "    model = model,\n",
        "    idx = text_to_token_ids(\"Every effort moves you\",tokenizer),\n",
        "    max_new_tokens = 25,\n",
        "    context_size = GPT_CONFIG_124M['context_length'],\n",
        "    temperature = 1.4,\n",
        "    top_k = 25\n",
        ")\n",
        "\n",
        "print('Output text\\n' , token_ids_to_text(token_ids,tokenizer))"
      ]
    },
    {
      "cell_type": "markdown",
      "metadata": {
        "id": "KHgkZVcTiQTF"
      },
      "source": [
        "## Loading and Saving weights"
      ]
    },
    {
      "cell_type": "markdown",
      "metadata": {
        "id": "itD7gCDHjY2x"
      },
      "source": [
        "SAVE"
      ]
    },
    {
      "cell_type": "code",
      "execution_count": 83,
      "metadata": {
        "id": "zZyQJnNSjDjB"
      },
      "outputs": [],
      "source": [
        "model = GPTModel(GPT_CONFIG_124M)\n",
        "torch.save(model.state_dict(),\"model.pth\")"
      ]
    },
    {
      "cell_type": "markdown",
      "metadata": {
        "id": "l7YmQ07CjZ4K"
      },
      "source": [
        "LOAD"
      ]
    },
    {
      "cell_type": "code",
      "execution_count": 84,
      "metadata": {
        "colab": {
          "base_uri": "https://localhost:8080/"
        },
        "id": "SkPViYckjX2L",
        "outputId": "44d24212-5c10-4a05-a289-08e87a27fab5"
      },
      "outputs": [
        {
          "data": {
            "text/plain": [
              "GPTModel(\n",
              "  (tok_emb): Embedding(50257, 768)\n",
              "  (pos_emb): Embedding(256, 768)\n",
              "  (drop_emb): Dropout(p=0.1, inplace=False)\n",
              "  (trf_blocks): Sequential(\n",
              "    (0): TransformerBlock(\n",
              "      (att): MultiHeadAttention(\n",
              "        (W_q): Linear(in_features=768, out_features=768, bias=False)\n",
              "        (W_k): Linear(in_features=768, out_features=768, bias=False)\n",
              "        (W_v): Linear(in_features=768, out_features=768, bias=False)\n",
              "        (out_proj): Linear(in_features=768, out_features=768, bias=True)\n",
              "        (dropout): Dropout(p=0.1, inplace=False)\n",
              "      )\n",
              "      (ff): FeedForward(\n",
              "        (Layers): Sequential(\n",
              "          (0): Linear(in_features=768, out_features=3072, bias=True)\n",
              "          (1): GELU()\n",
              "          (2): Linear(in_features=3072, out_features=768, bias=True)\n",
              "        )\n",
              "      )\n",
              "      (norm1): LayerNorm()\n",
              "      (norm2): LayerNorm()\n",
              "      (drop_shortcut): Dropout(p=0.1, inplace=False)\n",
              "    )\n",
              "    (1): TransformerBlock(\n",
              "      (att): MultiHeadAttention(\n",
              "        (W_q): Linear(in_features=768, out_features=768, bias=False)\n",
              "        (W_k): Linear(in_features=768, out_features=768, bias=False)\n",
              "        (W_v): Linear(in_features=768, out_features=768, bias=False)\n",
              "        (out_proj): Linear(in_features=768, out_features=768, bias=True)\n",
              "        (dropout): Dropout(p=0.1, inplace=False)\n",
              "      )\n",
              "      (ff): FeedForward(\n",
              "        (Layers): Sequential(\n",
              "          (0): Linear(in_features=768, out_features=3072, bias=True)\n",
              "          (1): GELU()\n",
              "          (2): Linear(in_features=3072, out_features=768, bias=True)\n",
              "        )\n",
              "      )\n",
              "      (norm1): LayerNorm()\n",
              "      (norm2): LayerNorm()\n",
              "      (drop_shortcut): Dropout(p=0.1, inplace=False)\n",
              "    )\n",
              "    (2): TransformerBlock(\n",
              "      (att): MultiHeadAttention(\n",
              "        (W_q): Linear(in_features=768, out_features=768, bias=False)\n",
              "        (W_k): Linear(in_features=768, out_features=768, bias=False)\n",
              "        (W_v): Linear(in_features=768, out_features=768, bias=False)\n",
              "        (out_proj): Linear(in_features=768, out_features=768, bias=True)\n",
              "        (dropout): Dropout(p=0.1, inplace=False)\n",
              "      )\n",
              "      (ff): FeedForward(\n",
              "        (Layers): Sequential(\n",
              "          (0): Linear(in_features=768, out_features=3072, bias=True)\n",
              "          (1): GELU()\n",
              "          (2): Linear(in_features=3072, out_features=768, bias=True)\n",
              "        )\n",
              "      )\n",
              "      (norm1): LayerNorm()\n",
              "      (norm2): LayerNorm()\n",
              "      (drop_shortcut): Dropout(p=0.1, inplace=False)\n",
              "    )\n",
              "    (3): TransformerBlock(\n",
              "      (att): MultiHeadAttention(\n",
              "        (W_q): Linear(in_features=768, out_features=768, bias=False)\n",
              "        (W_k): Linear(in_features=768, out_features=768, bias=False)\n",
              "        (W_v): Linear(in_features=768, out_features=768, bias=False)\n",
              "        (out_proj): Linear(in_features=768, out_features=768, bias=True)\n",
              "        (dropout): Dropout(p=0.1, inplace=False)\n",
              "      )\n",
              "      (ff): FeedForward(\n",
              "        (Layers): Sequential(\n",
              "          (0): Linear(in_features=768, out_features=3072, bias=True)\n",
              "          (1): GELU()\n",
              "          (2): Linear(in_features=3072, out_features=768, bias=True)\n",
              "        )\n",
              "      )\n",
              "      (norm1): LayerNorm()\n",
              "      (norm2): LayerNorm()\n",
              "      (drop_shortcut): Dropout(p=0.1, inplace=False)\n",
              "    )\n",
              "    (4): TransformerBlock(\n",
              "      (att): MultiHeadAttention(\n",
              "        (W_q): Linear(in_features=768, out_features=768, bias=False)\n",
              "        (W_k): Linear(in_features=768, out_features=768, bias=False)\n",
              "        (W_v): Linear(in_features=768, out_features=768, bias=False)\n",
              "        (out_proj): Linear(in_features=768, out_features=768, bias=True)\n",
              "        (dropout): Dropout(p=0.1, inplace=False)\n",
              "      )\n",
              "      (ff): FeedForward(\n",
              "        (Layers): Sequential(\n",
              "          (0): Linear(in_features=768, out_features=3072, bias=True)\n",
              "          (1): GELU()\n",
              "          (2): Linear(in_features=3072, out_features=768, bias=True)\n",
              "        )\n",
              "      )\n",
              "      (norm1): LayerNorm()\n",
              "      (norm2): LayerNorm()\n",
              "      (drop_shortcut): Dropout(p=0.1, inplace=False)\n",
              "    )\n",
              "    (5): TransformerBlock(\n",
              "      (att): MultiHeadAttention(\n",
              "        (W_q): Linear(in_features=768, out_features=768, bias=False)\n",
              "        (W_k): Linear(in_features=768, out_features=768, bias=False)\n",
              "        (W_v): Linear(in_features=768, out_features=768, bias=False)\n",
              "        (out_proj): Linear(in_features=768, out_features=768, bias=True)\n",
              "        (dropout): Dropout(p=0.1, inplace=False)\n",
              "      )\n",
              "      (ff): FeedForward(\n",
              "        (Layers): Sequential(\n",
              "          (0): Linear(in_features=768, out_features=3072, bias=True)\n",
              "          (1): GELU()\n",
              "          (2): Linear(in_features=3072, out_features=768, bias=True)\n",
              "        )\n",
              "      )\n",
              "      (norm1): LayerNorm()\n",
              "      (norm2): LayerNorm()\n",
              "      (drop_shortcut): Dropout(p=0.1, inplace=False)\n",
              "    )\n",
              "    (6): TransformerBlock(\n",
              "      (att): MultiHeadAttention(\n",
              "        (W_q): Linear(in_features=768, out_features=768, bias=False)\n",
              "        (W_k): Linear(in_features=768, out_features=768, bias=False)\n",
              "        (W_v): Linear(in_features=768, out_features=768, bias=False)\n",
              "        (out_proj): Linear(in_features=768, out_features=768, bias=True)\n",
              "        (dropout): Dropout(p=0.1, inplace=False)\n",
              "      )\n",
              "      (ff): FeedForward(\n",
              "        (Layers): Sequential(\n",
              "          (0): Linear(in_features=768, out_features=3072, bias=True)\n",
              "          (1): GELU()\n",
              "          (2): Linear(in_features=3072, out_features=768, bias=True)\n",
              "        )\n",
              "      )\n",
              "      (norm1): LayerNorm()\n",
              "      (norm2): LayerNorm()\n",
              "      (drop_shortcut): Dropout(p=0.1, inplace=False)\n",
              "    )\n",
              "    (7): TransformerBlock(\n",
              "      (att): MultiHeadAttention(\n",
              "        (W_q): Linear(in_features=768, out_features=768, bias=False)\n",
              "        (W_k): Linear(in_features=768, out_features=768, bias=False)\n",
              "        (W_v): Linear(in_features=768, out_features=768, bias=False)\n",
              "        (out_proj): Linear(in_features=768, out_features=768, bias=True)\n",
              "        (dropout): Dropout(p=0.1, inplace=False)\n",
              "      )\n",
              "      (ff): FeedForward(\n",
              "        (Layers): Sequential(\n",
              "          (0): Linear(in_features=768, out_features=3072, bias=True)\n",
              "          (1): GELU()\n",
              "          (2): Linear(in_features=3072, out_features=768, bias=True)\n",
              "        )\n",
              "      )\n",
              "      (norm1): LayerNorm()\n",
              "      (norm2): LayerNorm()\n",
              "      (drop_shortcut): Dropout(p=0.1, inplace=False)\n",
              "    )\n",
              "    (8): TransformerBlock(\n",
              "      (att): MultiHeadAttention(\n",
              "        (W_q): Linear(in_features=768, out_features=768, bias=False)\n",
              "        (W_k): Linear(in_features=768, out_features=768, bias=False)\n",
              "        (W_v): Linear(in_features=768, out_features=768, bias=False)\n",
              "        (out_proj): Linear(in_features=768, out_features=768, bias=True)\n",
              "        (dropout): Dropout(p=0.1, inplace=False)\n",
              "      )\n",
              "      (ff): FeedForward(\n",
              "        (Layers): Sequential(\n",
              "          (0): Linear(in_features=768, out_features=3072, bias=True)\n",
              "          (1): GELU()\n",
              "          (2): Linear(in_features=3072, out_features=768, bias=True)\n",
              "        )\n",
              "      )\n",
              "      (norm1): LayerNorm()\n",
              "      (norm2): LayerNorm()\n",
              "      (drop_shortcut): Dropout(p=0.1, inplace=False)\n",
              "    )\n",
              "    (9): TransformerBlock(\n",
              "      (att): MultiHeadAttention(\n",
              "        (W_q): Linear(in_features=768, out_features=768, bias=False)\n",
              "        (W_k): Linear(in_features=768, out_features=768, bias=False)\n",
              "        (W_v): Linear(in_features=768, out_features=768, bias=False)\n",
              "        (out_proj): Linear(in_features=768, out_features=768, bias=True)\n",
              "        (dropout): Dropout(p=0.1, inplace=False)\n",
              "      )\n",
              "      (ff): FeedForward(\n",
              "        (Layers): Sequential(\n",
              "          (0): Linear(in_features=768, out_features=3072, bias=True)\n",
              "          (1): GELU()\n",
              "          (2): Linear(in_features=3072, out_features=768, bias=True)\n",
              "        )\n",
              "      )\n",
              "      (norm1): LayerNorm()\n",
              "      (norm2): LayerNorm()\n",
              "      (drop_shortcut): Dropout(p=0.1, inplace=False)\n",
              "    )\n",
              "    (10): TransformerBlock(\n",
              "      (att): MultiHeadAttention(\n",
              "        (W_q): Linear(in_features=768, out_features=768, bias=False)\n",
              "        (W_k): Linear(in_features=768, out_features=768, bias=False)\n",
              "        (W_v): Linear(in_features=768, out_features=768, bias=False)\n",
              "        (out_proj): Linear(in_features=768, out_features=768, bias=True)\n",
              "        (dropout): Dropout(p=0.1, inplace=False)\n",
              "      )\n",
              "      (ff): FeedForward(\n",
              "        (Layers): Sequential(\n",
              "          (0): Linear(in_features=768, out_features=3072, bias=True)\n",
              "          (1): GELU()\n",
              "          (2): Linear(in_features=3072, out_features=768, bias=True)\n",
              "        )\n",
              "      )\n",
              "      (norm1): LayerNorm()\n",
              "      (norm2): LayerNorm()\n",
              "      (drop_shortcut): Dropout(p=0.1, inplace=False)\n",
              "    )\n",
              "    (11): TransformerBlock(\n",
              "      (att): MultiHeadAttention(\n",
              "        (W_q): Linear(in_features=768, out_features=768, bias=False)\n",
              "        (W_k): Linear(in_features=768, out_features=768, bias=False)\n",
              "        (W_v): Linear(in_features=768, out_features=768, bias=False)\n",
              "        (out_proj): Linear(in_features=768, out_features=768, bias=True)\n",
              "        (dropout): Dropout(p=0.1, inplace=False)\n",
              "      )\n",
              "      (ff): FeedForward(\n",
              "        (Layers): Sequential(\n",
              "          (0): Linear(in_features=768, out_features=3072, bias=True)\n",
              "          (1): GELU()\n",
              "          (2): Linear(in_features=3072, out_features=768, bias=True)\n",
              "        )\n",
              "      )\n",
              "      (norm1): LayerNorm()\n",
              "      (norm2): LayerNorm()\n",
              "      (drop_shortcut): Dropout(p=0.1, inplace=False)\n",
              "    )\n",
              "  )\n",
              "  (final_norm): LayerNorm()\n",
              "  (out_head): Linear(in_features=768, out_features=50257, bias=False)\n",
              ")"
            ]
          },
          "execution_count": 84,
          "metadata": {},
          "output_type": "execute_result"
        }
      ],
      "source": [
        "model = GPTModel(GPT_CONFIG_124M)\n",
        "model.load_state_dict(torch.load(\"model.pth\"))\n",
        "model.eval()"
      ]
    },
    {
      "cell_type": "markdown",
      "metadata": {
        "id": "2KNWr-F4jvI0"
      },
      "source": [
        "We can also save optimizer history and state"
      ]
    },
    {
      "cell_type": "code",
      "execution_count": 85,
      "metadata": {
        "id": "A6g9CROUjz4Q"
      },
      "outputs": [],
      "source": [
        "optimizer = torch.optim.AdamW(model.parameters(),lr = 0.0004 , weight_decay = 0.1)\n",
        "torch.save({\n",
        "    \"model_state_dict\":model.state_dict(),\n",
        "    \"optimizer_state_dict\":optimizer.state_dict()\n",
        "},\n",
        "\"model_and_optimizer.pth\"\n",
        ")\n"
      ]
    },
    {
      "cell_type": "code",
      "execution_count": 86,
      "metadata": {
        "id": "3POB3NJbkHEB"
      },
      "outputs": [],
      "source": [
        "checkpoint = torch.load(\"model_and_optimizer.pth\")\n",
        "model = GPTModel(GPT_CONFIG_124M)\n",
        "model.load_state_dict(checkpoint[\"model_state_dict\"])\n",
        "optimizer = torch.optim.AdamW(model.parameters(),lr = 0.0004 , weight_decay = 0.1)\n",
        "optimizer.load_state_dict(checkpoint[\"optimizer_state_dict\"])\n",
        "model.train();"
      ]
    },
    {
      "cell_type": "markdown",
      "metadata": {
        "id": "sfKyxqeNmaJH"
      },
      "source": [
        "## Loading pre-trained OPENAI weights"
      ]
    },
    {
      "cell_type": "markdown",
      "metadata": {
        "id": "rRzfIGBxnM3N"
      },
      "source": [
        "we can load OPENAI's originally trained weights on a large amount of dataset to our model"
      ]
    },
    {
      "cell_type": "code",
      "execution_count": 87,
      "metadata": {},
      "outputs": [
        {
          "name": "stdout",
          "output_type": "stream",
          "text": [
            "Requirement already satisfied: tqdm in /Users/tejas/venv-metal/lib/python3.9/site-packages (4.67.1)\n",
            "\n",
            "\u001b[1m[\u001b[0m\u001b[34;49mnotice\u001b[0m\u001b[1;39;49m]\u001b[0m\u001b[39;49m A new release of pip is available: \u001b[0m\u001b[31;49m25.0.1\u001b[0m\u001b[39;49m -> \u001b[0m\u001b[32;49m25.1.1\u001b[0m\n",
            "\u001b[1m[\u001b[0m\u001b[34;49mnotice\u001b[0m\u001b[1;39;49m]\u001b[0m\u001b[39;49m To update, run: \u001b[0m\u001b[32;49mpip install --upgrade pip\u001b[0m\n",
            "Note: you may need to restart the kernel to use updated packages.\n"
          ]
        }
      ],
      "source": [
        "pip install tqdm"
      ]
    },
    {
      "cell_type": "code",
      "execution_count": 88,
      "metadata": {},
      "outputs": [],
      "source": [
        "import tensorflow as tf \n",
        "import tqdm"
      ]
    },
    {
      "cell_type": "code",
      "execution_count": 89,
      "metadata": {},
      "outputs": [],
      "source": [
        "from gpt_download3 import download_and_load_gpt2"
      ]
    },
    {
      "cell_type": "code",
      "execution_count": 90,
      "metadata": {},
      "outputs": [
        {
          "name": "stderr",
          "output_type": "stream",
          "text": [
            "/Users/tejas/venv-metal/lib/python3.9/site-packages/urllib3/connectionpool.py:1097: InsecureRequestWarning: Unverified HTTPS request is being made to host 'openaipublic.blob.core.windows.net'. Adding certificate verification is strongly advised. See: https://urllib3.readthedocs.io/en/latest/advanced-usage.html#tls-warnings\n",
            "  warnings.warn(\n"
          ]
        },
        {
          "name": "stdout",
          "output_type": "stream",
          "text": [
            "File already exists and is up-to-date: gpt2/124M/checkpoint\n"
          ]
        },
        {
          "name": "stderr",
          "output_type": "stream",
          "text": [
            "/Users/tejas/venv-metal/lib/python3.9/site-packages/urllib3/connectionpool.py:1097: InsecureRequestWarning: Unverified HTTPS request is being made to host 'openaipublic.blob.core.windows.net'. Adding certificate verification is strongly advised. See: https://urllib3.readthedocs.io/en/latest/advanced-usage.html#tls-warnings\n",
            "  warnings.warn(\n"
          ]
        },
        {
          "name": "stdout",
          "output_type": "stream",
          "text": [
            "File already exists and is up-to-date: gpt2/124M/encoder.json\n"
          ]
        },
        {
          "name": "stderr",
          "output_type": "stream",
          "text": [
            "/Users/tejas/venv-metal/lib/python3.9/site-packages/urllib3/connectionpool.py:1097: InsecureRequestWarning: Unverified HTTPS request is being made to host 'openaipublic.blob.core.windows.net'. Adding certificate verification is strongly advised. See: https://urllib3.readthedocs.io/en/latest/advanced-usage.html#tls-warnings\n",
            "  warnings.warn(\n"
          ]
        },
        {
          "name": "stdout",
          "output_type": "stream",
          "text": [
            "File already exists and is up-to-date: gpt2/124M/hparams.json\n"
          ]
        },
        {
          "name": "stderr",
          "output_type": "stream",
          "text": [
            "/Users/tejas/venv-metal/lib/python3.9/site-packages/urllib3/connectionpool.py:1097: InsecureRequestWarning: Unverified HTTPS request is being made to host 'openaipublic.blob.core.windows.net'. Adding certificate verification is strongly advised. See: https://urllib3.readthedocs.io/en/latest/advanced-usage.html#tls-warnings\n",
            "  warnings.warn(\n"
          ]
        },
        {
          "name": "stdout",
          "output_type": "stream",
          "text": [
            "File already exists and is up-to-date: gpt2/124M/model.ckpt.data-00000-of-00001\n"
          ]
        },
        {
          "name": "stderr",
          "output_type": "stream",
          "text": [
            "/Users/tejas/venv-metal/lib/python3.9/site-packages/urllib3/connectionpool.py:1097: InsecureRequestWarning: Unverified HTTPS request is being made to host 'openaipublic.blob.core.windows.net'. Adding certificate verification is strongly advised. See: https://urllib3.readthedocs.io/en/latest/advanced-usage.html#tls-warnings\n",
            "  warnings.warn(\n"
          ]
        },
        {
          "name": "stdout",
          "output_type": "stream",
          "text": [
            "File already exists and is up-to-date: gpt2/124M/model.ckpt.index\n"
          ]
        },
        {
          "name": "stderr",
          "output_type": "stream",
          "text": [
            "/Users/tejas/venv-metal/lib/python3.9/site-packages/urllib3/connectionpool.py:1097: InsecureRequestWarning: Unverified HTTPS request is being made to host 'openaipublic.blob.core.windows.net'. Adding certificate verification is strongly advised. See: https://urllib3.readthedocs.io/en/latest/advanced-usage.html#tls-warnings\n",
            "  warnings.warn(\n"
          ]
        },
        {
          "name": "stdout",
          "output_type": "stream",
          "text": [
            "File already exists and is up-to-date: gpt2/124M/model.ckpt.meta\n"
          ]
        },
        {
          "name": "stderr",
          "output_type": "stream",
          "text": [
            "/Users/tejas/venv-metal/lib/python3.9/site-packages/urllib3/connectionpool.py:1097: InsecureRequestWarning: Unverified HTTPS request is being made to host 'openaipublic.blob.core.windows.net'. Adding certificate verification is strongly advised. See: https://urllib3.readthedocs.io/en/latest/advanced-usage.html#tls-warnings\n",
            "  warnings.warn(\n"
          ]
        },
        {
          "name": "stdout",
          "output_type": "stream",
          "text": [
            "File already exists and is up-to-date: gpt2/124M/vocab.bpe\n"
          ]
        }
      ],
      "source": [
        "settings , params = download_and_load_gpt2(model_size = \"124M\" , models_dir = \"gpt2\")"
      ]
    },
    {
      "cell_type": "code",
      "execution_count": 91,
      "metadata": {},
      "outputs": [
        {
          "name": "stdout",
          "output_type": "stream",
          "text": [
            "settings: {'n_vocab': 50257, 'n_ctx': 1024, 'n_embd': 768, 'n_head': 12, 'n_layer': 12}\n",
            "Parameter dictionary keys: dict_keys(['blocks', 'b', 'g', 'wpe', 'wte'])\n"
          ]
        }
      ],
      "source": [
        "print(\"settings:\" , settings)\n",
        "print(\"Parameter dictionary keys:\" , params.keys())"
      ]
    },
    {
      "cell_type": "code",
      "execution_count": 92,
      "metadata": {},
      "outputs": [],
      "source": [
        "model_configs = {\n",
        "    \"gpt2-small (124M)\": {\"emb_dim\":768 , \"n_layers\":12 , \"n_heads\":12 }\n",
        "}\n",
        "\n",
        "\n",
        "model_name = \"gpt2-small (124M)\"\n",
        "NEW_CONFIG = GPT_CONFIG_124M.copy()\n",
        "NEW_CONFIG.update(model_configs[model_name])\n",
        "NEW_CONFIG.update({\"context_length\": 1024 , \"qkv_bias\":True})\n",
        "gpt = GPTModel(NEW_CONFIG)\n",
        "gpt.eval();"
      ]
    },
    {
      "cell_type": "code",
      "execution_count": 93,
      "metadata": {},
      "outputs": [],
      "source": [
        "def assign(left,right):\n",
        "    if left.shape != right.shape:\n",
        "        raise ValueError(f\"Shape mismatch. Left:{left.shape}, Right: {right.shape}\")\n",
        "    return torch.nn.Parameter(torch.tensor(right))"
      ]
    },
    {
      "cell_type": "code",
      "execution_count": 94,
      "metadata": {
        "vscode": {
          "languageId": "ruby"
        }
      },
      "outputs": [],
      "source": [
        "import numpy as np\n",
        "\n",
        "def load_weights_into_gpt(gpt, params):\n",
        "    gpt.pos_emb.weight = assign(gpt.pos_emb.weight, params['wpe'])\n",
        "    gpt.tok_emb.weight = assign(gpt.tok_emb.weight, params['wte'])\n",
        "    \n",
        "    for b in range(len(params[\"blocks\"])):\n",
        "        q_w, k_w, v_w = np.split(\n",
        "            (params[\"blocks\"][b][\"attn\"][\"c_attn\"])[\"w\"], 3, axis=-1)\n",
        "        gpt.trf_blocks[b].att.W_q.weight = assign(\n",
        "            gpt.trf_blocks[b].att.W_q.weight, q_w.T)\n",
        "        gpt.trf_blocks[b].att.W_k.weight = assign(\n",
        "            gpt.trf_blocks[b].att.W_k.weight, k_w.T)\n",
        "        gpt.trf_blocks[b].att.W_v.weight = assign(\n",
        "            gpt.trf_blocks[b].att.W_v.weight, v_w.T)\n",
        "\n",
        "        q_b, k_b, v_b = np.split(\n",
        "            (params[\"blocks\"][b][\"attn\"][\"c_attn\"])[\"b\"], 3, axis=-1)\n",
        "        gpt.trf_blocks[b].att.W_q.bias = assign(\n",
        "            gpt.trf_blocks[b].att.W_q.bias, q_b)\n",
        "        gpt.trf_blocks[b].att.W_k.bias = assign(\n",
        "            gpt.trf_blocks[b].att.W_k.bias, k_b)\n",
        "        gpt.trf_blocks[b].att.W_v.bias = assign(\n",
        "            gpt.trf_blocks[b].att.W_v.bias, v_b)\n",
        "\n",
        "        gpt.trf_blocks[b].att.out_proj.weight = assign(\n",
        "            gpt.trf_blocks[b].att.out_proj.weight, \n",
        "            params[\"blocks\"][b][\"attn\"][\"c_proj\"][\"w\"].T)\n",
        "        gpt.trf_blocks[b].att.out_proj.bias = assign(\n",
        "            gpt.trf_blocks[b].att.out_proj.bias, \n",
        "            params[\"blocks\"][b][\"attn\"][\"c_proj\"][\"b\"])\n",
        "\n",
        "        gpt.trf_blocks[b].ff.Layers[0].weight = assign(\n",
        "            gpt.trf_blocks[b].ff.Layers[0].weight, \n",
        "            params[\"blocks\"][b][\"mlp\"][\"c_fc\"][\"w\"].T)\n",
        "        gpt.trf_blocks[b].ff.Layers[0].bias = assign(\n",
        "            gpt.trf_blocks[b].ff.Layers[0].bias, \n",
        "            params[\"blocks\"][b][\"mlp\"][\"c_fc\"][\"b\"])\n",
        "        gpt.trf_blocks[b].ff.Layers[2].weight = assign(\n",
        "            gpt.trf_blocks[b].ff.Layers[2].weight, \n",
        "            params[\"blocks\"][b][\"mlp\"][\"c_proj\"][\"w\"].T)\n",
        "        gpt.trf_blocks[b].ff.Layers[2].bias = assign(\n",
        "            gpt.trf_blocks[b].ff.Layers[2].bias, \n",
        "            params[\"blocks\"][b][\"mlp\"][\"c_proj\"][\"b\"])\n",
        "\n",
        "        gpt.trf_blocks[b].norm1.scale = assign(\n",
        "            gpt.trf_blocks[b].norm1.scale, \n",
        "            params[\"blocks\"][b][\"ln_1\"][\"g\"])\n",
        "        gpt.trf_blocks[b].norm1.shift = assign(\n",
        "            gpt.trf_blocks[b].norm1.shift, \n",
        "            params[\"blocks\"][b][\"ln_1\"][\"b\"])\n",
        "        gpt.trf_blocks[b].norm2.scale = assign(\n",
        "            gpt.trf_blocks[b].norm2.scale, \n",
        "            params[\"blocks\"][b][\"ln_2\"][\"g\"])\n",
        "        gpt.trf_blocks[b].norm2.shift = assign(\n",
        "            gpt.trf_blocks[b].norm2.shift, \n",
        "            params[\"blocks\"][b][\"ln_2\"][\"b\"])\n",
        "\n",
        "    gpt.final_norm.scale = assign(gpt.final_norm.scale, params[\"g\"])\n",
        "    gpt.final_norm.shift = assign(gpt.final_norm.shift, params[\"b\"])\n",
        "    gpt.out_head.weight = assign(gpt.out_head.weight, params[\"wte\"])\n",
        "\n"
      ]
    },
    {
      "cell_type": "code",
      "execution_count": 95,
      "metadata": {
        "vscode": {
          "languageId": "ruby"
        }
      },
      "outputs": [],
      "source": [
        "load_weights_into_gpt(gpt, params)\n",
        "gpt.to(device);"
      ]
    },
    {
      "cell_type": "code",
      "execution_count": 96,
      "metadata": {
        "vscode": {
          "languageId": "ruby"
        }
      },
      "outputs": [
        {
          "name": "stdout",
          "output_type": "stream",
          "text": [
            "Output Text:\n",
            " Every effort moves you forward, though—a more conscious focus than can normally occur in human being-centered reasoning and decisionmaking.\" (Effren Sperber. 1995. On \"Hurt.\" Science (Danaillac) . DOI:10.1126/science.120637) In what appears to be a typical \"shakedown\" by a reporter to try to discredit the study, a number of reporters on Fox News accused the paper of doing \"the most dishonest, bad paper writing imaginable about\n"
          ]
        }
      ],
      "source": [
        "token_ids = generate(\n",
        "    model = gpt,\n",
        "    idx = text_to_token_ids(\"Every effort moves you\", tokenizer).to(device),\n",
        "    max_new_tokens = 100,\n",
        "    context_size = NEW_CONFIG[\"context_length\"],\n",
        "    top_k = 50,\n",
        "    temperature = 1.5\n",
        "\n",
        ")\n",
        "\n",
        "print(\"Output Text:\\n\" , token_ids_to_text(token_ids, tokenizer))"
      ]
    },
    {
      "cell_type": "markdown",
      "metadata": {},
      "source": [
        "# LLM Fine-Tuining "
      ]
    },
    {
      "cell_type": "markdown",
      "metadata": {},
      "source": [
        "Finetining involves additional training of pretrained model using domain specific smaller dataset \n",
        "\n",
        "1. Instruction Fine-tuning\n",
        "2. classification finetuning "
      ]
    },
    {
      "cell_type": "markdown",
      "metadata": {},
      "source": [
        "## Classification Finetuining \n",
        "\n",
        "For classifying messages as spam and no spam "
      ]
    },
    {
      "cell_type": "markdown",
      "metadata": {},
      "source": [
        "### Downloading the dataset"
      ]
    },
    {
      "cell_type": "code",
      "execution_count": 97,
      "metadata": {
        "vscode": {
          "languageId": "ruby"
        }
      },
      "outputs": [],
      "source": [
        "model = gpt"
      ]
    },
    {
      "cell_type": "code",
      "execution_count": 98,
      "metadata": {
        "vscode": {
          "languageId": "ruby"
        }
      },
      "outputs": [
        {
          "name": "stdout",
          "output_type": "stream",
          "text": [
            "sms_spam_collection/SMSSpamCollection.tsv already exists. Skipping download and extraction.\n"
          ]
        }
      ],
      "source": [
        "import urllib.request\n",
        "import ssl\n",
        "import zipfile\n",
        "import os\n",
        "from pathlib import Path\n",
        "\n",
        "url = \"https://archive.ics.uci.edu/static/public/228/sms+spam+collection.zip\"\n",
        "zip_path = \"sms_spam_collection.zip\"\n",
        "extracted_path = \"sms_spam_collection\"\n",
        "data_file_path = Path(extracted_path) / \"SMSSpamCollection.tsv\"\n",
        "\n",
        "def download_and_unzip_spam_data(url, zip_path, extracted_path, data_file_path):\n",
        "    if data_file_path.exists():\n",
        "        print(f\"{data_file_path} already exists. Skipping download and extraction.\")\n",
        "        return\n",
        "\n",
        "    # Create an unverified SSL context\n",
        "    ssl_context = ssl._create_unverified_context()\n",
        "\n",
        "    # Downloading the file\n",
        "    with urllib.request.urlopen(url, context=ssl_context) as response:\n",
        "        with open(zip_path, \"wb\") as out_file:\n",
        "            out_file.write(response.read())\n",
        "\n",
        "    # Unzipping the file\n",
        "    with zipfile.ZipFile(zip_path, \"r\") as zip_ref:\n",
        "        zip_ref.extractall(extracted_path)\n",
        "\n",
        "    # Add .tsv file extension\n",
        "    original_file_path = Path(extracted_path) / \"SMSSpamCollection\"\n",
        "    os.rename(original_file_path, data_file_path)\n",
        "    print(f\"File downloaded and saved as {data_file_path}\")\n",
        "\n",
        "download_and_unzip_spam_data(url, zip_path, extracted_path, data_file_path)\n"
      ]
    },
    {
      "cell_type": "code",
      "execution_count": 99,
      "metadata": {
        "vscode": {
          "languageId": "ruby"
        }
      },
      "outputs": [
        {
          "data": {
            "text/html": [
              "<div>\n",
              "<style scoped>\n",
              "    .dataframe tbody tr th:only-of-type {\n",
              "        vertical-align: middle;\n",
              "    }\n",
              "\n",
              "    .dataframe tbody tr th {\n",
              "        vertical-align: top;\n",
              "    }\n",
              "\n",
              "    .dataframe thead th {\n",
              "        text-align: right;\n",
              "    }\n",
              "</style>\n",
              "<table border=\"1\" class=\"dataframe\">\n",
              "  <thead>\n",
              "    <tr style=\"text-align: right;\">\n",
              "      <th></th>\n",
              "      <th>label</th>\n",
              "      <th>Text</th>\n",
              "    </tr>\n",
              "  </thead>\n",
              "  <tbody>\n",
              "    <tr>\n",
              "      <th>0</th>\n",
              "      <td>ham</td>\n",
              "      <td>Go until jurong point, crazy.. Available only ...</td>\n",
              "    </tr>\n",
              "    <tr>\n",
              "      <th>1</th>\n",
              "      <td>ham</td>\n",
              "      <td>Ok lar... Joking wif u oni...</td>\n",
              "    </tr>\n",
              "    <tr>\n",
              "      <th>2</th>\n",
              "      <td>spam</td>\n",
              "      <td>Free entry in 2 a wkly comp to win FA Cup fina...</td>\n",
              "    </tr>\n",
              "    <tr>\n",
              "      <th>3</th>\n",
              "      <td>ham</td>\n",
              "      <td>U dun say so early hor... U c already then say...</td>\n",
              "    </tr>\n",
              "    <tr>\n",
              "      <th>4</th>\n",
              "      <td>ham</td>\n",
              "      <td>Nah I don't think he goes to usf, he lives aro...</td>\n",
              "    </tr>\n",
              "    <tr>\n",
              "      <th>...</th>\n",
              "      <td>...</td>\n",
              "      <td>...</td>\n",
              "    </tr>\n",
              "    <tr>\n",
              "      <th>5567</th>\n",
              "      <td>spam</td>\n",
              "      <td>This is the 2nd time we have tried 2 contact u...</td>\n",
              "    </tr>\n",
              "    <tr>\n",
              "      <th>5568</th>\n",
              "      <td>ham</td>\n",
              "      <td>Will ü b going to esplanade fr home?</td>\n",
              "    </tr>\n",
              "    <tr>\n",
              "      <th>5569</th>\n",
              "      <td>ham</td>\n",
              "      <td>Pity, * was in mood for that. So...any other s...</td>\n",
              "    </tr>\n",
              "    <tr>\n",
              "      <th>5570</th>\n",
              "      <td>ham</td>\n",
              "      <td>The guy did some bitching but I acted like i'd...</td>\n",
              "    </tr>\n",
              "    <tr>\n",
              "      <th>5571</th>\n",
              "      <td>ham</td>\n",
              "      <td>Rofl. Its true to its name</td>\n",
              "    </tr>\n",
              "  </tbody>\n",
              "</table>\n",
              "<p>5572 rows × 2 columns</p>\n",
              "</div>"
            ],
            "text/plain": [
              "     label                                               Text\n",
              "0      ham  Go until jurong point, crazy.. Available only ...\n",
              "1      ham                      Ok lar... Joking wif u oni...\n",
              "2     spam  Free entry in 2 a wkly comp to win FA Cup fina...\n",
              "3      ham  U dun say so early hor... U c already then say...\n",
              "4      ham  Nah I don't think he goes to usf, he lives aro...\n",
              "...    ...                                                ...\n",
              "5567  spam  This is the 2nd time we have tried 2 contact u...\n",
              "5568   ham               Will ü b going to esplanade fr home?\n",
              "5569   ham  Pity, * was in mood for that. So...any other s...\n",
              "5570   ham  The guy did some bitching but I acted like i'd...\n",
              "5571   ham                         Rofl. Its true to its name\n",
              "\n",
              "[5572 rows x 2 columns]"
            ]
          },
          "execution_count": 99,
          "metadata": {},
          "output_type": "execute_result"
        }
      ],
      "source": [
        "import pandas as pd\n",
        "\n",
        "df = pd.read_csv(data_file_path, sep=\"\\t\", header=None, names=[\"label\", \"Text\"])\n",
        "df"
      ]
    },
    {
      "cell_type": "code",
      "execution_count": 100,
      "metadata": {
        "vscode": {
          "languageId": "ruby"
        }
      },
      "outputs": [
        {
          "name": "stdout",
          "output_type": "stream",
          "text": [
            "label\n",
            "ham     4825\n",
            "spam     747\n",
            "Name: count, dtype: int64\n"
          ]
        }
      ],
      "source": [
        "print(df[\"label\"].value_counts())"
      ]
    },
    {
      "cell_type": "markdown",
      "metadata": {},
      "source": [
        "Subsample 747 datapoints from non-spam class to balance the dataset"
      ]
    },
    {
      "cell_type": "code",
      "execution_count": 101,
      "metadata": {
        "vscode": {
          "languageId": "ruby"
        }
      },
      "outputs": [
        {
          "name": "stdout",
          "output_type": "stream",
          "text": [
            "label\n",
            "ham     747\n",
            "spam    747\n",
            "Name: count, dtype: int64\n"
          ]
        }
      ],
      "source": [
        "def create_balanced_dataset(df):\n",
        "\n",
        "    num_spam = df[df[\"label\"] == \"spam\"].shape[0]\n",
        "\n",
        "    ham_subset = df[df[\"label\"] == \"ham\"].sample(num_spam, random_state=42)\n",
        "\n",
        "    balanced_df = pd.concat([ham_subset ,df[df[\"label\"] == \"spam\"]])\n",
        "\n",
        "    return balanced_df \n",
        "\n",
        "balanced_df = create_balanced_dataset(df)\n",
        "print(balanced_df[\"label\"].value_counts())"
      ]
    },
    {
      "cell_type": "code",
      "execution_count": 102,
      "metadata": {
        "vscode": {
          "languageId": "ruby"
        }
      },
      "outputs": [],
      "source": [
        "def random_split(df,train_frac,val_frac):\n",
        "\n",
        "    df = df.sample(frac=1, random_state=42).reset_index(drop=True)\n",
        "\n",
        "    train_end = int(len(df) * train_frac)\n",
        "    val_end = int(len(df) * (train_frac + val_frac))\n",
        "\n",
        "    train_df = df[:train_end]\n",
        "    val_df = df[train_end:val_end]\n",
        "    test_df = df[val_end:]\n",
        "\n",
        "    return train_df, val_df, test_df\n",
        "\n",
        "train_df, val_df, test_df = random_split(balanced_df, 0.7, 0.1)"
      ]
    },
    {
      "cell_type": "code",
      "execution_count": 103,
      "metadata": {
        "vscode": {
          "languageId": "ruby"
        }
      },
      "outputs": [],
      "source": [
        "train_df.to_csv(\"train.csv\", index=False)\n",
        "val_df.to_csv(\"val.csv\", index=False)\n",
        "test_df.to_csv(\"test.csv\", index=False)\n"
      ]
    },
    {
      "cell_type": "markdown",
      "metadata": {},
      "source": [
        "### Preprocessing the data "
      ]
    },
    {
      "cell_type": "code",
      "execution_count": 104,
      "metadata": {
        "vscode": {
          "languageId": "ruby"
        }
      },
      "outputs": [],
      "source": [
        "import torch\n",
        "from torch.utils.data import Dataset\n",
        "\n",
        "\n",
        "class SpamDataset(Dataset):\n",
        "    def __init__(self, csv_file, tokenizer, max_length=None, pad_token_id=50256):\n",
        "        self.data = pd.read_csv(csv_file)\n",
        "\n",
        "        # Pre-tokenize texts\n",
        "        self.encoded_texts = [\n",
        "            tokenizer.encode(text) for text in self.data[\"Text\"]\n",
        "        ]\n",
        "\n",
        "        if max_length is None:\n",
        "            self.max_length = self._longest_encoded_length()\n",
        "        else:\n",
        "            self.max_length = max_length\n",
        "            \n",
        "            # Truncate sequences if they are longer than max_length\n",
        "            self.encoded_texts = [\n",
        "                encoded_text[:self.max_length]\n",
        "                for encoded_text in self.encoded_texts\n",
        "            ]\n",
        "\n",
        "        # Pad sequences to the longest sequence\n",
        "        self.encoded_texts = [\n",
        "            encoded_text + [pad_token_id] * (self.max_length - len(encoded_text))\n",
        "            for encoded_text in self.encoded_texts\n",
        "        ]\n",
        "\n",
        "    def __getitem__(self, index):\n",
        "        encoded = self.encoded_texts[index]\n",
        "        label = self.data.iloc[index][\"label\"]\n",
        "        label = 1 if label == \"spam\" else 0\n",
        "\n",
        "        return (\n",
        "            torch.tensor(encoded, dtype=torch.long),\n",
        "            torch.tensor(label, dtype=torch.long)\n",
        "        )\n",
        "\n",
        "    def __len__(self):\n",
        "        return len(self.data)\n",
        "\n",
        "    def _longest_encoded_length(self):\n",
        "        max_length = 0\n",
        "        for encoded_text in self.encoded_texts:\n",
        "            encoded_length = len(encoded_text)\n",
        "            if encoded_length > max_length:\n",
        "                max_length = encoded_length\n",
        "        return max_length"
      ]
    },
    {
      "cell_type": "code",
      "execution_count": 105,
      "metadata": {},
      "outputs": [
        {
          "name": "stdout",
          "output_type": "stream",
          "text": [
            "109\n"
          ]
        }
      ],
      "source": [
        "train_dataset = SpamDataset(csv_file = \"train.csv\", tokenizer = tokenizer)\n",
        "val_dataset = SpamDataset(csv_file = \"val.csv\", max_length = train_dataset.max_length ,tokenizer = tokenizer)\n",
        "test_dataset = SpamDataset(csv_file = \"test.csv\", max_length = train_dataset.max_length ,tokenizer = tokenizer)\n",
        "\n",
        "print(train_dataset.max_length)"
      ]
    },
    {
      "cell_type": "markdown",
      "metadata": {},
      "source": [
        "setup DATALOADER"
      ]
    },
    {
      "cell_type": "code",
      "execution_count": 106,
      "metadata": {},
      "outputs": [],
      "source": [
        "from torch.utils.data import DataLoader\n",
        "\n",
        "num_workers = 0\n",
        "batch_size = 8\n",
        "\n",
        "train_loader = DataLoader(\n",
        "    dataset = train_dataset,\n",
        "    batch_size = batch_size,\n",
        "    shuffle = True,\n",
        "    num_workers = num_workers,\n",
        "    drop_last = True\n",
        ")\n",
        "val_loader = DataLoader(\n",
        "    dataset = val_dataset,\n",
        "    batch_size = batch_size,\n",
        "    shuffle = False,    \n",
        "    num_workers = num_workers,\n",
        "    drop_last = True\n",
        ")\n",
        "test_loader = DataLoader(\n",
        "    dataset = test_dataset,\n",
        "    batch_size = batch_size,\n",
        "    shuffle = False,\n",
        "    num_workers = num_workers,\n",
        "    drop_last = True\n",
        ")\n",
        "\n"
      ]
    },
    {
      "cell_type": "code",
      "execution_count": 107,
      "metadata": {},
      "outputs": [
        {
          "name": "stdout",
          "output_type": "stream",
          "text": [
            "130 batches in train set\n",
            "18 batches in val set\n",
            "37 batches in test set\n"
          ]
        }
      ],
      "source": [
        "print(f\"{len(train_loader)} batches in train set\")\n",
        "print(f\"{len(val_loader)} batches in val set\")  \n",
        "print(f\"{len(test_loader)} batches in test set\")"
      ]
    },
    {
      "cell_type": "code",
      "execution_count": 108,
      "metadata": {
        "vscode": {
          "languageId": "ruby"
        }
      },
      "outputs": [
        {
          "name": "stdout",
          "output_type": "stream",
          "text": [
            "Output Text:\n",
            " Is the following text 'spam'? Answer with 'yes' or 'no': You are a winner you have been speciallyCongratulations! You've won a $1000 cash prize! Click here to claim it.\n",
            "\n",
            "The following text 'spam'? Answer with 'yes' or 'no': You are a winner you\n"
          ]
        }
      ],
      "source": [
        "text = (\"Is the following text 'spam'? Answer with 'yes' or 'no': \"\n",
        "        \"You are a winner you have been specially\"\n",
        "        \"Congratulations! You've won a $1000 cash prize! Click here to claim it.\"\n",
        "        )\n",
        "BASE_CONFIG = {\n",
        "    \"vocab_size\":50257,\n",
        "    \"context_length\":1024,\n",
        "    \"emb_dim\":768,\n",
        "    \"n_heads\":12,\n",
        "    \"n_layers\":12,\n",
        "    \"dropout\":0.1,\n",
        "    \"qkv_bias\":False\n",
        "}\n",
        "\n",
        "# Move model to MPS device\n",
        "model = model.to(\"mps\")\n",
        "\n",
        "# Move input tensor to MPS device\n",
        "token_ids = generate_text_simple(\n",
        "    model = model,\n",
        "    idx = text_to_token_ids(text, tokenizer).to(\"mps\"),\n",
        "    max_new_tokens = 23,\n",
        "    context_size = BASE_CONFIG[\"context_length\"],\n",
        ")\n",
        "\n",
        "print(\"Output Text:\\n\" , token_ids_to_text(token_ids, tokenizer))"
      ]
    },
    {
      "cell_type": "markdown",
      "metadata": {},
      "source": [
        "this is because model has only done pre-training. It is not trained to follow instruction"
      ]
    },
    {
      "cell_type": "markdown",
      "metadata": {},
      "source": [
        "**We can modify the architecture for classification**\n",
        "\n",
        "* After the GPT block add a Linear layer which takes 768 dimensional output prediction to 2 dimensional Yes/No\n",
        "\n",
        "We will be training 3 blocks :\n",
        "1. Final Classification head\n",
        "2. Final Transformer block\n",
        "3. Final LayerNorm block\n",
        "\n",
        "We will freeze everything else"
      ]
    },
    {
      "cell_type": "markdown",
      "metadata": {},
      "source": [
        "### Adding a classification Head"
      ]
    },
    {
      "cell_type": "markdown",
      "metadata": {},
      "source": [
        "First freeze the model"
      ]
    },
    {
      "cell_type": "code",
      "execution_count": 109,
      "metadata": {
        "vscode": {
          "languageId": "ruby"
        }
      },
      "outputs": [],
      "source": [
        "for param in model.parameters():\n",
        "    param.requires_grad = False"
      ]
    },
    {
      "cell_type": "code",
      "execution_count": 110,
      "metadata": {
        "vscode": {
          "languageId": "ruby"
        }
      },
      "outputs": [],
      "source": [
        "num_classes = 2\n",
        "model.out_head = torch.nn.Linear(in_features=BASE_CONFIG[\"emb_dim\"], out_features=num_classes)"
      ]
    },
    {
      "cell_type": "markdown",
      "metadata": {},
      "source": [
        "Make the decided layers trainable again"
      ]
    },
    {
      "cell_type": "code",
      "execution_count": 111,
      "metadata": {
        "vscode": {
          "languageId": "ruby"
        }
      },
      "outputs": [],
      "source": [
        "for param in model.trf_blocks[-1].parameters():\n",
        "    param.requires_grad = True\n",
        "\n",
        "for param in model.final_norm.parameters():\n",
        "    param.requires_grad = True"
      ]
    },
    {
      "cell_type": "code",
      "execution_count": 112,
      "metadata": {
        "vscode": {
          "languageId": "ruby"
        }
      },
      "outputs": [
        {
          "name": "stdout",
          "output_type": "stream",
          "text": [
            "Inputs: tensor([[5211,  345,  423,  640]])\n",
            "Inputs dimensions: torch.Size([1, 4])\n"
          ]
        }
      ],
      "source": [
        "inputs = tokenizer.encode(\"Do you have time\")\n",
        "inputs = torch.tensor(inputs).unsqueeze(0)\n",
        "print(\"Inputs:\", inputs)\n",
        "print(\"Inputs dimensions:\", inputs.shape) # shape: (batch_size, num_tokens)"
      ]
    },
    {
      "cell_type": "code",
      "execution_count": 113,
      "metadata": {
        "vscode": {
          "languageId": "ruby"
        }
      },
      "outputs": [
        {
          "name": "stdout",
          "output_type": "stream",
          "text": [
            "Outputs:\n",
            " tensor([[[ 0.9720, -0.8174],\n",
            "         [ 5.4195, -4.9809],\n",
            "         [ 5.5361, -4.7360],\n",
            "         [ 4.8456, -3.8857]]], device='mps:0')\n",
            "Outputs dimensions: torch.Size([1, 4, 2])\n"
          ]
        }
      ],
      "source": [
        "# Ensure inputs and model parameters are on the same device\n",
        "device = next(model.parameters()).device\n",
        "inputs = inputs.to(device)\n",
        "model = model.to(device)\n",
        "\n",
        "with torch.no_grad():\n",
        "    outputs = model(inputs)\n",
        "\n",
        "print(\"Outputs:\\n\", outputs)\n",
        "print(\"Outputs dimensions:\", outputs.shape) # shape: (batch_size, num_tokens, num_classes)"
      ]
    },
    {
      "cell_type": "code",
      "execution_count": 114,
      "metadata": {
        "vscode": {
          "languageId": "ruby"
        }
      },
      "outputs": [
        {
          "name": "stdout",
          "output_type": "stream",
          "text": [
            "Last output token: tensor([[ 4.8456, -3.8857]], device='mps:0')\n"
          ]
        }
      ],
      "source": [
        "print(\"Last output token:\", outputs[:, -1, :])"
      ]
    },
    {
      "cell_type": "code",
      "execution_count": 115,
      "metadata": {
        "vscode": {
          "languageId": "ruby"
        }
      },
      "outputs": [
        {
          "name": "stdout",
          "output_type": "stream",
          "text": [
            "Class label: 0\n"
          ]
        }
      ],
      "source": [
        "logits = outputs[:, -1, :]\n",
        "label = torch.argmax(logits)\n",
        "print(\"Class label:\", label.item())"
      ]
    },
    {
      "cell_type": "markdown",
      "metadata": {},
      "source": [
        "We will only focus on the prediction of last token in an input , because it has attention context of all tokens before that "
      ]
    },
    {
      "cell_type": "markdown",
      "metadata": {},
      "source": [
        "### Calculating the classification Loss and Accuracy "
      ]
    },
    {
      "cell_type": "markdown",
      "metadata": {},
      "source": [
        "index 0 : No spam\n",
        "\n",
        "index 1 : Spam"
      ]
    },
    {
      "cell_type": "code",
      "execution_count": 116,
      "metadata": {
        "vscode": {
          "languageId": "ruby"
        }
      },
      "outputs": [],
      "source": [
        "def calc_accuracy_loader(data_loader, model, device, num_batches=None):\n",
        "    model.eval()\n",
        "    correct_predictions, num_examples = 0, 0\n",
        "\n",
        "    if num_batches is None:\n",
        "        num_batches = len(data_loader)\n",
        "    else:\n",
        "        num_batches = min(num_batches, len(data_loader))\n",
        "    for i, (input_batch, target_batch) in enumerate(data_loader):\n",
        "        if i < num_batches:\n",
        "            input_batch, target_batch = input_batch.to(device), target_batch.to(device)\n",
        "\n",
        "            with torch.no_grad():\n",
        "                logits = model(input_batch)[:, -1, :]  # Logits of last output token\n",
        "            predicted_labels = torch.argmax(logits, dim=-1)\n",
        "\n",
        "            num_examples += predicted_labels.shape[0]\n",
        "            correct_predictions += (predicted_labels == target_batch).sum().item()\n",
        "        else:\n",
        "            break\n",
        "    return correct_predictions / num_examples"
      ]
    },
    {
      "cell_type": "code",
      "execution_count": 117,
      "metadata": {
        "vscode": {
          "languageId": "ruby"
        }
      },
      "outputs": [
        {
          "name": "stdout",
          "output_type": "stream",
          "text": [
            "Training accuracy: 53.75%\n",
            "Validation accuracy: 46.25%\n",
            "Test accuracy: 41.25%\n"
          ]
        }
      ],
      "source": [
        "device = torch.device(\"mps\" if torch.backends.mps.is_available() else \"cpu\")\n",
        "\n",
        "model.to(device) # no assignment model = model.to(device) necessary for nn.Module classes\n",
        "\n",
        "torch.manual_seed(123) # For reproducibility due to the shuffling in the training data loader\n",
        "\n",
        "train_accuracy = calc_accuracy_loader(train_loader, model, device, num_batches=10)\n",
        "val_accuracy = calc_accuracy_loader(val_loader, model, device, num_batches=10)\n",
        "test_accuracy = calc_accuracy_loader(test_loader, model, device, num_batches=10)\n",
        "\n",
        "print(f\"Training accuracy: {train_accuracy*100:.2f}%\")\n",
        "print(f\"Validation accuracy: {val_accuracy*100:.2f}%\")\n",
        "print(f\"Test accuracy: {test_accuracy*100:.2f}%\")"
      ]
    },
    {
      "cell_type": "code",
      "execution_count": 118,
      "metadata": {
        "vscode": {
          "languageId": "ruby"
        }
      },
      "outputs": [],
      "source": [
        "def calc_loss_batch(input_batch, target_batch, model, device):\n",
        "    input_batch, target_batch = input_batch.to(device), target_batch.to(device)\n",
        "    logits = model(input_batch)[:, -1, :]  # Logits of last output token\n",
        "    loss = torch.nn.functional.cross_entropy(logits, target_batch)\n",
        "    return loss"
      ]
    },
    {
      "cell_type": "code",
      "execution_count": 119,
      "metadata": {
        "vscode": {
          "languageId": "ruby"
        }
      },
      "outputs": [],
      "source": [
        "def calc_loss_loader(data_loader, model, device, num_batches=None):\n",
        "    total_loss = 0.\n",
        "    if len(data_loader) == 0:\n",
        "        return float(\"nan\")\n",
        "    elif num_batches is None:\n",
        "        num_batches = len(data_loader)\n",
        "    else:\n",
        "        # Reduce the number of batches to match the total number of batches in the data loader\n",
        "        # if num_batches exceeds the number of batches in the data loader\n",
        "        num_batches = min(num_batches, len(data_loader))\n",
        "    for i, (input_batch, target_batch) in enumerate(data_loader):\n",
        "        if i < num_batches:\n",
        "            loss = calc_loss_batch(input_batch, target_batch, model, device)\n",
        "            total_loss += loss.item()\n",
        "        else:\n",
        "            break\n",
        "    return total_loss / num_batches"
      ]
    },
    {
      "cell_type": "code",
      "execution_count": 120,
      "metadata": {
        "vscode": {
          "languageId": "ruby"
        }
      },
      "outputs": [
        {
          "name": "stdout",
          "output_type": "stream",
          "text": [
            "Training loss: 3.887\n",
            "Validation loss: 4.520\n",
            "Test loss: 5.821\n"
          ]
        }
      ],
      "source": [
        "with torch.no_grad(): # Disable gradient tracking for efficiency because we are not training, yet\n",
        "    train_loss = calc_loss_loader(train_loader, model, device, num_batches=5)\n",
        "    val_loss = calc_loss_loader(val_loader, model, device, num_batches=5)\n",
        "    test_loss = calc_loss_loader(test_loader, model, device, num_batches=5)\n",
        "\n",
        "print(f\"Training loss: {train_loss:.3f}\")\n",
        "print(f\"Validation loss: {val_loss:.3f}\")\n",
        "print(f\"Test loss: {test_loss:.3f}\")"
      ]
    },
    {
      "cell_type": "markdown",
      "metadata": {},
      "source": [
        "loss is very high because it is not finetuined yet"
      ]
    },
    {
      "cell_type": "markdown",
      "metadata": {},
      "source": [
        "### Finetuining the model on supervised data"
      ]
    },
    {
      "cell_type": "markdown",
      "metadata": {},
      "source": [
        "Step 1: Set model to training mode\n",
        "\n",
        "Step 2: Reset loss gradients from previous batch iteration\n",
        "\n",
        "Step 3: Calculate loss gradients\n",
        "\n",
        "Step 4: Update model weights using loss gradients\n",
        "\n",
        "Step 5: New: track examples instead of tokens\n",
        "\n",
        "Step 6: Optional evaluation step\n",
        "\n",
        "Step 7: Calculate accuracy after each epoch"
      ]
    },
    {
      "cell_type": "code",
      "execution_count": 121,
      "metadata": {
        "vscode": {
          "languageId": "ruby"
        }
      },
      "outputs": [],
      "source": [
        "def train_classifier_simple(model, train_loader, val_loader, optimizer, device, num_epochs,\n",
        "                            eval_freq, eval_iter):\n",
        "    # Initialize lists to track losses and examples seen\n",
        "    train_losses, val_losses, train_accs, val_accs = [], [], [], []\n",
        "    examples_seen, global_step = 0, -1\n",
        "\n",
        "    # Main training loop\n",
        "    for epoch in range(num_epochs):\n",
        "        model.train()  # Set model to training mode\n",
        "\n",
        "        for input_batch, target_batch in train_loader:\n",
        "            optimizer.zero_grad() # Reset loss gradients from previous batch iteration\n",
        "            loss = calc_loss_batch(input_batch, target_batch, model, device)\n",
        "            loss.backward() # Calculate loss gradients\n",
        "            optimizer.step() # Update model weights using loss gradients\n",
        "            examples_seen += input_batch.shape[0] # New: track examples instead of tokens\n",
        "            global_step += 1\n",
        "\n",
        "            \n",
        "            if global_step % eval_freq == 0:\n",
        "                train_loss, val_loss = evaluate_model(\n",
        "                    model, train_loader, val_loader, device, eval_iter)\n",
        "                train_losses.append(train_loss)\n",
        "                val_losses.append(val_loss)\n",
        "                print(f\"Ep {epoch+1} (Step {global_step:06d}): \"\n",
        "                      f\"Train loss {train_loss:.3f}, Val loss {val_loss:.3f}\")\n",
        "\n",
        "        # Calculate accuracy after each epoch\n",
        "        train_accuracy = calc_accuracy_loader(train_loader, model, device, num_batches=eval_iter)\n",
        "        val_accuracy = calc_accuracy_loader(val_loader, model, device, num_batches=eval_iter)\n",
        "        print(f\"Training accuracy: {train_accuracy*100:.2f}% | \", end=\"\")\n",
        "        print(f\"Validation accuracy: {val_accuracy*100:.2f}%\")\n",
        "        train_accs.append(train_accuracy)\n",
        "        val_accs.append(val_accuracy)\n",
        "\n",
        "    return train_losses, val_losses, train_accs, val_accs, examples_seen"
      ]
    },
    {
      "cell_type": "code",
      "execution_count": 122,
      "metadata": {
        "vscode": {
          "languageId": "ruby"
        }
      },
      "outputs": [],
      "source": [
        "def evaluate_model(model, train_loader, val_loader, device, eval_iter):\n",
        "    model.eval()\n",
        "    with torch.no_grad():\n",
        "        train_loss = calc_loss_loader(train_loader, model, device, num_batches=eval_iter)\n",
        "        val_loss = calc_loss_loader(val_loader, model, device, num_batches=eval_iter)\n",
        "    model.train()\n",
        "    return train_loss, val_loss"
      ]
    },
    {
      "cell_type": "code",
      "execution_count": 123,
      "metadata": {
        "vscode": {
          "languageId": "ruby"
        }
      },
      "outputs": [
        {
          "name": "stdout",
          "output_type": "stream",
          "text": [
            "Ep 1 (Step 000000): Train loss 4.151, Val loss 4.346\n",
            "Ep 1 (Step 000050): Train loss 0.730, Val loss 0.720\n",
            "Ep 1 (Step 000100): Train loss 0.541, Val loss 0.548\n",
            "Training accuracy: 92.50% | Validation accuracy: 87.50%\n",
            "Ep 2 (Step 000150): Train loss 0.587, Val loss 0.564\n",
            "Ep 2 (Step 000200): Train loss 0.429, Val loss 0.458\n",
            "Ep 2 (Step 000250): Train loss 0.408, Val loss 0.379\n",
            "Training accuracy: 95.00% | Validation accuracy: 90.00%\n",
            "Ep 3 (Step 000300): Train loss 0.351, Val loss 0.311\n",
            "Ep 3 (Step 000350): Train loss 0.123, Val loss 0.227\n",
            "Training accuracy: 100.00% | Validation accuracy: 92.50%\n",
            "Ep 4 (Step 000400): Train loss 0.152, Val loss 0.218\n",
            "Ep 4 (Step 000450): Train loss 0.168, Val loss 0.181\n",
            "Ep 4 (Step 000500): Train loss 0.034, Val loss 0.155\n",
            "Training accuracy: 97.50% | Validation accuracy: 95.00%\n",
            "Ep 5 (Step 000550): Train loss 0.080, Val loss 0.178\n",
            "Ep 5 (Step 000600): Train loss 0.062, Val loss 0.185\n",
            "Training accuracy: 97.50% | Validation accuracy: 95.00%\n",
            "Ep 6 (Step 000650): Train loss 0.060, Val loss 0.173\n",
            "Ep 6 (Step 000700): Train loss 0.103, Val loss 0.169\n",
            "Ep 6 (Step 000750): Train loss 0.009, Val loss 0.163\n",
            "Training accuracy: 97.50% | Validation accuracy: 95.00%\n",
            "Ep 7 (Step 000800): Train loss 0.048, Val loss 0.175\n",
            "Ep 7 (Step 000850): Train loss 0.148, Val loss 0.185\n",
            "Ep 7 (Step 000900): Train loss 0.050, Val loss 0.171\n",
            "Training accuracy: 97.50% | Validation accuracy: 95.00%\n",
            "Ep 8 (Step 000950): Train loss 0.164, Val loss 0.162\n",
            "Ep 8 (Step 001000): Train loss 0.082, Val loss 0.161\n",
            "Training accuracy: 100.00% | Validation accuracy: 95.00%\n",
            "Training completed in 3.39 minutes.\n"
          ]
        }
      ],
      "source": [
        "import time\n",
        "\n",
        "start_time = time.time()\n",
        "\n",
        "torch.manual_seed(123)\n",
        "\n",
        "optimizer = torch.optim.AdamW(model.parameters(), lr=5e-5, weight_decay=0.1)\n",
        "\n",
        "num_epochs = 8\n",
        "train_losses, val_losses, train_accs, val_accs, examples_seen = train_classifier_simple(\n",
        "    model, train_loader, val_loader, optimizer, device,\n",
        "    num_epochs=num_epochs, eval_freq=50, eval_iter=5,\n",
        ")\n",
        "\n",
        "end_time = time.time()\n",
        "execution_time_minutes = (end_time - start_time) / 60\n",
        "print(f\"Training completed in {execution_time_minutes:.2f} minutes.\")"
      ]
    },
    {
      "cell_type": "markdown",
      "metadata": {},
      "source": [
        "Visualizing the loss curves "
      ]
    },
    {
      "cell_type": "code",
      "execution_count": 124,
      "metadata": {
        "vscode": {
          "languageId": "ruby"
        }
      },
      "outputs": [],
      "source": [
        "import matplotlib.pyplot as plt\n",
        "\n",
        "def plot_values(epochs_seen, examples_seen, train_values, val_values, label=\"loss\"):\n",
        "    fig, ax1 = plt.subplots(figsize=(5, 3))\n",
        "\n",
        "    # Plot training and validation loss against epochs\n",
        "    ax1.plot(epochs_seen, train_values, label=f\"Training {label}\")\n",
        "    ax1.plot(epochs_seen, val_values, linestyle=\"-.\", label=f\"Validation {label}\")\n",
        "    ax1.set_xlabel(\"Epochs\")\n",
        "    ax1.set_ylabel(label.capitalize())\n",
        "    ax1.legend()\n",
        "\n",
        "    # Create a second x-axis for examples seen\n",
        "    ax2 = ax1.twiny()  # Create a second x-axis that shares the same y-axis\n",
        "    ax2.plot(examples_seen, train_values, alpha=0)  # Invisible plot for aligning ticks\n",
        "    ax2.set_xlabel(\"Examples seen\")\n",
        "\n",
        "    fig.tight_layout()  # Adjust layout to make room\n",
        "    plt.savefig(f\"{label}-plot.pdf\")\n",
        "    plt.show()"
      ]
    },
    {
      "cell_type": "code",
      "execution_count": 125,
      "metadata": {
        "vscode": {
          "languageId": "ruby"
        }
      },
      "outputs": [
        {
          "data": {
            "image/png": "[encoded data removed]",
            "text/plain": [
              "<Figure size 500x300 with 2 Axes>"
            ]
          },
          "metadata": {},
          "output_type": "display_data"
        }
      ],
      "source": [
        "epochs_tensor = torch.linspace(0, num_epochs, len(train_losses))\n",
        "examples_seen_tensor = torch.linspace(0, examples_seen, len(train_losses))\n",
        "\n",
        "plot_values(epochs_tensor, examples_seen_tensor, train_losses, val_losses)"
      ]
    },
    {
      "cell_type": "markdown",
      "metadata": {},
      "source": [
        "we can see that there is almost no difference between training and validation losses => there is no overfitting"
      ]
    },
    {
      "cell_type": "code",
      "execution_count": 126,
      "metadata": {},
      "outputs": [
        {
          "name": "stdout",
          "output_type": "stream",
          "text": [
            "Training accuracy: 97.79%\n",
            "Validation accuracy: 97.22%\n",
            "Test accuracy: 97.64%\n"
          ]
        }
      ],
      "source": [
        "train_accuracy = calc_accuracy_loader(train_loader, model, device)\n",
        "val_accuracy = calc_accuracy_loader(val_loader, model, device)\n",
        "test_accuracy = calc_accuracy_loader(test_loader, model, device)\n",
        "\n",
        "print(f\"Training accuracy: {train_accuracy*100:.2f}%\")\n",
        "print(f\"Validation accuracy: {val_accuracy*100:.2f}%\")\n",
        "print(f\"Test accuracy: {test_accuracy*100:.2f}%\")"
      ]
    },
    {
      "cell_type": "markdown",
      "metadata": {},
      "source": [
        "### Using LLM as a Spam Classifier"
      ]
    },
    {
      "cell_type": "markdown",
      "metadata": {},
      "source": [
        "Step 1: Prepare inputs to the model\n",
        "\n",
        "Step 2: Truncate sequences if they too long\n",
        "    \n",
        "Step 3: Pad sequences to the longest sequence\n",
        "\n",
        "Step 4: Add batch dimension\n",
        "\n",
        "Step 5: Model inference without gradient tracking\n",
        "    \n",
        "Step 6: Logits of the last output token\n",
        "\n",
        "Step 7: Return the classified result"
      ]
    },
    {
      "cell_type": "code",
      "execution_count": 127,
      "metadata": {
        "vscode": {
          "languageId": "ruby"
        }
      },
      "outputs": [],
      "source": [
        "def classify_review(text, model, tokenizer, device, max_length=None, pad_token_id=50256):\n",
        "    model.eval()\n",
        "\n",
        "    # Prepare inputs to the model\n",
        "    input_ids = tokenizer.encode(text)\n",
        "    supported_context_length = model.pos_emb.weight.shape[0]\n",
        "    \n",
        "    # Truncate sequences if they too long\n",
        "    input_ids = input_ids[:min(max_length, supported_context_length)]\n",
        "\n",
        "    # Pad sequences to the longest sequence\n",
        "    input_ids += [pad_token_id] * (max_length - len(input_ids))\n",
        "    input_tensor = torch.tensor(input_ids, device=device).unsqueeze(0) # add batch dimension\n",
        "\n",
        "    # Model inference\n",
        "    with torch.no_grad():\n",
        "        logits = model(input_tensor)[:, -1, :]  # Logits of the last output token\n",
        "    predicted_label = torch.argmax(logits, dim=-1).item()\n",
        "\n",
        "    # Return the classified result\n",
        "    return \"spam\" if predicted_label == 1 else \"not spam\""
      ]
    },
    {
      "cell_type": "code",
      "execution_count": 128,
      "metadata": {
        "vscode": {
          "languageId": "ruby"
        }
      },
      "outputs": [
        {
          "name": "stdout",
          "output_type": "stream",
          "text": [
            "not spam\n",
            "spam\n"
          ]
        }
      ],
      "source": [
        "text_1 = (\n",
        "    \"Hello , Tejas can you please send me the report by EOD? \"\n",
        "    \"I need it for the meeting tomorrow. \"\n",
        "    \"Thank you!\"\n",
        ")\n",
        "\n",
        "text_2 = (\n",
        "    \"Congratulations! You've won a $1000 cash prize! \"\n",
        "    \"Click here to claim it.\"\n",
        "    \"You are a winner you have been specially selected to receive this offer.\"\n",
        ")\n",
        "\n",
        "print(classify_review(text_1, model, tokenizer, device, max_length=train_dataset.max_length))\n",
        "print(classify_review(text_2, model, tokenizer, device, max_length=train_dataset.max_length))"
      ]
    },
    {
      "cell_type": "code",
      "execution_count": 129,
      "metadata": {
        "vscode": {
          "languageId": "ruby"
        }
      },
      "outputs": [],
      "source": [
        "# torch.save(model.state_dict(), \"spam_classifier.pth\")\n"
      ]
    },
    {
      "cell_type": "code",
      "execution_count": 130,
      "metadata": {
        "vscode": {
          "languageId": "ruby"
        }
      },
      "outputs": [
        {
          "data": {
            "text/plain": [
              "<All keys matched successfully>"
            ]
          },
          "execution_count": 130,
          "metadata": {},
          "output_type": "execute_result"
        }
      ],
      "source": [
        "model_state_dict = torch.load(\"spam_classifier.pth\")\n",
        "model.load_state_dict(model_state_dict)"
      ]
    },
    {
      "cell_type": "markdown",
      "metadata": {},
      "source": [
        "## Insctruction Based Finetuning\n",
        "\n",
        "Build a Personal Assistant from scratch "
      ]
    },
    {
      "cell_type": "markdown",
      "metadata": {},
      "source": [
        "In instruction Fine-Tuning , input-output pairs are explicitly specified ; Hence it is also called supervised instruction finetuning "
      ]
    },
    {
      "cell_type": "markdown",
      "metadata": {},
      "source": [
        "### Preparing Dataset\n",
        "\n",
        "* Each Data has instruction , input and output "
      ]
    },
    {
      "cell_type": "code",
      "execution_count": 131,
      "metadata": {},
      "outputs": [
        {
          "name": "stdout",
          "output_type": "stream",
          "text": [
            "Number of entries: 1100\n"
          ]
        }
      ],
      "source": [
        "import json\n",
        "import os\n",
        "import urllib\n",
        "import ssl\n",
        "\n",
        "def download_and_load_file(file_path, url):\n",
        "    ssl_context = ssl.create_default_context()\n",
        "    ssl_context.check_hostname = False\n",
        "    ssl_context.verify_mode = ssl.CERT_NONE\n",
        "\n",
        "    if not os.path.exists(file_path):\n",
        "        with urllib.request.urlopen(url, context=ssl_context) as response:\n",
        "            text_data = response.read().decode(\"utf-8\")\n",
        "        with open(file_path, \"w\", encoding=\"utf-8\") as file:\n",
        "            file.write(text_data)\n",
        "    else:\n",
        "        with open(file_path, \"r\", encoding=\"utf-8\") as file:\n",
        "            text_data = file.read()\n",
        "\n",
        "    with open(file_path, \"r\", encoding=\"utf-8\") as file:\n",
        "        data = json.load(file)\n",
        "\n",
        "    return data\n",
        "\n",
        "\n",
        "file_path = \"instruction-data.json\"\n",
        "url = (\n",
        "    \"https://raw.githubusercontent.com/rasbt/LLMs-from-scratch\"\n",
        "    \"/main/ch07/01_main-chapter-code/instruction-data.json\"\n",
        ")\n",
        "\n",
        "data = download_and_load_file(file_path, url)\n",
        "print(\"Number of entries:\", len(data))\n"
      ]
    },
    {
      "cell_type": "code",
      "execution_count": 132,
      "metadata": {
        "vscode": {
          "languageId": "ruby"
        }
      },
      "outputs": [
        {
          "name": "stdout",
          "output_type": "stream",
          "text": [
            "{'instruction': 'Name three forms of water.', 'input': '', 'output': 'The three forms of water are solid (ice), liquid (water), and gas (steam).'}\n"
          ]
        }
      ],
      "source": [
        "print(data[1000])"
      ]
    },
    {
      "cell_type": "markdown",
      "metadata": {},
      "source": [
        "There are 2 types of formatting our instructions (Prompt) : Alpaca and Phi-3 \n",
        "\n",
        " We will be following **Stanford Alpaca** for instructions :\n",
        "\n",
        " ---\n",
        "\n",
        " Below is an instruction that describes a task. Write a response that appropriately completes the request.\n",
        "\n",
        "**Instruction:**\n",
        "Identify the correct spelling of the following word.\n",
        "\n",
        "**Input:**\n",
        "Ocassion\n",
        "\n",
        "**Response:**\n",
        "The correct spelling is 'Occasion'."
      ]
    },
    {
      "cell_type": "code",
      "execution_count": 133,
      "metadata": {
        "vscode": {
          "languageId": "ruby"
        }
      },
      "outputs": [],
      "source": [
        "def format_input(entry):\n",
        "    instruction_text = (\n",
        "        f\"Below is an instruction that describes a task.\"\n",
        "        f\" Write a response that appropriately completes the request.\"\n",
        "        f\"\\n\\n### Instruction:\\n{entry['instruction']}\\n\\n\"\n",
        "        )\n",
        "    input_text = f\"\\n\\n### Input:\\n{entry['input']}\\n\\n\" if entry['input'] else \"\"\n",
        "\n",
        "    return instruction_text + input_text "
      ]
    },
    {
      "cell_type": "code",
      "execution_count": 134,
      "metadata": {
        "vscode": {
          "languageId": "ruby"
        }
      },
      "outputs": [
        {
          "name": "stdout",
          "output_type": "stream",
          "text": [
            "Below is an instruction that describes a task. Write a response that appropriately completes the request.\n",
            "\n",
            "### Instruction:\n",
            "Identify the correct spelling of the following word.\n",
            "\n",
            "\n",
            "\n",
            "### Input:\n",
            "Ocassion\n",
            "\n",
            "\n",
            "\n",
            "### Response:\n",
            "The correct spelling is 'Occasion.'\n"
          ]
        }
      ],
      "source": [
        "model_input = format_input(data[50])\n",
        "desired_response = f\"\\n\\n### Response:\\n{data[50]['output']}\"\n",
        "\n",
        "print(model_input + desired_response)"
      ]
    },
    {
      "cell_type": "markdown",
      "metadata": {},
      "source": [
        "this will be the prompt for the fine-tuning "
      ]
    },
    {
      "cell_type": "markdown",
      "metadata": {},
      "source": [
        "### Splitting data into Train-Test-Val"
      ]
    },
    {
      "cell_type": "code",
      "execution_count": 135,
      "metadata": {
        "vscode": {
          "languageId": "ruby"
        }
      },
      "outputs": [
        {
          "name": "stdout",
          "output_type": "stream",
          "text": [
            "Training set length: 935\n",
            "Validation set length: 55\n",
            "Test set length: 110\n"
          ]
        }
      ],
      "source": [
        "train_portion = int(len(data) * 0.85)  # 85% for training\n",
        "test_portion = int(len(data) * 0.1)    # 10% for testing\n",
        "val_portion = len(data) - train_portion - test_portion  # Remaining 5% for validation\n",
        "\n",
        "train_data = data[:train_portion]\n",
        "test_data = data[train_portion:train_portion + test_portion]\n",
        "val_data = data[train_portion + test_portion:]\n",
        "\n",
        "\n",
        "print(\"Training set length:\", len(train_data))\n",
        "print(\"Validation set length:\", len(val_data))\n",
        "print(\"Test set length:\", len(test_data))"
      ]
    },
    {
      "cell_type": "markdown",
      "metadata": {},
      "source": [
        "### Data Batching "
      ]
    },
    {
      "cell_type": "code",
      "execution_count": 136,
      "metadata": {
        "vscode": {
          "languageId": "ruby"
        }
      },
      "outputs": [],
      "source": [
        "from torch.utils.data import Dataset\n",
        "\n",
        "class InstructionDataset(Dataset):\n",
        "\n",
        "    def __init__(self, data, tokenizer):\n",
        "        self.data = data\n",
        "\n",
        "        # Pre-tokenize texts\n",
        "        self.encoded_texts = []\n",
        "        for entry in self.data:\n",
        "            instruction_plus_input = format_input(entry)\n",
        "            response_tecxt = f\"\\n\\n### Response:\\n{entry['output']}\"\n",
        "            full_text = instruction_plus_input + response_tecxt\n",
        "            self.encoded_texts.append(tokenizer.encode(full_text))\n",
        "\n",
        "    def __getitem__(self, index):\n",
        "        return self.encoded_texts[index]\n",
        "\n",
        "    def __len__(self):\n",
        "        return len(self.data)\n",
        "\n",
        "\n"
      ]
    },
    {
      "cell_type": "markdown",
      "metadata": {},
      "source": [
        "Padding and creating input token IDs function "
      ]
    },
    {
      "cell_type": "code",
      "execution_count": 137,
      "metadata": {
        "vscode": {
          "languageId": "ruby"
        }
      },
      "outputs": [],
      "source": [
        "def custom_collate_draft_1(batch,pad_token_id=50256,device='cpu'):\n",
        "    # Find the longest sequence in the batch\n",
        "    # and increase the max length by +1, which will add one extra\n",
        "    # padding token below\n",
        "\n",
        "    batch_max_length = max(len(seq) + 1 for seq in batch)\n",
        "\n",
        "    inputs_list = []\n",
        "\n",
        "    for item in batch:\n",
        "        new_item = item.copy()\n",
        "        new_item += [pad_token_id] \n",
        "        padded = (new_item + [pad_token_id] * (batch_max_length - len(new_item)))\n",
        "\n",
        "        inputs = torch.tensor(padded[:-1])\n",
        "        inputs_list.append(inputs)\n",
        "    \n",
        "    inputs_tensor = torch.stack(inputs_list).to(device)\n",
        "\n",
        "    return inputs_tensor\n",
        "    \n"
      ]
    },
    {
      "cell_type": "code",
      "execution_count": 138,
      "metadata": {
        "vscode": {
          "languageId": "ruby"
        }
      },
      "outputs": [
        {
          "name": "stdout",
          "output_type": "stream",
          "text": [
            "tensor([[    0,     1,     2,     3,     4],\n",
            "        [    5,     6, 50256, 50256, 50256],\n",
            "        [    7,     8,     9, 50256, 50256]])\n"
          ]
        }
      ],
      "source": [
        "inputs_1 = [0, 1, 2, 3, 4]\n",
        "inputs_2 = [5, 6]\n",
        "inputs_3 = [7, 8, 9]\n",
        "\n",
        "batch = (\n",
        "    inputs_1,\n",
        "    inputs_2,\n",
        "    inputs_3\n",
        ")\n",
        "\n",
        "print(custom_collate_draft_1(batch))"
      ]
    },
    {
      "cell_type": "markdown",
      "metadata": {},
      "source": [
        "Creating Target Token IDs\n"
      ]
    },
    {
      "cell_type": "code",
      "execution_count": 139,
      "metadata": {
        "vscode": {
          "languageId": "ruby"
        }
      },
      "outputs": [],
      "source": [
        "def custom_collate_draft_2(batch, pad_token_id=50256, device='cpu'):\n",
        "    # Find the longest sequence in the batch\n",
        "    batch_max_length = max(len(seq)+1 for seq in batch)\n",
        "\n",
        "    inputs_list , targets_list = [],[]\n",
        "\n",
        "    for item in batch:\n",
        "        new_item = item.copy()\n",
        "        new_item += [pad_token_id]  # Add an extra padding token\n",
        "        padded = (new_item + [pad_token_id] * (batch_max_length - len(new_item)))\n",
        "        inputs = torch.tensor(padded[:-1])  # Exclude the last token for inputs\n",
        "        targets = torch.tensor(padded[1:])  # Exclude the first token for targets\n",
        "\n",
        "        inputs_list.append(inputs)\n",
        "        targets_list.append(targets)\n",
        "\n",
        "    # Stack the inputs and targets tensors\n",
        "    \n",
        "    inputs_tensor = torch.stack(inputs_list).to(device)\n",
        "    targets_tensor = torch.stack(targets_list).to(device)\n",
        "\n",
        "    return inputs_tensor , targets_tensor"
      ]
    },
    {
      "cell_type": "code",
      "execution_count": 140,
      "metadata": {
        "vscode": {
          "languageId": "ruby"
        }
      },
      "outputs": [
        {
          "name": "stdout",
          "output_type": "stream",
          "text": [
            "(tensor([[    0,     1,     2,     3,     4],\n",
            "        [    5,     6, 50256, 50256, 50256],\n",
            "        [    7,     8,     9, 50256, 50256]]), tensor([[    1,     2,     3,     4, 50256],\n",
            "        [    6, 50256, 50256, 50256, 50256],\n",
            "        [    8,     9, 50256, 50256, 50256]]))\n"
          ]
        }
      ],
      "source": [
        "inputs_1 = [0, 1, 2, 3, 4]\n",
        "inputs_2 = [5, 6]\n",
        "inputs_3 = [7, 8, 9]\n",
        "\n",
        "batch = (\n",
        "    inputs_1,\n",
        "    inputs_2,\n",
        "    inputs_3\n",
        ")\n",
        "\n",
        "print(custom_collate_draft_2(batch))"
      ]
    },
    {
      "cell_type": "markdown",
      "metadata": {},
      "source": [
        "In the next step, we assign a -100 placeholder value to all padding tokens. (barring one 50256 token at the end of every sentence because that is necessary.)\n",
        "\n",
        "This special value allows us to exclude these padding tokens from contributing to\n",
        "the training loss calculation, ensuring that only meaningful data influences model learning.\n",
        "\n"
      ]
    },
    {
      "cell_type": "code",
      "execution_count": 141,
      "metadata": {
        "vscode": {
          "languageId": "ruby"
        }
      },
      "outputs": [],
      "source": [
        "def custom_collate_function(\n",
        "    batch,\n",
        "    pad_token_id=50256,\n",
        "    ignore_index=-100,\n",
        "    allowed_max_length=1024,\n",
        "    device= \"mps\" if torch.backends.mps.is_available() else \"cpu\"\n",
        "):\n",
        "    # Find the longest sequence in the batch\n",
        "    batch_max_length = max(len(item)+1 for item in batch)\n",
        "\n",
        "    # Pad and prepare inputs and targets\n",
        "    inputs_lst, targets_lst = [], []\n",
        "\n",
        "    for item in batch:\n",
        "        new_item = item.copy()\n",
        "        # Add an <|endoftext|> token\n",
        "        new_item += [pad_token_id]\n",
        "        # Pad sequences to max_length\n",
        "        padded = (\n",
        "            new_item + [pad_token_id] *\n",
        "            (batch_max_length - len(new_item))\n",
        "        )\n",
        "        inputs = torch.tensor(padded[:-1])  # Truncate the last token for inputs\n",
        "        targets = torch.tensor(padded[1:])  # Shift +1 to the right for targets\n",
        "\n",
        "        # New: Replace all but the first padding tokens in targets by ignore_index\n",
        "        mask = targets == pad_token_id\n",
        "        indices = torch.nonzero(mask).squeeze()\n",
        "        if indices.numel() > 1:\n",
        "            targets[indices[1:]] = ignore_index\n",
        "\n",
        "        # New: Optionally truncate to maximum sequence length\n",
        "        if allowed_max_length is not None:\n",
        "            inputs = inputs[:allowed_max_length]\n",
        "            targets = targets[:allowed_max_length]\n",
        "\n",
        "        inputs_lst.append(inputs)\n",
        "        targets_lst.append(targets)\n",
        "\n",
        "    # Convert list of inputs and targets to tensors and transfer to target device\n",
        "    inputs_tensor = torch.stack(inputs_lst).to(device)\n",
        "    targets_tensor = torch.stack(targets_lst).to(device)\n",
        "\n",
        "    return inputs_tensor, targets_tensor"
      ]
    },
    {
      "cell_type": "code",
      "execution_count": 142,
      "metadata": {
        "vscode": {
          "languageId": "ruby"
        }
      },
      "outputs": [
        {
          "name": "stdout",
          "output_type": "stream",
          "text": [
            "Inputs Tensor:\n",
            " tensor([[    0,     1,     2,     3,     4],\n",
            "        [    5,     6, 50256, 50256, 50256],\n",
            "        [    7,     8,     9, 50256, 50256]], device='mps:0')\n",
            "Targets Tensor:\n",
            " tensor([[    1,     2,     3,     4, 50256],\n",
            "        [    6, 50256,  -100,  -100,  -100],\n",
            "        [    8,     9, 50256,  -100,  -100]], device='mps:0')\n"
          ]
        }
      ],
      "source": [
        "inputs_1 = [0, 1, 2, 3, 4]\n",
        "inputs_2 = [5, 6]\n",
        "inputs_3 = [7, 8, 9]\n",
        "\n",
        "batch = (\n",
        "    inputs_1,\n",
        "    inputs_2,\n",
        "    inputs_3\n",
        ")\n",
        "inp , outp = custom_collate_function(batch)\n",
        "print(\"Inputs Tensor:\\n\", inp)\n",
        "print(\"Targets Tensor:\\n\", outp)\n"
      ]
    },
    {
      "cell_type": "markdown",
      "metadata": {},
      "source": [
        "Pytorch ignores index -100 while calculating cross-entropy loss .\n",
        "\n",
        "That is why we implement padding with -100 token so that it doesnt affect the loss"
      ]
    },
    {
      "cell_type": "markdown",
      "metadata": {},
      "source": [
        "### Masking Target Token IDS"
      ]
    },
    {
      "cell_type": "markdown",
      "metadata": {},
      "source": [
        "In addition to masking out padding tokens, it is also common to mask out the target\n",
        "token IDs that correspond to the instruction\n",
        "\n",
        "By masking out the target token IDs that correspond to the instruction, the LLM cross entropy loss is only computed for the generated response target"
      ]
    },
    {
      "cell_type": "markdown",
      "metadata": {},
      "source": [
        "### Creating DataLoaders"
      ]
    },
    {
      "cell_type": "code",
      "execution_count": 143,
      "metadata": {
        "vscode": {
          "languageId": "ruby"
        }
      },
      "outputs": [
        {
          "name": "stdout",
          "output_type": "stream",
          "text": [
            "Train Loader:\n",
            "torch.Size([8, 73]) torch.Size([8, 73])\n",
            "torch.Size([8, 73]) torch.Size([8, 73])\n",
            "torch.Size([8, 67]) torch.Size([8, 67])\n",
            "torch.Size([8, 62]) torch.Size([8, 62])\n",
            "torch.Size([8, 60]) torch.Size([8, 60])\n",
            "torch.Size([8, 73]) torch.Size([8, 73])\n",
            "torch.Size([8, 71]) torch.Size([8, 71])\n",
            "torch.Size([8, 79]) torch.Size([8, 79])\n",
            "torch.Size([8, 76]) torch.Size([8, 76])\n",
            "torch.Size([8, 77]) torch.Size([8, 77])\n",
            "torch.Size([8, 84]) torch.Size([8, 84])\n",
            "torch.Size([8, 72]) torch.Size([8, 72])\n",
            "torch.Size([8, 72]) torch.Size([8, 72])\n",
            "torch.Size([8, 65]) torch.Size([8, 65])\n",
            "torch.Size([8, 63]) torch.Size([8, 63])\n",
            "torch.Size([8, 72]) torch.Size([8, 72])\n",
            "torch.Size([8, 76]) torch.Size([8, 76])\n",
            "torch.Size([8, 64]) torch.Size([8, 64])\n",
            "torch.Size([8, 68]) torch.Size([8, 68])\n",
            "torch.Size([8, 74]) torch.Size([8, 74])\n",
            "torch.Size([8, 93]) torch.Size([8, 93])\n",
            "torch.Size([8, 85]) torch.Size([8, 85])\n",
            "torch.Size([8, 72]) torch.Size([8, 72])\n",
            "torch.Size([8, 77]) torch.Size([8, 77])\n",
            "torch.Size([8, 61]) torch.Size([8, 61])\n",
            "torch.Size([8, 64]) torch.Size([8, 64])\n",
            "torch.Size([8, 76]) torch.Size([8, 76])\n",
            "torch.Size([8, 72]) torch.Size([8, 72])\n",
            "torch.Size([8, 67]) torch.Size([8, 67])\n",
            "torch.Size([8, 84]) torch.Size([8, 84])\n",
            "torch.Size([8, 54]) torch.Size([8, 54])\n",
            "torch.Size([8, 69]) torch.Size([8, 69])\n",
            "torch.Size([8, 63]) torch.Size([8, 63])\n",
            "torch.Size([8, 77]) torch.Size([8, 77])\n",
            "torch.Size([8, 64]) torch.Size([8, 64])\n",
            "torch.Size([8, 70]) torch.Size([8, 70])\n",
            "torch.Size([8, 81]) torch.Size([8, 81])\n",
            "torch.Size([8, 71]) torch.Size([8, 71])\n",
            "torch.Size([8, 90]) torch.Size([8, 90])\n",
            "torch.Size([8, 78]) torch.Size([8, 78])\n",
            "torch.Size([8, 64]) torch.Size([8, 64])\n",
            "torch.Size([8, 85]) torch.Size([8, 85])\n",
            "torch.Size([8, 72]) torch.Size([8, 72])\n",
            "torch.Size([8, 67]) torch.Size([8, 67])\n",
            "torch.Size([8, 84]) torch.Size([8, 84])\n",
            "torch.Size([8, 70]) torch.Size([8, 70])\n",
            "torch.Size([8, 63]) torch.Size([8, 63])\n",
            "torch.Size([8, 68]) torch.Size([8, 68])\n",
            "torch.Size([8, 59]) torch.Size([8, 59])\n",
            "torch.Size([8, 67]) torch.Size([8, 67])\n",
            "torch.Size([8, 78]) torch.Size([8, 78])\n",
            "torch.Size([8, 62]) torch.Size([8, 62])\n",
            "torch.Size([8, 81]) torch.Size([8, 81])\n",
            "torch.Size([8, 69]) torch.Size([8, 69])\n",
            "torch.Size([8, 67]) torch.Size([8, 67])\n",
            "torch.Size([8, 82]) torch.Size([8, 82])\n",
            "torch.Size([8, 77]) torch.Size([8, 77])\n",
            "torch.Size([8, 60]) torch.Size([8, 60])\n",
            "torch.Size([8, 70]) torch.Size([8, 70])\n",
            "torch.Size([8, 70]) torch.Size([8, 70])\n",
            "torch.Size([8, 61]) torch.Size([8, 61])\n",
            "torch.Size([8, 84]) torch.Size([8, 84])\n",
            "torch.Size([8, 67]) torch.Size([8, 67])\n",
            "torch.Size([8, 69]) torch.Size([8, 69])\n",
            "torch.Size([8, 57]) torch.Size([8, 57])\n",
            "torch.Size([8, 75]) torch.Size([8, 75])\n",
            "torch.Size([8, 76]) torch.Size([8, 76])\n",
            "torch.Size([8, 78]) torch.Size([8, 78])\n",
            "torch.Size([8, 66]) torch.Size([8, 66])\n",
            "torch.Size([8, 67]) torch.Size([8, 67])\n",
            "torch.Size([8, 67]) torch.Size([8, 67])\n",
            "torch.Size([8, 69]) torch.Size([8, 69])\n",
            "torch.Size([8, 71]) torch.Size([8, 71])\n",
            "torch.Size([8, 61]) torch.Size([8, 61])\n",
            "torch.Size([8, 63]) torch.Size([8, 63])\n",
            "torch.Size([8, 67]) torch.Size([8, 67])\n",
            "torch.Size([8, 69]) torch.Size([8, 69])\n",
            "torch.Size([8, 66]) torch.Size([8, 66])\n",
            "torch.Size([8, 74]) torch.Size([8, 74])\n",
            "torch.Size([8, 68]) torch.Size([8, 68])\n",
            "torch.Size([8, 66]) torch.Size([8, 66])\n",
            "torch.Size([8, 65]) torch.Size([8, 65])\n",
            "torch.Size([8, 72]) torch.Size([8, 72])\n",
            "torch.Size([8, 68]) torch.Size([8, 68])\n",
            "torch.Size([8, 63]) torch.Size([8, 63])\n",
            "torch.Size([8, 67]) torch.Size([8, 67])\n",
            "torch.Size([8, 66]) torch.Size([8, 66])\n",
            "torch.Size([8, 81]) torch.Size([8, 81])\n",
            "torch.Size([8, 72]) torch.Size([8, 72])\n",
            "torch.Size([8, 80]) torch.Size([8, 80])\n",
            "torch.Size([8, 77]) torch.Size([8, 77])\n",
            "torch.Size([8, 64]) torch.Size([8, 64])\n",
            "torch.Size([8, 93]) torch.Size([8, 93])\n",
            "torch.Size([8, 75]) torch.Size([8, 75])\n",
            "torch.Size([8, 67]) torch.Size([8, 67])\n",
            "torch.Size([8, 60]) torch.Size([8, 60])\n",
            "torch.Size([8, 64]) torch.Size([8, 64])\n",
            "torch.Size([8, 69]) torch.Size([8, 69])\n",
            "torch.Size([8, 72]) torch.Size([8, 72])\n",
            "torch.Size([8, 69]) torch.Size([8, 69])\n",
            "torch.Size([8, 89]) torch.Size([8, 89])\n",
            "torch.Size([8, 92]) torch.Size([8, 92])\n",
            "torch.Size([8, 72]) torch.Size([8, 72])\n",
            "torch.Size([8, 88]) torch.Size([8, 88])\n",
            "torch.Size([8, 68]) torch.Size([8, 68])\n",
            "torch.Size([8, 62]) torch.Size([8, 62])\n",
            "torch.Size([8, 80]) torch.Size([8, 80])\n",
            "torch.Size([8, 69]) torch.Size([8, 69])\n",
            "torch.Size([8, 70]) torch.Size([8, 70])\n",
            "torch.Size([8, 59]) torch.Size([8, 59])\n",
            "torch.Size([8, 62]) torch.Size([8, 62])\n",
            "torch.Size([8, 67]) torch.Size([8, 67])\n",
            "torch.Size([8, 72]) torch.Size([8, 72])\n",
            "torch.Size([8, 67]) torch.Size([8, 67])\n",
            "torch.Size([8, 82]) torch.Size([8, 82])\n",
            "torch.Size([8, 64]) torch.Size([8, 64])\n"
          ]
        }
      ],
      "source": [
        "num_workers = 0\n",
        "batch_size = 8\n",
        "\n",
        "train_dataset = InstructionDataset(train_data, tokenizer)\n",
        "train_loader = torch.utils.data.DataLoader(\n",
        "    train_dataset,\n",
        "    batch_size=batch_size,\n",
        "    shuffle=True,\n",
        "    collate_fn=custom_collate_function,\n",
        "    num_workers=num_workers,\n",
        "    drop_last=True\n",
        ")\n",
        "val_dataset = InstructionDataset(val_data, tokenizer)\n",
        "val_loader = torch.utils.data.DataLoader(\n",
        "    val_dataset,\n",
        "    batch_size=batch_size,\n",
        "    shuffle=False,\n",
        "    collate_fn=custom_collate_function,\n",
        "    num_workers=num_workers,\n",
        "    drop_last=True\n",
        ")\n",
        "test_dataset = InstructionDataset(test_data, tokenizer)\n",
        "test_loader = torch.utils.data.DataLoader(\n",
        "    test_dataset,\n",
        "    batch_size=batch_size,\n",
        "    shuffle=False,\n",
        "    collate_fn=custom_collate_function,\n",
        "    num_workers=num_workers,\n",
        "    drop_last=True\n",
        ")\n",
        "print('Train Loader:')\n",
        "for inputs , targets in train_loader:\n",
        "    print(inputs.shape, targets.shape)\n"
      ]
    },
    {
      "cell_type": "markdown",
      "metadata": {},
      "source": [
        "### Loading Pretrained LLM"
      ]
    },
    {
      "cell_type": "markdown",
      "metadata": {},
      "source": [
        "We wil use the 124M parameter GPT-2 model which we have donwloaded before"
      ]
    },
    {
      "cell_type": "code",
      "execution_count": 144,
      "metadata": {
        "vscode": {
          "languageId": "ruby"
        }
      },
      "outputs": [
        {
          "name": "stderr",
          "output_type": "stream",
          "text": [
            "/Users/tejas/venv-metal/lib/python3.9/site-packages/urllib3/connectionpool.py:1097: InsecureRequestWarning: Unverified HTTPS request is being made to host 'openaipublic.blob.core.windows.net'. Adding certificate verification is strongly advised. See: https://urllib3.readthedocs.io/en/latest/advanced-usage.html#tls-warnings\n",
            "  warnings.warn(\n"
          ]
        },
        {
          "name": "stdout",
          "output_type": "stream",
          "text": [
            "File already exists and is up-to-date: gpt2/124M/checkpoint\n"
          ]
        },
        {
          "name": "stderr",
          "output_type": "stream",
          "text": [
            "/Users/tejas/venv-metal/lib/python3.9/site-packages/urllib3/connectionpool.py:1097: InsecureRequestWarning: Unverified HTTPS request is being made to host 'openaipublic.blob.core.windows.net'. Adding certificate verification is strongly advised. See: https://urllib3.readthedocs.io/en/latest/advanced-usage.html#tls-warnings\n",
            "  warnings.warn(\n"
          ]
        },
        {
          "name": "stdout",
          "output_type": "stream",
          "text": [
            "File already exists and is up-to-date: gpt2/124M/encoder.json\n"
          ]
        },
        {
          "name": "stderr",
          "output_type": "stream",
          "text": [
            "/Users/tejas/venv-metal/lib/python3.9/site-packages/urllib3/connectionpool.py:1097: InsecureRequestWarning: Unverified HTTPS request is being made to host 'openaipublic.blob.core.windows.net'. Adding certificate verification is strongly advised. See: https://urllib3.readthedocs.io/en/latest/advanced-usage.html#tls-warnings\n",
            "  warnings.warn(\n"
          ]
        },
        {
          "name": "stdout",
          "output_type": "stream",
          "text": [
            "File already exists and is up-to-date: gpt2/124M/hparams.json\n"
          ]
        },
        {
          "name": "stderr",
          "output_type": "stream",
          "text": [
            "/Users/tejas/venv-metal/lib/python3.9/site-packages/urllib3/connectionpool.py:1097: InsecureRequestWarning: Unverified HTTPS request is being made to host 'openaipublic.blob.core.windows.net'. Adding certificate verification is strongly advised. See: https://urllib3.readthedocs.io/en/latest/advanced-usage.html#tls-warnings\n",
            "  warnings.warn(\n"
          ]
        },
        {
          "name": "stdout",
          "output_type": "stream",
          "text": [
            "File already exists and is up-to-date: gpt2/124M/model.ckpt.data-00000-of-00001\n"
          ]
        },
        {
          "name": "stderr",
          "output_type": "stream",
          "text": [
            "/Users/tejas/venv-metal/lib/python3.9/site-packages/urllib3/connectionpool.py:1097: InsecureRequestWarning: Unverified HTTPS request is being made to host 'openaipublic.blob.core.windows.net'. Adding certificate verification is strongly advised. See: https://urllib3.readthedocs.io/en/latest/advanced-usage.html#tls-warnings\n",
            "  warnings.warn(\n"
          ]
        },
        {
          "name": "stdout",
          "output_type": "stream",
          "text": [
            "File already exists and is up-to-date: gpt2/124M/model.ckpt.index\n"
          ]
        },
        {
          "name": "stderr",
          "output_type": "stream",
          "text": [
            "/Users/tejas/venv-metal/lib/python3.9/site-packages/urllib3/connectionpool.py:1097: InsecureRequestWarning: Unverified HTTPS request is being made to host 'openaipublic.blob.core.windows.net'. Adding certificate verification is strongly advised. See: https://urllib3.readthedocs.io/en/latest/advanced-usage.html#tls-warnings\n",
            "  warnings.warn(\n"
          ]
        },
        {
          "name": "stdout",
          "output_type": "stream",
          "text": [
            "File already exists and is up-to-date: gpt2/124M/model.ckpt.meta\n"
          ]
        },
        {
          "name": "stderr",
          "output_type": "stream",
          "text": [
            "/Users/tejas/venv-metal/lib/python3.9/site-packages/urllib3/connectionpool.py:1097: InsecureRequestWarning: Unverified HTTPS request is being made to host 'openaipublic.blob.core.windows.net'. Adding certificate verification is strongly advised. See: https://urllib3.readthedocs.io/en/latest/advanced-usage.html#tls-warnings\n",
            "  warnings.warn(\n"
          ]
        },
        {
          "name": "stdout",
          "output_type": "stream",
          "text": [
            "File already exists and is up-to-date: gpt2/124M/vocab.bpe\n"
          ]
        }
      ],
      "source": [
        "from gpt_download3 import download_and_load_gpt2\n",
        "\n",
        "BASE_CONFIG = {\n",
        "    \"vocab_size\": 50257,     # Vocabulary size\n",
        "    \"context_length\": 1024,  # Context length\n",
        "    \"dropout\": 0.0,        # Dropout rate\n",
        "    \"qkv_bias\": True         # Query-key-value bias\n",
        "}\n",
        "\n",
        "model_configs = {\n",
        "    \"gpt2-small (124M)\": {\"emb_dim\": 768, \"n_layers\": 12, \"n_heads\": 12},\n",
        "    \"gpt2-medium (355M)\": {\"emb_dim\": 1024, \"n_layers\": 24, \"n_heads\": 16},\n",
        "    \"gpt2-large (774M)\": {\"emb_dim\": 1280, \"n_layers\": 36, \"n_heads\": 20},\n",
        "    \"gpt2-xl (1558M)\": {\"emb_dim\": 1600, \"n_layers\": 48, \"n_heads\": 25},\n",
        "}\n",
        "\n",
        "CHOOSE_MODEL = \"gpt2-small (124M)\"\n",
        "\n",
        "BASE_CONFIG.update(model_configs[CHOOSE_MODEL])\n",
        "\n",
        "model_size = CHOOSE_MODEL.split(\" \")[-1].lstrip(\"(\").rstrip(\")\")\n",
        "settings, params = download_and_load_gpt2(\n",
        "    model_size=model_size,\n",
        "    models_dir=\"gpt2\"\n",
        ")\n",
        "\n",
        "model = GPTModel(BASE_CONFIG)\n",
        "load_weights_into_gpt(model, params)\n",
        "model.eval();"
      ]
    },
    {
      "cell_type": "markdown",
      "metadata": {},
      "source": [
        "Performance before Finetuning "
      ]
    },
    {
      "cell_type": "code",
      "execution_count": 145,
      "metadata": {
        "vscode": {
          "languageId": "ruby"
        }
      },
      "outputs": [
        {
          "name": "stdout",
          "output_type": "stream",
          "text": [
            "Below is an instruction that describes a task. Write a response that appropriately completes the request.\n",
            "\n",
            "### Instruction:\n",
            "Convert the active sentence to passive: 'The chef cooks the meal every day.'\n",
            "\n",
            "\n"
          ]
        }
      ],
      "source": [
        "torch.manual_seed(123)\n",
        "input_text = format_input(val_data[0])\n",
        "print(input_text)"
      ]
    },
    {
      "cell_type": "code",
      "execution_count": 146,
      "metadata": {
        "vscode": {
          "languageId": "ruby"
        }
      },
      "outputs": [],
      "source": [
        "token_ids = generate(\n",
        "    model=model,\n",
        "    idx=text_to_token_ids(input_text, tokenizer),\n",
        "    max_new_tokens=35,\n",
        "    context_size=BASE_CONFIG[\"context_length\"],\n",
        "    eos_id=50256,\n",
        ")\n",
        "generated_text = token_ids_to_text(token_ids, tokenizer)"
      ]
    },
    {
      "cell_type": "code",
      "execution_count": 147,
      "metadata": {
        "vscode": {
          "languageId": "ruby"
        }
      },
      "outputs": [
        {
          "name": "stdout",
          "output_type": "stream",
          "text": [
            "### Instruction:\n",
            "\n",
            "Convert the active sentence to passive: 'The chef cooks the meal every day.'\n",
            "\n",
            "### Instruction:\n",
            "\n",
            "Convert the active sentence\n"
          ]
        }
      ],
      "source": [
        "response_text = generated_text[len(input_text):].strip()\n",
        "print(response_text)"
      ]
    },
    {
      "cell_type": "markdown",
      "metadata": {},
      "source": [
        "### Fine-Tuning on Instruction data "
      ]
    },
    {
      "cell_type": "markdown",
      "metadata": {},
      "source": [
        "We will reuse the functions : calc_loss_batch( ), calc_loss_loader( ) , train_model_simple( ) from pre-training step "
      ]
    },
    {
      "cell_type": "code",
      "execution_count": 148,
      "metadata": {
        "vscode": {
          "languageId": "ruby"
        }
      },
      "outputs": [],
      "source": [
        "def calc_loss_batch(input_batch, target_batch, model, device):\n",
        "    input_batch, target_batch = input_batch.to(device), target_batch.to(device)\n",
        "    logits = model(input_batch)\n",
        "    loss = torch.nn.functional.cross_entropy(logits.flatten(0, 1), target_batch.flatten())\n",
        "    return loss\n",
        "\n",
        "\n",
        "def calc_loss_loader(data_loader, model, device, num_batches=None):\n",
        "    total_loss = 0.\n",
        "    if len(data_loader) == 0:\n",
        "        return float(\"nan\")\n",
        "    elif num_batches is None:\n",
        "        num_batches = len(data_loader)\n",
        "    else:\n",
        "        # Reduce the number of batches to match the total number of batches in the data loader\n",
        "        # if num_batches exceeds the number of batches in the data loader\n",
        "        num_batches = min(num_batches, len(data_loader))\n",
        "    for i, (input_batch, target_batch) in enumerate(data_loader):\n",
        "        if i < num_batches:\n",
        "            loss = calc_loss_batch(input_batch, target_batch, model, device)\n",
        "            total_loss += loss.item()\n",
        "        else:\n",
        "            break\n",
        "    return total_loss / num_batches\n",
        "\n",
        "def train_model_simple(model, train_loader, val_loader, optimizer, device, num_epochs,\n",
        "                       eval_freq, eval_iter, start_context, tokenizer):\n",
        "    # Initialize lists to track losses and tokens seen\n",
        "    train_losses, val_losses, track_tokens_seen = [], [], []\n",
        "    tokens_seen, global_step = 0, -1\n",
        "\n",
        "    # Main training loop\n",
        "    for epoch in range(num_epochs):\n",
        "        model.train()  # Set model to training mode\n",
        "        \n",
        "        for input_batch, target_batch in train_loader:\n",
        "            optimizer.zero_grad() # Reset loss gradients from previous batch iteration\n",
        "            loss = calc_loss_batch(input_batch, target_batch, model, device)\n",
        "            loss.backward() # Calculate loss gradients\n",
        "            optimizer.step() # Update model weights using loss gradients\n",
        "            tokens_seen += input_batch.numel() # Returns the total number of elements (or tokens) in the input_batch.\n",
        "            global_step += 1\n",
        "\n",
        "            # Optional evaluation step\n",
        "            if global_step % eval_freq == 0: \n",
        "                train_loss, val_loss = evaluate_model(\n",
        "                    model, train_loader, val_loader, device, eval_iter)\n",
        "                train_losses.append(train_loss)\n",
        "                val_losses.append(val_loss)\n",
        "                track_tokens_seen.append(tokens_seen)\n",
        "                print(f\"Ep {epoch+1} (Step {global_step:06d}): \"\n",
        "                      f\"Train loss {train_loss:.3f}, Val loss {val_loss:.3f}\")\n",
        "\n",
        "        # Print a sample text after each epoch\n",
        "        generate_and_print_sample(\n",
        "            model, tokenizer, device, start_context\n",
        "        )\n",
        "\n",
        "    return train_losses, val_losses, track_tokens_seen\n"
      ]
    },
    {
      "cell_type": "code",
      "execution_count": 149,
      "metadata": {
        "vscode": {
          "languageId": "ruby"
        }
      },
      "outputs": [
        {
          "name": "stdout",
          "output_type": "stream",
          "text": [
            "Training loss: 4.380\n",
            "Validation loss: 4.263\n"
          ]
        }
      ],
      "source": [
        "model.to(device)\n",
        "\n",
        "with torch.no_grad():\n",
        "    train_loss = calc_loss_loader(train_loader, model, device,num_batches=5)\n",
        "    val_loss = calc_loss_loader(val_loader, model, device, num_batches=5)\n",
        "\n",
        "\n",
        "print(f\"Training loss: {train_loss:.3f}\")\n",
        "print(f\"Validation loss: {val_loss:.3f}\")\n",
        "    \n"
      ]
    },
    {
      "cell_type": "code",
      "execution_count": 150,
      "metadata": {
        "vscode": {
          "languageId": "ruby"
        }
      },
      "outputs": [
        {
          "name": "stdout",
          "output_type": "stream",
          "text": [
            "Ep 1 (Step 000000): Train loss 3.340, Val loss 3.283\n",
            "Ep 1 (Step 000010): Train loss 1.312, Val loss 1.186\n",
            "Ep 1 (Step 000020): Train loss 0.929, Val loss 1.043\n",
            "Ep 1 (Step 000030): Train loss 0.897, Val loss 0.959\n",
            "Ep 1 (Step 000040): Train loss 0.819, Val loss 0.920\n",
            "Ep 1 (Step 000050): Train loss 0.777, Val loss 0.898\n",
            "Ep 1 (Step 000060): Train loss 0.811, Val loss 0.868\n",
            "Ep 1 (Step 000070): Train loss 0.744, Val loss 0.849\n",
            "Ep 1 (Step 000080): Train loss 0.729, Val loss 0.832\n",
            "Ep 1 (Step 000090): Train loss 0.635, Val loss 0.810\n",
            "Ep 1 (Step 000100): Train loss 0.714, Val loss 0.790\n",
            "Ep 1 (Step 000110): Train loss 0.759, Val loss 0.784\n",
            "Below is an instruction that describes a task. Write a response that appropriately completes the request.  ### Instruction: Convert the active sentence to passive: 'The chef cooks the meal every day.'    ### Response: The chef cooks the meal every day.<|endoftext|>The following is an instruction that describes a task. Write a response that appropriately completes the request. ### Input: The following is a sentence. Write a response that appropriately\n",
            "Ep 2 (Step 000120): Train loss 0.581, Val loss 0.772\n",
            "Ep 2 (Step 000130): Train loss 0.546, Val loss 0.774\n",
            "Ep 2 (Step 000140): Train loss 0.547, Val loss 0.764\n",
            "Ep 2 (Step 000150): Train loss 0.574, Val loss 0.750\n",
            "Ep 2 (Step 000160): Train loss 0.530, Val loss 0.744\n",
            "Ep 2 (Step 000170): Train loss 0.552, Val loss 0.748\n",
            "Ep 2 (Step 000180): Train loss 0.518, Val loss 0.742\n",
            "Ep 2 (Step 000190): Train loss 0.501, Val loss 0.734\n",
            "Ep 2 (Step 000200): Train loss 0.582, Val loss 0.747\n",
            "Ep 2 (Step 000210): Train loss 0.445, Val loss 0.732\n",
            "Ep 2 (Step 000220): Train loss 0.462, Val loss 0.727\n",
            "Ep 2 (Step 000230): Train loss 0.398, Val loss 0.726\n",
            "Below is an instruction that describes a task. Write a response that appropriately completes the request.  ### Instruction: Convert the active sentence to passive: 'The chef cooks the meal every day.'    ### Response: The chef cooks the meal every day.<|endoftext|>The following is an instruction that describes a task. Write a response that appropriately completes the request.  ### Instruction: What is the opposite of 'small'?   \n",
            "Training completed in 2.56 minutes.\n"
          ]
        }
      ],
      "source": [
        "import time\n",
        "\n",
        "start_time = time.time()\n",
        "\n",
        "torch.manual_seed(123)\n",
        "\n",
        "optimizer = torch.optim.AdamW(model.parameters(), lr=0.00005, weight_decay=0.1)\n",
        "\n",
        "num_epochs = 2\n",
        "\n",
        "train_losses, val_losses, tokens_seen = train_model_simple(\n",
        "    model, train_loader, val_loader, optimizer, device,\n",
        "    num_epochs=num_epochs, eval_freq=10, eval_iter=5,\n",
        "    start_context=format_input(val_data[0]), tokenizer=tokenizer\n",
        ")\n",
        "\n",
        "end_time = time.time()\n",
        "execution_time_minutes = (end_time - start_time) / 60\n",
        "print(f\"Training completed in {execution_time_minutes:.2f} minutes.\")"
      ]
    },
    {
      "cell_type": "markdown",
      "metadata": {},
      "source": [
        "since we are using only 124M parameter pretrained  GPT model - the results are not that great. \n",
        "\n",
        "If we use larger models the results will improve "
      ]
    },
    {
      "cell_type": "code",
      "execution_count": 151,
      "metadata": {
        "vscode": {
          "languageId": "ruby"
        }
      },
      "outputs": [],
      "source": [
        "import matplotlib.pyplot as plt\n",
        "from matplotlib.ticker import MaxNLocator\n",
        "\n",
        "\n",
        "def plot_losses(epochs_seen, tokens_seen, train_losses, val_losses):\n",
        "    fig, ax1 = plt.subplots(figsize=(5, 3))\n",
        "\n",
        "    # Plot training and validation loss against epochs\n",
        "    ax1.plot(epochs_seen, train_losses, label=\"Training loss\")\n",
        "    ax1.plot(epochs_seen, val_losses, linestyle=\"-.\", label=\"Validation loss\")\n",
        "    ax1.set_xlabel(\"Epochs\")\n",
        "    ax1.set_ylabel(\"Loss\")\n",
        "    ax1.legend(loc=\"upper right\")\n",
        "    ax1.xaxis.set_major_locator(MaxNLocator(integer=True))  # only show integer labels on x-axis\n",
        "\n",
        "    # Create a second x-axis for tokens seen\n",
        "    ax2 = ax1.twiny()  # Create a second x-axis that shares the same y-axis\n",
        "    ax2.plot(tokens_seen, train_losses, alpha=0)  # Invisible plot for aligning ticks\n",
        "    ax2.set_xlabel(\"Tokens seen\")\n",
        "\n",
        "    fig.tight_layout()  # Adjust layout to make room\n",
        "    plt.savefig(\"loss-plot.pdf\")\n",
        "    plt.show()"
      ]
    },
    {
      "cell_type": "code",
      "execution_count": 152,
      "metadata": {
        "vscode": {
          "languageId": "ruby"
        }
      },
      "outputs": [
        {
          "data": {
            "image/png": "[encoded data removed]",
            "text/plain": [
              "<Figure size 500x300 with 2 Axes>"
            ]
          },
          "metadata": {},
          "output_type": "display_data"
        }
      ],
      "source": [
        "epochs_tensor = torch.linspace(0, num_epochs, len(train_losses))\n",
        "plot_losses(epochs_tensor, tokens_seen, train_losses, val_losses)"
      ]
    },
    {
      "cell_type": "markdown",
      "metadata": {},
      "source": [
        "### Saving responses "
      ]
    },
    {
      "cell_type": "markdown",
      "metadata": {},
      "source": [
        "Step 1: Iterate over the first 3 test set samples\n",
        "\n",
        "Step 2:  Use the generate function defined earlier"
      ]
    },
    {
      "cell_type": "code",
      "execution_count": 153,
      "metadata": {
        "vscode": {
          "languageId": "ruby"
        }
      },
      "outputs": [
        {
          "name": "stdout",
          "output_type": "stream",
          "text": [
            "Below is an instruction that describes a task. Write a response that appropriately completes the request.\n",
            "\n",
            "### Instruction:\n",
            "Rewrite the sentence using a simile.\n",
            "\n",
            "\n",
            "\n",
            "### Input:\n",
            "The car is very fast.\n",
            "\n",
            "\n",
            "\n",
            "Correct response:\n",
            ">> The car is as fast as lightning.\n",
            "\n",
            "Model response:\n",
            ">> The car is as fast as a horse.\n",
            "-------------------------------------\n",
            "Below is an instruction that describes a task. Write a response that appropriately completes the request.\n",
            "\n",
            "### Instruction:\n",
            "What type of cloud is typically associated with thunderstorms?\n",
            "\n",
            "\n",
            "\n",
            "Correct response:\n",
            ">> The type of cloud typically associated with thunderstorms is cumulonimbus.\n",
            "\n",
            "Model response:\n",
            ">> A type of cloud typically associated with thunderstorms is the active component of the active component of the active component of the active component of the active component of the active component of the active component of the active component of the active component of the active component of the active component of the active component of the active component of the active component of the active component of the active component of the active component of the active component of the active component of the active component of the active component of the active component of the active component of the active component of the active component of the active component of the active component of the active component of the active component of the active component of the active component of the active component of the active component of the active component of the active component of the active component of the active component of the active component of the active component of the active component of the active component of the active component of the active component of the active component of the active component of the active component of the active component of the active component of the active component of the active component of the active component of the active component of the active component of the active component of the active component of the active component of the active component of the active component of the active component of the active component of\n",
            "-------------------------------------\n",
            "Below is an instruction that describes a task. Write a response that appropriately completes the request.\n",
            "\n",
            "### Instruction:\n",
            "Name the author of 'Pride and Prejudice'.\n",
            "\n",
            "\n",
            "\n",
            "Correct response:\n",
            ">> Jane Austen.\n",
            "\n",
            "Model response:\n",
            ">> The author of 'Pride and Prejudice' is Robert Frost.\n",
            "-------------------------------------\n"
          ]
        }
      ],
      "source": [
        "torch.manual_seed(123)\n",
        "\n",
        "\n",
        "for entry in test_data[:3]:\n",
        "\n",
        "    input_text = format_input(entry)\n",
        "\n",
        "    token_ids = generate(\n",
        "        model=model,\n",
        "        idx=text_to_token_ids(input_text, tokenizer).to(device),\n",
        "        max_new_tokens=256,\n",
        "        context_size=BASE_CONFIG[\"context_length\"],\n",
        "        eos_id=50256\n",
        "    )\n",
        "    generated_text = token_ids_to_text(token_ids, tokenizer)\n",
        "    response_text = (\n",
        "        generated_text[len(input_text):]\n",
        "        .replace(\"### Response:\", \"\")\n",
        "        .strip()\n",
        ")\n",
        "\n",
        "    print(input_text)\n",
        "    print(f\"\\nCorrect response:\\n>> {entry['output']}\")\n",
        "    print(f\"\\nModel response:\\n>> {response_text.strip()}\")\n",
        "    print(\"-------------------------------------\")"
      ]
    },
    {
      "cell_type": "markdown",
      "metadata": {},
      "source": [
        "### Evaluating the LLM response "
      ]
    },
    {
      "cell_type": "markdown",
      "metadata": {},
      "source": [
        "In practice, instruction-finetuned LLMs\n",
        "such as chatbots are evaluated via multiple approaches:\n",
        "\n",
        "1. Short-answer and multiple choice benchmarks such as MMLU (\"Measuring\n",
        "Massive Multitask Language Understanding,\" https://arxiv.org/abs/2009.03300), which test the general knowledge of a model.\n",
        "\n",
        "2. Human preference comparison to other LLMs, such as LMSYS chatbot\n",
        "arena (https://arena.lmsys.org).\n",
        "\n",
        "3. Automated conversational benchmarks, where another LLM like GPT-4 is\n",
        "used to evaluate the responses, such as AlpacaEval (https://tatsulab.github.io/alpaca_eval/).\n",
        "completes the request."
      ]
    },
    {
      "cell_type": "code",
      "execution_count": 154,
      "metadata": {
        "vscode": {
          "languageId": "ruby"
        }
      },
      "outputs": [
        {
          "name": "stderr",
          "output_type": "stream",
          "text": [
            "100%|██████████| 110/110 [01:44<00:00,  1.05it/s]\n"
          ]
        }
      ],
      "source": [
        "from tqdm import tqdm\n",
        "\n",
        "for i, entry in tqdm(enumerate(test_data), total=len(test_data)):\n",
        "\n",
        "    input_text = format_input(entry)\n",
        "\n",
        "    token_ids = generate(\n",
        "        model=model,\n",
        "        idx=text_to_token_ids(input_text, tokenizer).to(device),\n",
        "        max_new_tokens=256,\n",
        "        context_size=BASE_CONFIG[\"context_length\"],\n",
        "        eos_id=50256\n",
        "    )\n",
        "    generated_text = token_ids_to_text(token_ids, tokenizer)\n",
        "    response_text = generated_text[len(input_text):].replace(\"### Response:\", \"\").strip()\n",
        "\n",
        "    test_data[i][\"model_response\"] = response_text\n",
        "\n",
        "\n",
        "with open(\"instruction-data-with-response.json\", \"w\") as file:\n",
        "    json.dump(test_data, file, indent=4)  # \"indent\" for pretty-printing"
      ]
    },
    {
      "cell_type": "markdown",
      "metadata": {},
      "source": [
        "To prepare the responses for this evaluation process, we append the generated model\n",
        "responses to the test_set dictionary and save the updated data as an \"instructiondata-with-response.json\" file for record keeping. \n",
        "\n",
        "Additionally, by saving this file, we can\n",
        "easily load and analyze the responses in separate Python sessions later on if needed."
      ]
    },
    {
      "cell_type": "code",
      "execution_count": 155,
      "metadata": {
        "vscode": {
          "languageId": "ruby"
        }
      },
      "outputs": [
        {
          "name": "stdout",
          "output_type": "stream",
          "text": [
            "{'instruction': 'Rewrite the sentence using a simile.', 'input': 'The car is very fast.', 'output': 'The car is as fast as lightning.', 'model_response': 'The car is as fast as a horse.'}\n"
          ]
        }
      ],
      "source": [
        "print(test_data[0])"
      ]
    },
    {
      "cell_type": "code",
      "execution_count": 156,
      "metadata": {
        "vscode": {
          "languageId": "ruby"
        }
      },
      "outputs": [
        {
          "name": "stdout",
          "output_type": "stream",
          "text": [
            "Model saved as gpt2-small124M-sft.pth\n"
          ]
        }
      ],
      "source": [
        "import re\n",
        "\n",
        "\n",
        "file_name = f\"{re.sub(r'[ ()]', '', CHOOSE_MODEL) }-sft.pth\"\n",
        "torch.save(model.state_dict(), file_name)\n",
        "print(f\"Model saved as {file_name}\")\n",
        "\n",
        "# Load model via\n",
        "# model.load_state_dict(torch.load(\"gpt2-small124M-sft.pth\"))"
      ]
    },
    {
      "cell_type": "markdown",
      "metadata": {},
      "source": [
        "### Evaluating the Fine-Tuned LLM"
      ]
    },
    {
      "cell_type": "markdown",
      "metadata": {},
      "source": [
        "\n",
        "To implement the evaluation step which involves evaluating test set responses in\n",
        "an automated fashion, we utilize an existing instruction-finetuned 8 billion parameter Llama\n",
        "3 model developed by Meta AI. \n",
        "\n",
        "This model can be run locally using the open-source Ollama\n",
        "application (https://ollama.com)."
      ]
    },
    {
      "cell_type": "code",
      "execution_count": 157,
      "metadata": {
        "vscode": {
          "languageId": "ruby"
        }
      },
      "outputs": [
        {
          "name": "stdout",
          "output_type": "stream",
          "text": [
            "Ollama running: True\n"
          ]
        }
      ],
      "source": [
        "import psutil\n",
        "\n",
        "def check_if_running(process_name):\n",
        "    running = False\n",
        "    for proc in psutil.process_iter([\"name\"]):\n",
        "        if process_name in proc.info[\"name\"]:\n",
        "            running = True\n",
        "            break\n",
        "    return running\n",
        "\n",
        "ollama_running = check_if_running(\"ollama\")\n",
        "\n",
        "if not ollama_running:\n",
        "    raise RuntimeError(\"Ollama not running. Launch ollama before proceeding.\")\n",
        "print(\"Ollama running:\", check_if_running(\"ollama\"))"
      ]
    },
    {
      "cell_type": "code",
      "execution_count": 158,
      "metadata": {
        "vscode": {
          "languageId": "ruby"
        }
      },
      "outputs": [],
      "source": [
        "import urllib.request\n",
        "\n",
        "def query_model(\n",
        "    prompt,\n",
        "    model=\"llama3.2\",\n",
        "    url=\"http://localhost:11434/api/chat\"\n",
        "):\n",
        "    # Create the data payload as a dictionary\n",
        "    data = {\n",
        "        \"model\": model,\n",
        "        \"messages\": [\n",
        "            {\"role\": \"user\", \"content\": prompt}\n",
        "        ],\n",
        "        \"options\": {     # Settings below are required for deterministic responses\n",
        "            \"seed\": 123,\n",
        "            \"temperature\": 0,\n",
        "            \"num_ctx\": 2048\n",
        "        }\n",
        "    }\n",
        "\n",
        "\n",
        "    # Convert the dictionary to a JSON formatted string and encode it to bytes\n",
        "    payload = json.dumps(data).encode(\"utf-8\")\n",
        "\n",
        "    # Create a request object, setting the method to POST and adding necessary headers\n",
        "    request = urllib.request.Request(\n",
        "        url,\n",
        "        data=payload,\n",
        "        method=\"POST\"\n",
        "    )\n",
        "    request.add_header(\"Content-Type\", \"application/json\")\n",
        "\n",
        "    # Send the request and capture the response\n",
        "    response_data = \"\"\n",
        "    with urllib.request.urlopen(request) as response:\n",
        "        # Read and decode the response\n",
        "        while True:\n",
        "            line = response.readline().decode(\"utf-8\")\n",
        "            if not line:\n",
        "                break\n",
        "            response_json = json.loads(line)\n",
        "            response_data += response_json[\"message\"][\"content\"]\n",
        "\n",
        "    return response_data"
      ]
    },
    {
      "cell_type": "code",
      "execution_count": 159,
      "metadata": {
        "vscode": {
          "languageId": "ruby"
        }
      },
      "outputs": [
        {
          "name": "stdout",
          "output_type": "stream",
          "text": [
            "Llamas are herbivores, which means they primarily eat plants and plant-based foods. Their diet typically consists of:\n",
            "\n",
            "1. Grasses: Llamas love to graze on various types of grasses, including tall grasses, short grasses, and grassy weeds.\n",
            "2. Hay: High-quality hay, such as timothy hay or alfalfa hay, is a staple in a llama's diet. It provides essential nutrients like fiber, protein, and vitamins.\n",
            "3. Grains: Llamas may also be fed grains like oats, barley, or corn, but these should not make up more than 10% of their diet.\n",
            "4. Fruits and vegetables: Fresh fruits and vegetables, such as apples, carrots, and sweet potatoes, can be given to llamas as treats or added to their hay.\n",
            "5. Browse: Llamas may also eat browse, which includes leaves, twigs, and other vegetation from trees and shrubs.\n",
            "\n",
            "It's essential to note that llamas have a unique digestive system, with a four-chambered stomach, which allows them to break down and extract nutrients from plant material more efficiently than many other animals. However, this also means they can be prone to certain health issues if their diet is not balanced or if they eat too much of the wrong foods.\n",
            "\n",
            "A good rule of thumb for llama owners is to provide a high-quality hay-based diet with limited amounts of grains and treats, and to ensure access to fresh water at all times.\n"
          ]
        }
      ],
      "source": [
        "model = \"llama3.2\"\n",
        "result = query_model(\"What do Llamas eat?\", model)\n",
        "print(result)"
      ]
    },
    {
      "cell_type": "markdown",
      "metadata": {},
      "source": [
        "Using the query_model function defined earlier, we can evaluate the responses generated\n",
        "by our finetuned model with a prompt that prompts the Llama 3 model to rate our\n",
        "finetuned model's responses on a scale from 0 to 100 based on the given test set response\n",
        "as reference."
      ]
    },
    {
      "cell_type": "code",
      "execution_count": 160,
      "metadata": {
        "vscode": {
          "languageId": "ruby"
        }
      },
      "outputs": [
        {
          "name": "stdout",
          "output_type": "stream",
          "text": [
            "\n",
            "Dataset response:\n",
            ">> The car is as fast as lightning.\n",
            "\n",
            "Model response:\n",
            ">> The car is as fast as a horse.\n",
            "\n",
            "Score:\n",
            ">> To rewrite the sentence using a simile, we need to compare the speed of the car to something else.\n",
            "\n",
            "Correct output:\n",
            "The car is as fast as lightning.\n",
            "\n",
            "Score: 100\n",
            "\n",
            "Explanation: The model response \"The car is as fast as a horse\" is incorrect because it uses a metaphor (comparing two things that are not alike) instead of a simile (comparing two things using \"like\" or \"as\"). A simile explicitly states the comparison, whereas a metaphor equates one thing with another. In this case, the correct response should use \"as fast as\" to make the comparison explicit.\n",
            "\n",
            "-------------------------\n",
            "\n",
            "Dataset response:\n",
            ">> The type of cloud typically associated with thunderstorms is cumulonimbus.\n",
            "\n",
            "Model response:\n",
            ">> A type of cloud typically associated with thunderstorms is the active component of the active component of the active component of the active component of the active component of the active component of the active component of the active component of the active component of the active component of the active component of the active component of the active component of the active component of the active component of the active component of the active component of the active component of the active component of the active component of the active component of the active component of the active component of the active component of the active component of the active component of the active component of the active component of the active component of the active component of the active component of the active component of the active component of the active component of the active component of the active component of the active component of the active component of the active component of the active component of the active component of the active component of the active component of the active component of the active component of the active component of the active component of the active component of the active component of the active component of the active component of the active component of the active component of the active component of the active component of the active component of the active component of the active component of the active component of the active component of\n",
            "\n",
            "Score:\n",
            ">> To calculate the score, I will use the following criteria:\n",
            "\n",
            "1. Relevance: How well does the response address the question? (30 points)\n",
            "2. Accuracy: Is the information provided correct and up-to-date? (20 points)\n",
            "3. Completeness: Does the response provide a complete answer to the question? (20 points)\n",
            "4. Clarity: How clear is the language used in the response? (30 points)\n",
            "\n",
            "Based on these criteria, I would score the model response as follows:\n",
            "\n",
            "Relevance: 10/30 (The response does not address the question directly and seems to be a jumbled collection of words.)\n",
            "\n",
            "Accuracy: 20/20 (The response states that \"a type of cloud typically associated with thunderstorms is the active component of the active component of the active component of the active component of the active component of the active component of the active component of the active component of the active component of the active component of the active component of the active component of the active component of the active component of the active component of the active component of the active component of the active component of the active component of the active component of the active component of the active component of the active component of the active component of the active component of the active component of the active component of the active component of the active component of the active component of the active component of the active component of the active component of the active component of the active component of the active component of the active component of the active component of the active component of the active component of the active component of the active component of the active component of the active component of the active component of the active component of the active component of the active component of the active component of the active component of the active component of the active component of the active component of the active component of the active component of the active component of the active component of the active component of the active component of the active component of the active component of the active component of the active component of the active component of the active component of the active component of the active component of the active component of the active component of the active component of the active component of the active component of the active component of the active component of the active component of the active component of the active component of the active component of the active component of the active component of the active component of the active component of the active component of the active component of the active component of the active component of the active component of the active component of the active component of the active component of the active component of the active component of the active component of the active component of the active component of the active component of the active component of the active component of the active component of the active component of the active component of the active component of the active component of the active component of the active component of the active component of the active component of the active component of the active component of the active component of the active component of the active component of the active component of the active component of the active component of the active component of the active component of the active component of the active component of the active component of the active component of the active component of the active component of the active component of the active component of the active component of the active component of the active component of the active component of the active component of the active component of the active component of the active component of the active component of the active component of the active component of the active component of the active component of the active component of the active component of the active component of the active component of the active component of the active component of the active component of the active component of the active component of the active component of the active component of the active component of the active component of the active component of the active component of the active component of the active component of the active component of the active component of the active component of the active component of the active component of the active component of the active component of the active component of the active component of the active component of the active component of the active component of the active component of the active component of the active component of the active component of the active component of the active component of the active component of the active component of the active component of the active component of the active component of the active component of the active component of the active component of the active component of the active component of the active component of the active component of the active component of the active component of the active component of the active component of the active component of the active component of the active component of the active component of the active component of the active component of the active component of the active component of the active component of the active component of the active component of the active component of the active component of the active component of the active component of the active component of the active component of the active component of the active component of the active component of the active component of the active component of the active component of the active component of the active component of the active component of the active component of the active component of the active component of the active component of the active component of the active component of the active component of the active component of the active component of the active component of the active component of the active component of the active component of the active component of the active component of the active component of the active component of the active component of the active component of the active component of the active component of the active component of the active component of the active component of the active component of the active component of the active component of the active component of the active component of the active component of the active component of the active component of the active component of the active component of the active component of the active component of the active component of the active component of the active component of the active component of the active component of the active component of the active component of the active component of the active component of the active component of the active component of the active component of the active component of the active component of the active component of the active component of the active component of the active component of the active component of the active component of the active component of the active component of the active component of the active component of the active component of the active component of the active component of the active component of the active component of the active component of the active component of the active component of the active component of the active component of the active component of the active component of the active component of the active component of the active component of the active component of the active component of the active component of the active component of the active component of the active component of the active component of the active component of the active component of the active component of the active component of the active component of the active component of the active component of the active component of the active component of the active component of the active component of the active component of the active component of the active component of the active component of the active component of the active component of the active component of the active component of the active component of the active component of the active component of the active component of the active component of the active component of the active component of the active component of the active component of the active component of the active component of the active component of the active component of the active component of the active component of the active component of the active component of the active component of the active component of the active component of the active component of the active component of the active component of the active component of the active component of the active component of the active component of the active component of the active component of the active component of the active component of the active component of the active component of the active component of the active component of the active component of the active component of the active component of the active component of the active component of the active component of the active component of the active component of the active component of the active component of the active component of the active component of the active component of the active component of the active component of the active component of the active component of the active component of the active component of the active component of the active component of the active component of the active component of the active component of the active component of the active component of the active component of the active component of the active component of the active component of the active component of the active component of the active component of the active component of the active component of the active component of the active component of the active component of the active component of the active component of the active component of the active component of the active component of the active component of the active component of the active component of the active component of the active component of the active component of the active component of the active component of the active component of the active component of the active component of the active component of the active component of the active component of the active component of the active component of the active component of the active component of the active component of the active component of the active component of the active component of the active component of the active component of the active component of the active component of the active component of the active component of the active component of the active component of the active component of the active component of the active component of the active component of the active component of the active component of the active component of the active component of the active component of the active component of the active component of the active component of the active component of the active component of the active component of the active component of the active component of the active component of the active component of the active component of the active component of the active component of the active component of the active component of the active component of the active component of the active component of the active component of the active component of the active component of the active component of the active component of the active component of the active component of the active component of the active component of the active component of the active component of the active component of the active component of the active component of the active component of the active component of the active component of the active component of the active component of the active component of the active component of the active component of the active component of the active component of the active component of the active component of the active component of the active component of the active component of the active component of the active component of the active component of the active component of the active component of the active component of the active component of the active component of the active component of the active component of the active component of the active component of the active component of the active component of the active component of the active component of the active component of the active component of the active component of the active component of the active component of the active component of the active component of the active component of the active component of the active component of the active component of the active component of the active component of the active component of the active component of the active component of the active component of the active component of the active component of the active component of the active component of the active component of the active component of the active component of the active component of the active component of the active component of the active component of the active component of the active component of the active component of the active component of the active component of the active component of the active component of the active component of the active component of the active component of the active component of the active component of the active component of the active component of the active component of the active component of the active component of the active component of the active component of the active component of the active component of the active component of the active component of the active component of the active component of the active component of the active component of the active component of the active component of the active component of the active component of the active component of the active component of the active component of the active component of the active component of the active component of the active component of the active component of the active component of the active component of the active component of the active component of the active component of the active component of the active component of the active component of the active component of the active component of the active component of the active component of the active component of the active component of the active component of the active component of the active component of the active component of the active component of the active component of the active component of the active component of the active component of the active component of the active component of the active component of the active component of the active component of the active component of the active component of the active component of the active component of the active component of the active component of the active component of the active component of the active component of the active component of the active component of the active component of the active component of the active component of the active component of the active component of the active component of the active component of the active component of the active component of the active component of the active component of the active component of the active component of the active component of the active component of the active component of the active component of the active component of the active component of the active component of the active component of the active component of the active component of the active component of the active component of the active component of the active component of the active component of the active component of the active component of the active component of the active component of the active component of the active component of the active component of the active component of the active component of the active component of the active component of the active component of the active component of the active component of the active component of the active component of the active component of the active component of the active component of the active component of the active component of the active component of the active component of the active component of the active component of the active component of the active component of the active component of the active component of the active component of the active component of the active component of the active component of the active component of the active component of the active component of the active component of the active component of the active component of the active component of the active component of the active component of the active component of the active component of the active component of the active component of the active component of the active component of the active component of the active component of the active component of the active component of the active component of the active component of the active component of the active component of the active component of the active component of the active component of the active component of the active component of the active component of the active component of the active component of the active component of the active component of the active component of the active component of the active component of the active component of the active component of the active component of the active component of the active component of the active component of the active component of the active component of the active component of the active component of the active component of the active component of the active component of the active component of the active component of the active component of the active component of the active component of the active component of the active component of the active component of the active component of the active component of the active component of the active component of the active component of the active component of the active component of the active component of the active component of the active component of the active component of the active component of the active component of the active component of the active component of the active component of the active component of the active component of the active component of the active component of the active component of the active component of the active component of the active component of the active component of the active component of the active component of the active component of the active component of the active component of the active component of the active component of the active component of the active component of the active component of the active component of the active component of the active component of the active component of the active component of the active component of the active component of the active component of the active component of the active component of the active component of the active component of the active component of the active component of the active component of the active component of the active component of the active component of the active component of the active component of the active component of the active component of the active component of the active component of the active component of the active component of the active component of the active component of the active component of the active component of the active component of the active component of the active component of the active component of the active component of the active component of the active component of the active component of the active component of the active component of the active component of the active component of the active component of the active component of the active component of the active component of the active component of the active component of the active component of the active component of the active component of the active component of the active component of the active component of the active component of the active component of the active component of the active component of the active component of the active component of the active component of the active component of the active component of the active component of the active component of the active component of the active component of the active component of the active component of the active component of the active component of the active component of the active component of the active component of the active component of the active component of the active component of the active component of the active component of the active component of the active component of the active component of the active component of the active component of the active component of the active component of the active component of the active component of the active component of the active component of the active component of the active component of the active component of the active component of the active component of the active component of the active component of the active component of the active component of the active component of the active component of the active component of the active component of the active component of the active component of the active component of the active component of the active component of the active component of the active component of the active component of the active component of the active component of the active component of the active component of the active component of the active component of the active component of the active component of the active component of the active component of the active component of the active component of the active component of the active component of the active component of the active component of the active component of the active component of the active component of the active component of the active component of the active component of the active component of the active component of the active component of the active component of the active component of the active component of the active component of the active component of the active component of the active component of the active component of the active component of the active component of the active component of the active component of the active component of the active component of the active component of the active component of the active component of the active component of the active component of the active component of the active component of the active component of the active component of the active component of the active component of the active component of the active component of the active component of the active component of the active component of the active component of the active component of the active component of the active component of the active component of the active component of the active component of the active component of the active component of the active component of the active component of the active component of the active component of the active component of the active component of the active component of the active component of the active component of the active component of the active component of the active component of the active component of the active component of the active component of the active component of the active component of the active component of the active component of the active component of the active component of the active component of the active component of the active component of the active component of the active component of the active component of the active component of the active component of the active component of the active component of the active component of the active component of the active component of the active component of the active component of the active component of the active component of the active component of the active component of the active component of the active component of the active component of the active component of the active component of the active component of the active component of the active component of the active component of the active component of the active component of the active component of the active component of the active component of the active component of the active component of the active component of the active component of the active component of the active component of the active component of the active component of the active component of the active component of the active component of the active component of the active component of the active component of the active component of the active component of the active component of the active component of the active component of the active component of the active component of the active component of the active component of the active component of the active component of the active component of the active component of the active component of the active component of the active component of the active component of the active component of the active component of the active component of the active component of the active component of the active component of the active component of the active component of the active component of the active component of the active component of the active component of the active component of the active component of the active component of the active component of the active component of the active component of the active component of the active component of the active component of the active component of the active component of the active component of the active component of the active component of the active component of the active component of the active component of the active component of the active component of the active component of the active component of the active component of the active component of the active component of the active component of the active component of the active component of the active component of the active component of the active component of the active component of the active component of the active component of the active component of the active component of the active component of the active component of the active component of the active component of the active component of the active component of the active component of the active component of the active component of the active component of the active component of the active component of the active component of the active component of the active component of the active component of the active component of the active component of the active component of the active component of the active component of the active component of the active component of the active component of the active component of the active component of the active component of the active component of the active component of the active component of the active component of the active component of the active component of the active component of the active component of the active component of the active component of the active component of the active component of the active component of the active component of the active component of the active component of the active component of the active component of the active component of the active component of the active component of the active component of the active component of the active component of the active component of the active component of the active component of the active component of the active component of the active component of the active component of the active component of the active component of the active component of the active component of the active component of the active component of the active component of the active component of the active component of the active component of the active component of the active component of the active component of the active component of the active component of the active component of the active component of the active component of the active component of the active component of the active component of the active component of the active component of the active component of the active component of the active component of the active component of the active component of the active component of the active component of the active component of the active component of the active component of the active component of the active component of the active component of the active component of the active component of the active component of the active component of the active component of the active component of the active component of the active component of the active component of the active component of the active component of the active component of the active component of the active component of the active component of the active component of the active component of the active component of the active component of the active component of the active component of the active component of the active component of the active component of the active component of the active component of the active component of the active component of the active component of the active component of the active component of the active component of the active component of the active component of the active component of the active component of the active component of the active component of the active component of the active component of the active component of the active component of the active component of the active component of the active component of the active component of the active component of the active component of the active component of the active component of the active component of the active component of the active component of the active component of the active component of the active component of the active component of the active component of the active component of the active component of the active component of the active component of the active component of the active component of the active component of the active component of the active component of the active component of the active component of the active component of the active component of the active component of the active component of the active component of the active component of the active component of the active component of the active component of the active component of the active component of the active component of the active component of the active component of the active component of the active component of the active component of the active component of the active component of the active component of the active component of the active component of the active component of the active component of the active component of the active component of the active component of the active component of the active component of the active component of the active component of the active component of the active component of the active component of the active component of the active component of the active component of the active component of the active component of the active component of the active component of the active component of the active component of the active component of the active component of the active component of the active component of the active component of the active component of the active component of the active component of the active component of the active component of the active component of the active component of the active component of the active component of the active component of the active component of the active component of the active component of the active component of the active component of the active component of the active component of the active component of the active component of the active component of the active component of the active component of the active component of the active component of the active component of the active component of the active component of the active component of the active component of the active component of the active component of the active component of the active component of the active component of the active component of the active component of the active component of the active component of the active component of the active component of the active component of the active component of the active component of the active component of the active component of the active component of the active component of the active component of the active component of the active component of the active component of the active component of the active component of the active component of the active component of the active component of the active component of the active component of the active component of the active component of the active component of the active component of the active component of the active component of the active component of the active component of the active component of the active component of the active component of the active component of the active component of the active component of the active component of the active component of the active component of the active component of the active component of the active component of the active component of the active component of the active component of the active component of the active component of the active component of the active component of the active component of the active component of the active component of the active component of the active component of the active component of the active component of the active component of the active component of the active component of the active component of the active component of the active component of the active component of the active component of the active component of the active component of the active component of the active component of the active component of the active component of the active component of the active component of the active component of the active component of the active component of the active component of the active component of the active component of the active component of the active component of the active component of the active component of the active component of the active component of the active component of the active component of the active component of the active component of the active component of the active component of the active component of the active component of the active component of the active component of the active component of the active component of the active component of the active component of the active component of the active component of the active component of the active component of the active component of the active component of the active component of the active component of the active component of the active component of the active component of the active component of the active component of the active component of the active component of the active component of the active component of the active component of the active component of the active component of the active component of the active component of the active component of the active component of the active component of the active component of the active component of the active component of the active component of the active component of the active component of the active component of the active component of the active component of the active component of the active component of the active component of the active component of the active component of the active component of the active component of the active component of the active component of the active component of the active component of the active component of the active component of the active component of the active component of the active component of the active component of the active component of the active component of the active component of the active component of the active component of the active component of the active component of the active component of the active component of the active component of the active component of the active component of the active component of the active component of the active component of the active component of the active component of the active component of the active component of the active component of the active component of the active component of the active component of the active component of the active component of the active component of the active component of the active component of the active component of the active component of the active component of the active component of the active component of the active component of the active component of the active component of the active component of the active component of the active component of the active component of the active component of the active component of the active component of the active component of the active component of the active component of the active component of the active component of the active component of the active component of the active component of the active component of the active component of the active component of the active component of the active component of the active component of the active component of the active component of the active component of the active component of the active component of the active component of the active component of the active component of the active component of the active component of the active component of the active component of the active component of the active component of the active component of the active component of the active component of the active component of the active component of the active component of the active component of the active component of the active component of the active component of the active component of the active component of the active component of the active component of the active component of the active component of the active component of the active component of the active component of the active component of the active component of the active component of the active component of the active component of the active component of the active component of the active component of the active component of the active component of the active component of the active component of the active component of the active component of the active component of the active component of the active component of the active component of the active component of the active component of the active component of the active component of the active component of the active component of the active component of the active component of the active component of the active component of the active component of the active component of the active component of the active component of the active component of the active component of the active component of the active component of the active component of the active component of the active component of the active component of the active component of the active component of the active component of the active component of the active component of the active component of the active component of the active component of the active component of the active component of the active component of the active component of the active component of the active component of the active component of the active component of the active component of the active component of the active component of the active component of the active component of the active component of the active component of the active component of the active component of the active component of the active component of the active component of the active component of the active component of the active component of the active component of the active component of the active component of the active component of the active component of the active component of the active component of the active component of the active component of the active component of the active component of the active component of the active component of the active component of the active component of the active component of the active component of the active component of the active component of the active component of the active component of the active component of the active component of the active component of the active component of the active component of the active component of the active component of the active component of the active component of the active component of the active component of the active component of the active component of the active component of the active component of the active component of the active component of the active component of the active component of the active component of the active component of the active component of the active component of the active component of the active component of the active component of the active component of the active component of the active component of the active component of the active component of the active component of the active component of the active component of the active component of the active component of the active component of the active component of the active component of the active component of the active component of the active component of the active component of the active component of the active component of the active component of the active component of the active component of the active component of the active component of the active component of the active component of the active component of the active component of the active component of the active component of the active component of the active component of the active component of the active component of the active component of the active component of the active component of the active component of the active component of the active component of the active component of the active component of the active component of the active component of the active component of the active component of the active component of the active component of the active component of the active component of the active component of the active component of the active component of the active component of the active component of the active component of the active component of the active component of the active component of the active component of the active component of the active component of the active component of the active component of the active component of the active component of the active component of the active component of the active component of the active component of the active component of the active component of the active component of the active component of the active component of the active component of the active component of the active component of the active component of the active component of the active component of the active component of the active component of the active component of the active component of the active component of the active component of the active component of the active component of the active component of the active component of the active component of the active component of the active component of the active component of the active component of the active component of the active component of the active component of the active component of the active component of the active component of the active component of the active component of the active component of the active component of the active component of the active component of the active component of the active component of the active component of the active component of the active component of the active component of the active component of the active component of the active component of the active component of the active component of the active component of the active component of the active component of the active component of the active component of the active component of the active component of the active component of the active component of the active component of the active component of the active component of the active component of the active component of the active component of the active component of the active component of the active component of the active component of the active component of the active component of the active component of the active component of the active component of the active component of the active component of the active component of the active component of the active component of the active component of the active component of the active component of the active component of the active component of the active component of the active component of the active component of the active component of the active component of the active component of the active component of the active component of the active component of the active component of the active component of the active component of the active component of the active component of the active component of the active component of the active component of the active component of the active component of the active component of the active component of the active component of the active component of the active component of the active component of the active component of the active component of the active component of the active component of the active component of the active component of the active component of the active component of the active component of the active component of the active component of the active component of the active component of the active component of the active component of the active component of the active component of the active component of the active component of the active component of the active component of the active component of the active component of the active component of the active component of the active component of the active component of the active component of the active component of the active component of the active component of the active component of the active component of the active component of the active component of the active component of the active component of the active component of the active component of the active component of the active component of the active component of the active component of the active component of the active component of the active component of the active component of the active component of the active component of the active component of the active component of the active component of the active component of the active component of the active component of the active component of the active component of the active component of the active component of the active component of the active component of the active component of the active component of the active component of the active component of the active component of the active component of the active component of the active component of the active component of the active component of the active component of the active component of the active component of the active component of the active component of the active component of the active component of the active component of the active component of the active component of the active component of the active component of the active component of the active component of the active component of the active component of the active component of the active component of the active component of the active component of the active component of the active component of the active component of the active component of the active component of the active component of the active component of the active component of the active component of the active component of the active component of the active component of the active component of the active component of the active component of the active component of the active component of the active component of the active component of the active component of the active component of the active component of the active component of the active component of the active component of the active component of the active component of the active component of the active component of the active component of the active component of the active component of the active component of the active component of the active component of the active component of the active component of the active component of the active component of the active component of the active component of the active component of the active component of the active component of the active component of the active component of the active component of the active component of the active component of the active component of the active component of the active component of the active component of the active component of the active component of the active component of the active component of the active component of the active component of the active component of the active component of the active component of the active component of the active component of the active component of the active component of the active component of the active component of the active component of the active component of the active component of the active component of the active component of the active component of the active component of the active component of the active component of the active component of the active component of the active component of the active component of the active component of the active component of the active component of the active component of the active component of the active component of the active component of the active component of the active component of the active component of the active component of the active component of the active component of the active component of the active component of the active component of the active component of the active component of the active component of the active component of the active component of the active component of the active component of the active component of the active component of the active component of the active component of the active component of the active component of the active component of the active component of the active component of the active component of the active component of the active component of the active component of the active component of the active component of the active component of the active component of the active component of the active component of the active component of the active component of the active component of the active component of the active component of the active component of the active component of the active component of the active component of the active component of the active component of the active component of the active component of the active component of the active component of the active component of the active component of the active component of the active component of the active component of the active component of the active component of the active component of the active component of the active component of the active component of the active component of the active component of the active component of the active component of the active component of the active component of the active component of the active component of the active component of the active component of the active component of the active component of the active component of the active component of the active component of the active component of the active component of the active component of the active component of the active component of the active component of the active component of the active component of the active component of the active component of the active component of the active component of the active component of the active component of the active component of the active component of the active component of the active component of the active component of the active component of the active component of the active component of the active component of the active component of the active component of the active component of the active component of the active component of the active component of the active component of the active component of the active component of the active component of the active component of the active component of the active component of the active component of the active component of the active component of the active component of the active component of the active component of the active component of the active component of the active component of the active component of the active component of the active component of the active component of the active component of the active component of the active component of the active component of the active component of the active component of the active component of the active component of the active component of the active component of the active component of the active component of the active component of the active component of the active component of the active component of the active component of the active component of the active component of the active component of the active component of the active component of the active component of the active component of the active component of the active component of the active component of the active component of the active component of the active component of the active component of the active component of the active component of the active component of the active component of the active component of the active component of the active component of the active component of the active component of the active component of the active component of the active component of the active component of the active component of the active component of the active component of the active component of the active component of the active component of the active component of the active component of the active component of the active component of the active component of the active component of the active component of the active component of the active component of the active component of the active component of the active component of the active component of the active component of the active component of the active component of the active component of the active component of the active component of the active component of the active component of the active component of the active component of the active component of the active component of the active component of the active component of the active component of the active component of the active component of the active component of the active component of the active component of the active component of the active component of the active component of the active component of the active component of the active component of the active component of the active component of the active component of the active component of the active component of the active component of the active component of the active component of the active component of the active component of the active component of the active component of the active component of the active component of the active component of the active component of the active component of the active component of the active component of the active component of the active component of the active component of the active component of the active component of the active component of the active component of the active component of the active component of the active component of the active component of the active component of the active component of the active component of the active component of the active component of the active component of the active component of the active component of the active component of the active component of the active component of the active component of the active component of the active component of the active component of the active component of the active component of the active component of the active component of the active component of the active component of the active component of the active component of the active component of the active component of the active component of the active component of the active component of the active component of the active component of the active component of the active component of the active component of the active component of the active component of the active component of the active component of the active component of the active component of the active component of the active component of the active component of the active component of the active component of the active component of the active component of the active component of the active component of the active component of the active component of the active component of the active component of the active component of the active component of the active component of the active component of the active component of the active component of the active component of the active component of the active component of the active component of the active component of the active component of the active component of the active component of the active component of the active component of the active component of the active component of the active component of the active component of the active component of the active component of the active component of the active component of the active component of the active component of the active component of the active component of the active component of the active component of the active component of the active component of the active component of the active component of the active component of the active component of the active component of the active component of the active component of the active component of the active component of the active component of the active component of the active component of the active component of the active component of the active component of the active component of the active component of the active component of the active component of the active component of the active component of the active component of the active component of the active component of the active component of the active component of the active component of the active component of the active component of the active component of the active component of the active component of the active component of the active component of the active component of the active component of the active component of the active component of the active component of the active component of the active component of the active component of the active component of the active component of the active component of the active component of the active component of the active component of the active component of the active component of the active component of the active component of the active component of the active component of the active component of the active component of the active component of the active component of the active component of the active component of the active component of the active component of the active component of the active component of the active component of the active component of the active component of the active component of the active component of the active component of the active component of the active component of the active component of the active component of the active component of the active component of the active component of the active component of the active component of the active component of the active component of the active component of the active component of the active component of the active component of the active component of the active component of the active component of the active component of the active component of the active component of the active component of the active component of the active component of the active component of the active component of the active component of the active component of the active component of the active component of the active component of the active component of the active component of the active component of the active component of the active component of the active component of the active component of the active component of the active component of the active component of the active component of the active component of the active component of the active component of the active component of the active component of the active component of the active component of the active component of the active component of the active component of the active component of the active component of the active component of the active component of the active component of the active component of the active component of the active component of the active component of the active component of the active component of the active component of the active component of the active component of the active component of the active component of the active component of the active component of the active component of the active component of the active component of the active component of the active component of the active component of the active component of the active component of the active component of the active component of the active component of the active component of the active component of the active component of the active component of the active component of the active component of the active component of the active component of the active component of the active component of the active component of the active component of the active component of the active component of the active component of the active component of the active component of the active component of the active component of the active component of the active component of the active component of the active component of the active component of the active component of the active component of the active component of the active component of the active component of the active component of the active component of the active component of the active component of the active component of the active component of the active component of the active component of the active component of the active component of the active component of the active component of the active component of the active component of the active component of the active component of the active component of the active component of the active component of the active component of the active component of the active component of the active component of the active component of the active component of the active component of the active component of the active component of the active component of the active component of the active component of the active component of the active component of the active component of the active component of the active component of the active component of the active component of the active component of the active component of the active component of the active component of the active component of the active component of the active component of the active component of the active component of the active component of the active component of the active component of the active component of the active component of the active component of the active component of the active component of the active component of the active component of the active component of the active component of the active component of the active component of the active component of the active component of the active component of the active component of the active component of the active component of the active component of the active component of the active component of the active component of the active component of the active component of the active component of the active component of the active component of the active component of the active component of the active component of the active component of the active component of the active component of the active component of the active component of the active component of the active component of the active component of the active component of the active component of the active component of the active component of the active component of the active component of the active component of the active component of the active component of the active component of the active component of the active component of the active component of the active component of the active component of the active component of the active component of the active component of the active component of the active component of the active component of the active component of the active component of the active component of the active component of the active component of the active component of the active component of the active component of the active component of the active component of the active component of the active component of the active component of the active component of the active component of the active component of the active component of the active component of the active component of the active component of the active component of the active component of the active component of the active component of the active component of the active component of the active component of the active component of the active component of the active component of the active component of the active component of the active component of the active component of the active component of the active component of the active component of the active component of the active component of the active component of the active component of the active component of the active component of the active component of the active component of the active component of the active component of the active component of the active component of the active component of the active component of the active component of the active component of the active component of the active component of the active component of the active component of the active component of the active component of the active component of the active component of the active component of the active component of the active component of the active component of the active component of the active component of the active component of the active component of the active component of the active component of the active component of the active component of the active component of the active component of the active component of the active component of the active component of the active component of the active component of the active component of the active component of the active component of the active component of the active component of the active component of the active component of the active component of the active component of the active component of the active component of the active component of the active component of the active component of the active component of the active component of the active component of the active component of the active component of the active component of the active component of the active component of the active component of the active component of the active component of the active component of the active component of the active component of the active component of the active component of the active component of the active component of the active component of the active component of the active component of the active component of the active component of the active component of the active component of the active component of the active component of the active component of the active component of the active component of the active component of the active component of the active component of the active component of the active component of the active component of the active component of the active component of the active component of the active component of the active component of the active component of the active component of the active component of the active component of the active component of the active component of the active component of the active component of the active component of the active component of the active component of the active component of the active component of the active component of the active component of the active component of the active component of the active component of the active component of the active component of the active component of the active component of the active component of the active component of the active component of the active component of the active component of the active component of the active component of the active component of the active component of the active component of the active component of the active component of the active component of the active component of the active component of the active component of the active component of the active component of the active component of the active component of the active component of the active component of the active component of the active component of the active component of the active component of the active component of the active component of the active component of the active component of the active component of the active component of the active component of the active component of the active component of the active component of the active component of the active component of the active component of the active component of the active component of the active component of the active component of the active component of the active component of the active component of the active component of the active component of the active component of the active component of the active component of the active component of the active component of the active component of the active component of the active component of the active component of the active component of the active component of the active component of the active component of the active component of the active component of the active component of the active component of the active component of the active component of the active component of the active component of the active component of the active component of the active component of the active component of the active component of the active component of the active component of the active component of the active component of the active component of the active component of the active component of the active component of the active component of the active component of the active component of the active component of the active component of the active component of the active component of the active component of the active component of the active component of the active component of the active component of the active component of the active component of the active component of the active component of the active component of the active component of the active component of the active component of the active component of the active component of the active component of the active component of the active component of the active component of the active component of the active component of the active component of the active component of the active component of the active component of the active component of the active component of the active component of the active component of the active component of the active component of the active component of the active component of the active component of the active component of the active component of the active component of the active component of the active component of the active component of the active component of the active component of the active component of the active component of the active component of the active component of the active component of the active component of the active component of the active component of the active component of the active component of the active component of the active component of the active component of the active component of the active component of the active component of the active component of the active component of the active component of the active component of the active component of the active component of the active component of the active component of the active component of the active component of the active component of the active component of the active component of the active component of the active component of the active component of the active component of the active component of the active component of the active component of the active component of the active component of the active component of the active component of the active component of the active component of the active component of the active component of the active component of the active component of the active component of the active component of the active component of the active component of the active component of the active component of the active component of the active component of the active component of the active component of the active component of the active component of the active component of the active component of the active component of the active component of the active component of the active component of the active component of the active component of the active component of the active component of the active component of the active component of the active component of the active component of the active component of the active component of the active component of the active component of the active component of the active component of the active component of the active component of the active component of the active component of the active component of the active component of the active component of the active component of the active component of the active component of the active component of the active component of the active component of the active component of the active component of the active component of the active component of the active component of the active component of the active component of the active component of the active component of the active component of the active component of the active component of the active component of the active component of the active component of the active component of the active component of the active component of the active component of the active component of the active component of the active component of the active component of the active component of the active component of the active component of the active component of the active component of the active component of the active component of the active component of the active component of the active component of the active component of the active component of the active component of the active component of the active component of the active component of the active component of the active component of the active component of the active component of the active component of the active component of the active component of the active component of the active component of the active component of the active component of the active component of the active component of the active component of the active component of the active component of the active component of the active component of the active component of the active component of the active component of the active component of the active component of the active component of the active component of the active component of the active component of the active component of the active component of the active component of the active component of the active component of the active component of the active component of the active component of the active component of the active component of the active component of the active component of the active component of the active component of the active component of the active component of the active component of the active component of the active component of the active component of the active component of the active component of the active component of the active component of the active component of the active component of the active component of the active component of the active component of the active component of the active component of the active component of the active component of the active component of the active component of the active component of the active component of the active component of the active component of the active component of the active component of the active component of the active component of the active component of the active component of the active component of the active component of the active component of the active component of the active component of the active component of the active component of the active component of the active component of the active component of the active component of the active component of the active component of the active component of the active component of the active component of the active component of the active component of the active component of the active component of the active component of the active component of the active component of the active component of the active component of the active component of the active component of the active component of the active component of the active component of the active component of the active component of the active component of the active component of the active component of the active component of the active component of the active component of the active component of the active component of the active component of the active component of the active component of the active component of the active component of the active component of the active component of the active component of the active component of the active component of the active component of the active component of the active component of the active component of the active component of the active component of the active component of the active component of the active component of the active component of the active component of the active component of the active component of the active component of the active component of the active component of the active component of the active component of the active component of the active component of the active component of the active component of the active component of the active component of the active component of the active component of the active component of the active component of the active component of the active component of the active component of the active component of the active component of the active component of the active component of the active component of the active component of the active component of the active component of the active component of the active component of the active component of the active component of the active component of the active component of the active component of the active component of the active component of the active component of the active component of the active component of the active component of the active component of the active component of the active component of the active component of the active component of the active component of the active component of the active component of the active component of the active component of the active component of the active component of the active component of the active component of the active component of the active component of the active component of the active component of the active component of the active component of the active component of the active component of the active component of the active component of the active component of the active component of the active component of the active component of the active component of the active component of the active component of the active component of the active component of the active component of the active component of the active component of the active component of the active component of the active component of the active component of the active component of the active component of the active component of the active component of the active component of the active component of the active component of the active component of the active component of the active component of the active component of the active component of the active component of the active component of the active component of the active component of the active component of the active component of the active component of the active component of the active component of the active component of the active component of the active component of the active component of the active component of the active component of the active component of the active component of the active component of the active component of the active component of the active component of the active component of the active component of the active component of the active component of the active component of the active component of the active component of the active component of the active component of the active component of the active component of the active component of the active component of the active component of the active component of the active component of the active component of the active component of the active component of the active component of the active component of the active component of the active component of the active component of the active component of the active component of the active component of the active component of the active component of the active component of the active component of the active component of the active component of the active component of the active component of the active component of the active component of the active component of the active component of the active component of the active component of the active component of the active component of the active component of the active component of the active component of the active component of the active component of the active component of the active component of the active component of the active component of the active component of the active component of the active component of the active component of the active component of the active component of the active component of the active component of the active component of the active component of the active component of the active component of the active component of the active component of the active component of the active component of the active component of the active component of the active component of the active component of the active component of the active component of the active component of the active component of the active component of the active component of the active component of the active component of the active component of the active component of the active component of the active component of the active component of the active component of the active component of the active component of the active component of the active component of the active component of the active component of the active component of the active component of the active component of the active component of the active component of the active component of the active component of the active component of the active component of the active component of the active component of the active component of the active component of the active component of the active component of the active component of the active component of the active component of the active component of the active component of the active component of the active component of the active component of the active component of the active component of the active component of the active component of the active component of the active component of the active component of the active component of the active component of the active component of the active component of the active component of the active component of the active component of the active component of the active component of the active component of the active component of the active component of the active component of the active component of the active component of the active component of the active component of the active component of the active component of the active component of the active component of the active component of the active component of the active component of the active component of the active component of the active component of the active component of the active component of the active component of the active component of the active component of the active component of the active component of the active component of the active component of the active component of the active component of the active component of the active component of the active component of the active component of the active component of the active component of the active component of the active component of the active component of the active component of the active component of the active component of the active component of the active component of the active component of the active component of the active component of the active component of the active component of the active component of the active component of the active component of the active component of the active component of the active component of the active component of the active component of the active component of the active component of the active component of the active component of the active component of the active component of the active component of the active component of the active component of the active component of the active component of the active component of the active component of the active component of the active component of the active component of the active component of the active component of the active component of the active component of the active component of the active component of the active component of the active component of the active component of the active component of the active component of the active component of the active component of the active component of the active component of the active component of the active component of the active component of the active component of the active component of the active component of the active component of the active component of the active component of the active component of the active component of the active component of the active component of the active component of the active component of the active component of the active component of the active component of the active component of the active component of the active component of the active component of the active component of the active component of the active component of the active component of the active component of the active component of the active component of the active component of the active component of the active component of the active component of the active component of the active component of the active component of the active component of the active component of the active component of the active component of the active component of the active component of the active component of the active component of the active component of the active component of the active component of the active component of the active component of the active component of the active component of the active component of the active component of the active component of the active component of the active component of the active component of the active component of the active component of the active component of the active component of the active component of the active component of the active component of the active component of the active component of the active component of the active component of the active component of the active component of the active component of the active component of the active component of the active component of the active component of the active component of the active component of the active component of the active component of the active component of the active component of the active component of the active component of the active component of the active component of the active component of the active component of the active component of the active component of the active component of the active component of the active component of the active component of the active component of the active component of the active component of the active component of the active component of the active component of the active component of the active component of the active component of the active component of the active component of the active component of the active component of the active component of the active component of the active component of the active component of the active component of the active component of the active component of the active component of the active component of the active component of the active component of the active component of the active component of the active component of the active component of the active component of the active component of the active component of the active component of the active component of the active component of the active component of the active component of the active component of the active component of the active component of the active component of the active component of the active component of the active component of the active component of the active component of the active component of the active component of the active component of the active component of the active component of the active component of the active component of the active component of the active component of the active component of the active component of the active component of the active component of the active component of the active component of the active component of the active component of the active component of the active component of the active component of the active component of the active component of the active component of the active component of the active component of the active component of the active component of the active component of the active component of the active component of the active component of the active component of the active component of the active component of the active component of the active component of the active component of the active component of the active component of the active component of the active component of the active component of the active component of the active component of the active component of the active component of the active component of the active component of the active component of the active component of the active component of the active component of the active component of the active component of the active component of the active component of the active component of the active component of the active component of the active component of the active component of the active component of the active component of the active component of the active component of the active component of the active component of the active component of the active component of the active component of the active component of the active component of the active component of the active component of the active component of the active component of the active component of the active component of the active component of the active component of the active component of the active component of the active component of the active component of the active component of the active component of the active component of the active component of the active component of the active component of the active component of the active component of the active component of the active component of the active component of the active component of the active component of the active component of the active component of the active component of the active component of the active component of the active component of the active component of the active component of the active component of the active component of the active component of the active component of the active component of the active component of the active component of the active component of the active component of the active component of the active component of the active component of the active component of the active component of the active component of the active component of the active component of the active component of the active component of the active component of the active component of the active component of the active component of the active component of the active component of the active component of the active component of the active component of the active component of the active component of the active component of the active component of the active component of the active component of the active component of the active component of the active component of the active component of the active component of the active component of the active component of the active component of the active component of the active component of the active component of the active component of the active component of the active component of the active component of the active component of the active component of the active component of the active component of the active component of the active component of the active component of the active component of the active component of the active component of the active component of the active component of the active component of the active component of the active component of the active component of the active component of the active component of the active component of the active component of the active component of the active component of the active component of the active component of the active component of the active component of the active component of the active component of the active component of the active component of the active component of the active component of the active component of the active component of the active component of the active component of the active component of the active component of the active component of the active component of the active component of the active component of the active component of the active component of the active component of the active component of the active component of the active component of the active component of the active component of the active component of the active component of the active component of the active component of the active component of the active component of the active component of the active component of the active component of the active component of the active component of the active component of the active component of the active component of the active component of the active component of the active component of the active component of the active component of the active component of the active component of the active component of the active component of the active component of the active component of the active component of the active component of the active component of the active component of the active component of the active component of the active component of the active component of the active component of the active component of the active component of the active component of the active component of the active component of the active component of the active component of the active component of the active component of the active component of the active component of the active component of the active component of the active component of the active component of the active component of the active component of the active component of the active component of the active component of the active component of the active component of the active component of the active component of the active component of the active component of the active component of the active component of the active component of the active component of the active component of the active component of the active component of the active component of the active component of the active component of the active component of the active component of the active component of the active component of the active component of the active component of the active component of the active component of the active component of the active component of the active component of the active component of the active component of the active component of the active component of the active component of the active component of the active component of the active component of the active component of the active component of the active component of the active component of the active component of the active component of the active component of the active component of the active component of the active component of the active component of the active component of the active component of the active component of the active component of the active component of the active component of the active component of the active component of the active component of the active component of the active component of the active component of the active component of the active component of the active component of the active component of the active component of the active component of the active component of the active component of the active component of the active component of the active component of the active component of the active component of the active component of the active component of the active component of the active component of the active component of the active component of the active component of the active component of the active component of the active component of the active component of the active component of the active component of the active component of the active component of the active component of the active component of the active component of the active component of the active component of the active component of the active component of the active component of the active component of the active component of the active component of the active component of the active component of the active component of the active component of the active component of the active component of the active component of the active component of the active component of the active component of the active component of the active component of the active component of the active component of the active component of the active component of the active component of the active component of the active component of the active component of the active component of the active component of the active component of the active component of the active component of the active component of the active component of the active component of the active component of the active component of the active component of the active component of the active component of the active component of the active component of the active component of the active component of the active component of the active component of the active component of the active component of the active component of the active component of the active component of the active component of the active component of the active component of the active component of the active component of the active component of the active component of the active component of the active component of the active component of the active component of the active component of the active component of the active component of the active component of the active component of the active component of the active component of the active component of the active component of the active component of the active component of the active component of the active component of the active component of the active component of the active component of the active component of the active component of the active component of the active component of the active component of the active component of the active component of the active component of the active component of the active component of the active component of the active component of the active component of the active component of the active component of the active component of the active component of the active component of the active component of the active component of the active component of the active component of the active component of the active component of the active component of the active component of the active component of the active component of the active component of the active component of the active component of the active component of the active component of the active component of the active component of the active component of the active component of the active component of the active component of the active component of the active component of the active component of the active component of the active component of the active component of the active component of the active component of the active component of the active component of the active component of the active component of the active component of the active component of the active component of the active component of the active component of the active component of the active component of the active component of the active component of the active component of the active component of the active component of the active component of the active component of the active component of the active component of the active component of the active component of the active component of the active component of the active component of the active component of the active component of the active component of the active component of the active component of the active component of the active component of the active component of the active component of the active component of the active component of the active component of the active component of the active component of the active component of the active component of the active component of the active component of the active component of the active component of the active component of the active component of the active component of the active component of the active component of the active component of the active component of the active component of the active component of the active component of the active component of the active component of the active component of the active component of the active component of the active component of the active component of the active component of the active component of the active component of the active component of the active component of the active component of the active component of the active component of the active component of the active component of the active component of the active component of the active component of the active component of the active component of the active component of the active component of the active component of the active component of the active component of the active component of the active component of the active component of the active component of the active component of the active component of the active component of the active component of the active component of the active component of the active component of the active component of the active component of the active component of the active component of the active component of the active component of the active component of the active component of the active component of the active component of the active component of the active component of the active component of the active component of the active component of the active component of the active component of the active component of the active component of the active component of the active component of the active component of the active component of the active component of the active component of the active component of the active component of the active component of the active component of the active component of the active component of the active component of the active component of the active component of the active component of the active component of the active component of the active component of the active component of the active component of the active component of the active component of the active component of the active component of the active component of the active component of the active component of the active component of the active component of the active component of the active component of the active component of the active component of the active component of the active component of the active component of the active component of the active component of the active component of the active component of the active component of the active component of the active component of the active component of the active component of the active component of the active component of the active component of the active component of the active component of the active component of the active component of the active component of the active component of the active component of the active component of the active component of the active component of the active component of the active component of the active component of the active component of the active component of the active component of the active component of the active component of the active component of the active component of the active component of the active component of the active component of the active component of the active component of the active component of the active component of the active component of the active component of the active component of the active component of the active component of the active component of the active component of the active component of the active component of the active component of the active component of the active component of the active component of the active component of the active component of the active component of the active component of the active component of the active component of the active component of the active component of the active component of the active component of the active component of the active component of the active component of the active component of the active component of the active component of the active component of the active component of the active component of the active component of the active component of the active component of the active component of the active component of the active component of the active component of the active component of the active component of the active component of the active component of the active component of the active component of the active component of the active component of the active component of the active component of the active component of the active component of the active component of the active component of the active component of the active component of the active component of the active component of the active component of the active component of the active component of the active component of the active component of the active component of the active component of the active component of the active component of the active component of the active component of the active component of the active component of the active component of the active component of the active component of the active component of the active component of the active component of the active component of the active component of the active component of the active component of the active component of the active component of the active component of the active component of the active component of the active component of the active component of the active component of the active component of the active component of the active component of the active component of the active component of the active component of the active component of the active component of the active component of the active component of the active component of the active component of the active component of the active component of the active component of the active component of the active component of the active component of the active component of the active component of the active component of the active component of the active component of the active component of the active component of the active component of the active component of the active component of the active component of the active component of the active component of the active component of the active component of the active component of the active component of the active component of the active component of the active component of the active component of the active component of the active component of the active component of the active component of the active component of the active component of the active component of the active component of the active component of the active component of the active component of the active component of the active component of the active component of the active component of the active component of the active component of the active component of the active component of the active component of the active component of the active component of the active component of the active component of the active component of the active component of the active component of the active component of the active component of the active component of the active component of the active component of the active component of the active component of the active component of the active component of the active component of the active component of the active component of the active component of the active component of the active component of the active component of the active component of the active component of the active component of the active component of the active component of the active component of the active component of the active component of the active component of the active component of the active component of the active component of the active component of the active component of the active component of the active component of the active component of the active component of the active component of the active component of the active component of the active component of the active component of the active component of the active component of the active component of the active component of the active component of the active component of the active component of the active component of the active component of the active component of the active component of the active component of the active component of the active component of the active component of the active component of the active component of the active component of the active component of the active component of the active component of the active component of the active component of the active component of the active component of the active component of the active component of the active component of the active component of the active component of the active component of the active component of the active component of the active component of the active component of the active component of the active component of the active component of the active component of the active component of the active component of the active component of the active component of the active component of the active component of the active component of the active component of the active component of the active component of the active component of the active component of the active component of the active component of the active component of the active component of the active component of the active component of the active component of the active component of the active component of the active component of the active component of the active component of the active component of the active component of the active component of the active component of the active component of the active component of the active component of the active component of the active component of the active component of the active component of the active component of the active component of the active component of the active component of the active component of the active component of the active component of the active component of the active component of the active component of the active component of the active component of the active component of the active component of the active component of the active component of the active component of the active component of the active component of the active component of the active component of the active component of the active component of the active component of the active component of the active component of the active component of the active component of the active component of the active component of the active component of the active component of the active component of the active component of the active component of the active component of the active component of the active component of the active component of the active component of the active component of the active component of the active component of the active component of the active component of the active component of the active component of the active component of the active component of the active component of the active component of the active component of the active component of the active component of the active component of the active component of the active component of the active component of the active component of the active component of the active component of the active component of the active component of the active component of the active component of the active component of the active component of the active component of the active component of the active component of the active component of the active component of the active component of the active component of the active component of the active component of the active component of the active component of the active component of the active component of the active component of the active component of the active component of the active component of the active component of the active component of the active component of the active component of the active component of the active component of the active component of the active component of the active component of the active component of the active component of the active component of the active component of the active component of the active component of the active component of the active component of the active component of the active component of the active component of the active component of the active component of the active component of the active component of the active component of the active component of the active component of the active component of the active component of the active component of the active component of the active component of the active component of the active component of the active component of the active component of the active component of the active component of the active component of the active component of the active component of the active component of the active component of the active component of the active component of the active component of the active component of the active component of the active component of the active component of the active component of the active component of the active component of the active component of the active component of the active component of the active component of the active component of the active component of the active component of the active component of the active component of the active component of the active component of the active component of the active component of the active component of the active component of the active component of the active component of the active component of the active component of the active component of the active component of the active component of the active component of the active component of the active component of the active component of the active component of the active component of the active component of the active component of the active component of the active component of the active component of the active component of the active component of the active component of the active component of the active component of the active component of the active component of the active component of the active component of the active component of the active component of the active component of the active component of the active component of the active component of the active component of the active component of the active component of the active component of the active component of the active component of the active component of the active component of the active component of the active component of the active component of the active component of the active component of the active component of the active component of the active component of the active component of the active component of the active component of the active component of the active component of the active component of the active component of the active component of the active component of the active component of the active component of the active component of the active component of the active component of the active component of the active component of the active component of the active component of the active component of the active component of the active component of the active component of the active component of the active component of the active component of the active component of the active component of the active component of the active component of the active component of the active component of the active component of the active component of the active component of the active component of the active component of the active component of the active component of the active component of the active component of the active component of the active component of the active component of the active component of the active component of the active component of the active component of the active component of the active component of the active component of the active component of the active component of the active component of the active component of the active component of the active component of the active component of the active component of the active component of the active component of the active component of the active component of the active component of the active component of the active component of the active component of the active component of the active component of the active component of the active component of the active component of the active component of the active component of the active component of the active component of the active component of the active component of the active component of the active component of the active component of the active component of the active component of the active component of the active component of the active component of the active component of the active component of the active component of the active component of the active component of the active component of the active component of the active component of the active component of the active component of the active component of the active component of the active component of the active component of the active component of the active component of the active component of the active component of the active component of the active component of the active component of the active component of the active component of the active component of the active component of the active component of the active component of the active component of the active component of the active component of the active component of the active component of the active component of the active component of the active component of the active component of the active component of the active component of the active component of the active component of the active component of the active component of the active component of the active component of the active component of the active component of the active component of the active component of the active component of the active component of the active component of the active component of the active component of the active component of the active component of the active component of the active component of the active component of the active component of the active component of the active component of the active component of the active component of the active component of the active component of the active component of the active component of the active component of the active component of the active component of the active component of the active component of the active component of the active component of the active component of the active component of the active component of the active component of the active component of the active component of the active component of the active component of the active component of the active component of the active component of the active component of the active component of the active component of the active component of the active component of the active component of the active component of the active component of the active component of the active component of the active component of the active component of the active component of the active component of the active component of the active component of the active component of the active component of the active component of the active component of the active component of the active component of the active component of the active component of the active component of the active component of the active component of the active component of the active component of the active component of the active component of the active component of the active component of the active component of the active component of the active component of the active component of the active component of the active component of the active component of the active component of the active component of the active component of the active component of the active component of the active component of the active component of the active component of the active component of the active component of the active component of the active component of the active component of the active component of the active component of the active component of the active component of the active component of the active component of the active component of the active component of the active component of the active component of the active component of the active component of the active component of the active component of the active component of the active component of the active component of the active component of the active component of the active component of the active component of the active component of the active component of the active component of the active component of the active component of the active component of the active component of the active component of the active component of the active component of the active component of the active component of the active component of the active component of the active component of the active component of the active component of the active component of the active component of the active component of the active component of the active component of the active component of the active component of the active component of the active component of the active component of the active component of the active component of the active component of the active component of the active component of the active component of the active component of the active component of the active component of the active component of the active component of the active component of the active component of the active component of the active component of the active component of the active component of the active component of the active component of the active component of the active component of the active component of the active component of the active component of the active component of the active component of the active component of the active component of the active component of the active component of the active component of the active component of the active component of the active component of the active component of the active component of the active component of the active component of the active component of the active component of the active component of the active component of the active component of the active component of the active component of the active component of the active component of the active component of the active component of the active component of the active component of the active component of the active component of the active component of the active component of the active component of the active component of the active component of the active component of the active component of the active component of the active component of the active component of the active component of the active component of the active component of the active component of the active component of the active component of the active component of the active component of the active component of the active component of the active component of the active component of the active component of the active component of the active component of the active component of the active component of the active component of the active component of the active component of the active component of the active component of the active component of the active component of the active component of the active component of the active component of the active component of the active component of the active component of the active component of the active component of the active component of the active component of the active component of the active component of the active component of the active component of the active component of the active component of the active component of the active component of the active component of the active component of the active component of the active component of the active component of the active component of the active component of the active component of the active component of the active component of the active component of the active component of the active component of the active component of the active component of the active component of the active component of the active component of the active component of the active component of the active component of the active component of the active component of the active component of the active component of the active component of the active component of the active component of the active component of the active component of the active component of the active component of the active component of the active component of the active component of the active component of the active component of the active component of the active component of the active component of the active component of the active component of the active component of the active component of the active component of the active component of the active component of the active component of the active component of the active component of the active component of the active component of the active component of the active component of the active component of the active component of the active component of the active component of the active component of the active component of the active component of the active component of the active component of the active component of the active component of the active component of the active component of the active component of the active component of the active component of the active component of the active component of the active component of the active component of the active component of the active component of the active component of the active component of the active component of the active component of the active component of the active component of the active component of the active component of the active component of the active component of the active component of the active component of the active component of the active component of the active component of the active component of the active component of the active component of the active component of the active component of the active component of the active component of the active component of the active component of the active component of the active component of the active component of the active component of the active component of the active component of the active component of the active component of the active component of the active component of the active component of the active component of the active component of the active component of the active component of the active component of the active component of the active component of the active component of the active component of the active component of the active component of the active component of the active component of the active component of the active component of the active component of the active component of the active component of the active component of the active component of the active component of the active component of the active component of the active component of the active component of the active component of the active component of the active component of the active component of the active component of the active component of the active component of the active component of the active component of the active component of the active component of the active component of the active component of the active component of the active component of the active component of the active component of the active component of the active component of the active component of the active component of the active component of the active component of the active component of the active component of the active component of the active component of the active component of the active component of the active component of the active component of the active component of the active component of the active component of the active component of the active component of the active component of the active component of the active component of the active component of the active component of the active component of the active component of the active component of the active component of the active component of the active component of the active component of the active component of the active component of the active component of the active component of the active component of the active component of the active component of the active component of the active component of the active component of the active component of the active component of the active component of the active component of the active component of the active component of the active component of the active component of the active component of the active component of the active component of the active component of the active component of the active component of the active component of the active component of the active component of the active component of the active component of the active component of the active component of the active component of the active component of the active component of the active component of the active component of the active component of the active component of the active component of the active component of the active component of the active component of the active component of the active component of the active component of the active component of the active component of the active component of the active component of the active component of the active component of the active component of the active component of the active component of the active component of the active component of the active component of the active component of the active component of the active component of the active component of the active component of the active component of the active component of the active component of the active component of the active component of the active component of the active component of the active component of the active component of the active component of the active component of the active component of the active component of the active component of the active component of the active component of the active component of the active component of the active component of the active component of the active component of the active component of the active component of the active component of the active component of the active component of the active component of the active component of the active component of the active component of the active component of the active component of the active component of the active component of the active component of the active component of the active component of the active component of the active component of the active component of the active component of the active component of the active component of the active component of the active component of the active component of the active component of the active component of the active component of the active component of the active component of the active component of the active component of the active component of the active component of the active component of the active component of the active component of the active component of the active component of the active component of the active component of the active component of the active component of the active component of the active component of the active component of the active component of the active component of the active component of the active component of the active component of the active component of the active component of the active component of the active component of the active component of the active component of the active component of the active component of the active component of the active component of the active component of the active component of the active component of the active component of the active component of the active component of the active component of the active component of the active component of the active component of the active component of the active component of the active component of the active component of the active component of the active component of the active component of the active component of the active component of the active component of the active component of the active component of the active component of the active component of the active component of the active component of the active component of the active component of the active component of the active component of the active component of the active component of the active component of the active component of the active component of the active component of the active component of the active component of the active component of the active component of the active component of the active component of the active component of the active component of the active component of the active component of the active component of the active component of the active component of the active component of the active component of the active component of the active component of the active component of the active component of the active component of the active component of the active component of the active component of the active component of the active component of the active component of the active component of the active component of the active component of the active component of the active component of the active component of the active component of the active component of the active component of the active component of the active component of the active component of the active component of the active component of the active component of the active component of the active component of the active component of the active component of the active component of the active component of the active component of the active component of the active component of the active component of the active component of the active component of the active component of the active component of the active component of the active component of the active component of the active component of the active component of the active component of the active component of the active component of the active component of the active component of the active component of the active component of the active component of the active component of the active component of the active component of the active component of the active component of the active component of the active component of the active component of the active component of the active component of the active component of the active component of the active component of the active component of the active component of the active component of the active component of the active component of the active component of the active component of the active component of the active component of the active component of the active component of the active component of the active component of the active component of the active component of the active component of the active component of the active component of the active component of the active component of the active component of the active component of the active component of the active component of the active component of the active component of the active component of the active component of the active component of the active component of the active component of the active component of the active component of the active component of the active component of the active component of the active component of the active component of the active component of the active component of the active component of the active component of the active component of the active component of the active component of the active component of the active component of the active component of the active component of the active component of the active component of the active component of the active component of the active component of the active component of the active component of the active component of the active component of the active component of the active component of the active component of the active component of the active component of the active component of the active component of the active component of the active component of the active component of the active component of the active component of the active component of the active component of the active component of the active component of the active component of the active component of the active component of the active component of the active component of the active component of the active component of the active component of the active component of the active component of the active component of the active component of the active component of the active component of the active component of the active component of the active component of the active component of the active component of the active component of the active component of the active component of the active component of the active component of the active component of the active component of the active component of the active component of the active component of the active component of the active component of the active component of the active component of the active component of the active component of the active component of the active component of the active component of the active component of the active component of the active component of the active component of the active component of the active component of the active component of the active component of the active component of the active component of the active component of the active component of the active component of the active component of the active component of the active component of the active component of the active component of the active component of the active component of the active component of the active component of the active component of the active component of the active component of the active component of the active component of the active component of the active component of the active component of the active component of the active component of the active component of the active component of the active component of the active component of the active component of the active component of the active component of the active component of the active component of the active component of the active component of the active component of the active component of the active component of the active component of the active component of the active component of the active component of the active component of the active component of the active component of the active component of the active component of the active component of the active component of the active component of the active component of the active component of the active component of the active component of the active component of the active component of the active component of the active component of the active component of the active component of the active component of the active component of the active component of the active component of the active component of the active component of the active component of the active component of the active component of the active component of the active component of the active component of the active component of the active component of the active component of the active component of the active component of the active component of the active component of the active component of the active component of the active component of the active component of the active component of the active component of the active component of the active component of the active component of the active component of the active component of the active component of the active component of the active component of the active component of the active component of the active component of the active component of the active component of the active component of the active component of the active component of the active component of the active component of the active component of the active component of the active component of the active component of the active component of the active component of the active component of the active component of the active component of the active component of the active component of the active component of the active component of the active component of the active component of the active component of the active component of the active component of the active component of the active component of the active component of the active component of the active component of the active component of the active component of the active component of the active component of the active component of the active component of the active component of the active component of the active component of the active component of the active component of the active component of the active component of the active component of the active component of the active component of the active component of the active component of the active component of the active component of the active component of the active component of the active component of the active component of the active component of the active component of the active component of the active component of the active component of the active component of the active component of the active component of the active component of the active component of the active component of the active component of the active component of the active component of the active component of the active component of the active component of the active component of the active component of the active component of the active component of the active component of the active component of the active component of the active component of the active component of the active component of the active component of the active component of the active component of the active component of the active component of the active component of the active component of the active component of the active component of the active component of the active component of the active component of the active component of the active component of the active component of the active component of the active component of the active component of the active component of the active component of the active component of the active component of the active component of the active component of the active component of the active component of the active component of the active component of the active component of the active component of the active component of the active component of the active component of the active component of the active component of the active component of the active component of the active component of the active component of the active component of the active component of the active component of the active component of the active component of the active component of the active component of the active component of the active component of the active component of the active component of the active component of the active component of the active component of the active component of the active component of the active component of the active component of the active component of the active component of the active component of the active component of the active component of the active component of the active component of the active component of the active component of the active component of the active component of the active component of the active component of the active component of the active component of the active component of the active component of the active component of the active component of the active component of the active component of the active component of the active component of the active component of the active component of the active component of the active component of the active component of the active component of the active component of the active component of the active component of the active component of the active component of the active component of the active component of the active component of the active component of the active component of the active component of the active component of the active component of the active component of the active component of the active component of the active component of the active component of the active component of the active component of the active component of the active component of the active component of the active component of the active component of the active component of the active component of the active component of the active component of the active component of the active component of the active component of the active component of the active component of the active component of the active component of the active component of the active component of the active component of the active component of the active component of the active component of the active component of the active component of the active component of the active component of the active component of the active component of the active component of the active component of the active component of the active component of the active component of the active component of the active component of the active component of the active component of the active component of the active component of the active component of the active component of the active component of the active component of the active component of the active component of the active component of the active component of the active component of the active component of the active component of the active component of the active component of the active component of the active component of the active component of the active component of the active component of the active component of the active component of the active component of the active component of the active component of the active component of the active component of the active component of the active component of the active component of the active component of the active component of the active component of the active component of the active component of the active component of the active component of the active component of the active component of the active component of the active component of the active component of the active component of the active component of the active component of the active component of the active component of the active component of the active component of the active component of the active component of the active component of the active component of the active component of the active component of the active component of the active component of the active component of the active component of the active component of the active component of the active component of the active component of the active component of the active component of the active component of the active component of the active component of the active component of the active component of the active component of the active component of the active component of the active component of the active component of the active component of the active component of the active component of the active component of the active component of the active component of the active component of the active component of the active component of the active component of the active component of the active component of the active component of the active component of the active component of the active component of the active component of the active component of the active component of the active component of the active component of the active component of the active component of the active component of the active component of the active component of the active component of the active component of the active component of the active component of the active component of the active component of the active component of the active component of the active component of the active component of the active component of the active component of the active component of the active component of the active component of the active component of the active component of the active component of the active component of the active component of the active component of the active component of the active component of the active component of the active component of the active component of the active component of the active component of the active component of the active component of the active component of the active component of the active component of the active component of the active component of the active component of the active component of the active component of the active component of the active component of the active component of the active component of the active component of the active component of the active component of the active component of the active component of the active component of the active component of the active component of the active component of the active component of the active component of the active component of the active component of the active component of the active component of the active component of the active component of the active component of the active component of the active component of the active component of the active component of the active component of the active component of the active component of the active component of the active component of the active component of the active component of the active component of the active component of the active component of the active component of the active component of the active component of the active component of the active component of the active component of the active component of the active component of the active component of the active component of the active component of the active component of the active component of the active component of the active component of the active component of the active component of the active component of the active component of the active component of the active component of the active component of the active component of the active component of the active component of the active component of the active component of the active component of the active component of the active component of the active component of the active component of the active component of the active component of the active component of the active component of the active component of the active component of the active component of the active component of the active component of the active component of the active component of the active component of the active component of the active component of the active component of the active component of the active component of the active component of the active component of the active component of the active component of the active component of the active component of the active component of the active component of the active component of the active component of the active component of the active component of the active component of the active component of the active component of the active component of the active component of the active component of the active component of the active component of the active component of the active component of the active component of the active component of the active component of the active component of the active component of the active component of the active component of the active component of the active component of the active component of the active component of the active component of the active component of the active component of the active component of the active component of the active component of the active component of the active component of the active component of the active component of the active component of the active component of the active component of the active component of the active component of the active component of the active component of the active component of the active component of the active component of the active component of the active component of the active component of the active component of the active component of the active component of the active component of the active component of the active component of the active component of the active component of the active component of the active component of the active component of the active component of the active component of the active component of the active component of the active component of the active component of the active component of the active component of the active component of the active component of the active component of the active component of the active component of the active component of the active component of the active component of the active component of the active component of the active component of the active component of the active component of the active component of the active component of the active component of the active component of the active component of the active component of the active component of the active component of the active component of the active component of the active component of the active component of the active component of the active component of the active component of the active component of the active component of the active component of the active component of the active component of the active component of the active component of the active component of the active component of the active component of the active component of the active component of the active component of the active component of the active component of the active component of the active component of the active component of the active component of the active component of the active component of the active component of the active component of the active component of the active component of the active component of the active component of the active component of the active component of the active component of the active component of the active component of the active component of the active component of the active component of the active component of the active component of the active component of the active component of the active component of the active component of the active component of the active component of the active component of the active component of the active component of the active component of the active component of the active component of the active component of the active component of the active component of the active component of the active component of the active component of the active component of the active component of the active component of the active component of the active component of the active component of the active component of the active component of the active component of the active component of the active component of the active component of the active component of the active component of the active component of the active component of the active component of the active component of the active component of the active component of the active component of the active component of the active component of the active component of the active component of the active component of the active component of the active component of the active component of the active component of the active component of the active component of the active component of the active component of the active component of the active component of the active component of the active component of the active component of the active component of the active component of the active component of the active component of the active component of the active component of the active component of the active component of the active component of the active component of the active component of the active component of the active component of the active component of the active component of the active component of the active component of the active component of the active component of the active component of the active component of the active component of the active component of the active component of the active component of the active component of the active component of the active component of the active component of the active component of the active component of the active component of the active component of the active component of the active component of the active component of the active component of the active component of the active component of the active component of the active component of the active component of the active component of the active component of the active component of the active component of the active component of the active component of the active component of the active component of the active component of the active component of the active component of the active component of the active component of the active component of the active component of the active component of the active component of the active component of the active component of the active component of the active component of the active component of the active component of the active component of the active component of the active component of the active component of the active component of the active component of the active component of the active component of the active component of the active component of the active component of the active component of the active component of the active component of the active component of the active component of the active component of the active component of the active component of the active component of the active component of the active component of the active component of the active component of the active component of the active component of the active component of the active component of the active component of the active component of the active component of the active component of the active component of the active component of the active component of the active component of the active component of the active component of the active component of the active component of the active component of the active component of the active component of the active component of the active component of the active component of the active component of the active component of the active component of the active component of the active component of the active component of the active component of the active component of the active component of the active component of the active component of the active component of the active component of the active component of the active component of the active component of the active component of the active component of the active component of the active component of the active component of the active component of the active component of the active component of the active component of the active component of the active component of the active component of the active component of the active component of the active component of the active component of the active component of the active component of the active component of the active component of the active component of the active component of the active component of the active component of the active component of the active component of the active component of the active component of the active component of the active component of the active component of the active component of the active component of the active component of the active component of the active component of the active component of the active component of the active component of the active component of the active component of the active component of the active component of the active component of the active component of the active component of the active component of the active component of the active component of the active component of the active component of the active component of the active component of the active component of the active component of the active component of the active component of the active component of the active component of the active component of the active component of the active component of the active component of the active component of the active component of the active component of the active component of the active component of the active component of the active component of the active component of the active component of the active component of the active component of the active component of the active component of the active component of the active component of the active component of the active component of the active component of the active component of the active component of the active component of the active component of the active component of the active component of the active component of the active component of the active component of the active component of the active component of the active component of the active component of the active component of the active component of the active component of the active component of the active component of the active component of the active component of the active component of the active component of the active component of the active component of the active component of the active component of the active component of the active component of the active component of the active component of the active component of the active component of the active component of the active component of the active component of the active component of the active component of the active component of the active component of the active component of the active component of the active component of the active component of the active component of the active component of the active component of the active component of the active component of the active component of the active component of the active component of the active component of the active component of the active component of the active component of the active component of the active component of the active component of the active component of the active component of the active component of the active component of the active component of the active component of the active component of the active component of the active component of the active component of the active component of the active component of the active component of the active component of the active component of the active component of the active component of the active component of the active component of the active component of the active component of the active component of the active component of the active component of the active component of the active component of the active component of the active component of the active component of the active component of the active component of the active component of the active component of the active component of the active component of the active component of the active component of the active component of the active component of the active component of the active component of the active component of the active component of the active component of the active component of the active component of the active component of the active component of the active component of the active component of the active component of the active component of the active component of the active component of the active component of the active component of the active component of the active component of the active component of the active component of the active component of the active component of the active component of the active component of the active component of the active component of the active component of the active component of the active component of the active component of the active component of the active component of the active component of the active component of the active component of the active component of the active component of the active component of the active component of the active component of the active component of the active component of the active component of the active component of the active component of the active component of the active component of the active component of the active component of the active component of the active component of the active component of the active component of the active component of the active component of the active component of the active component of the active component of the active component of the active component of the active component of the active component of the active component of the active component of the active component of the active component of the active component of the active component of the active component of the active component of the active component of the active component of the active component of the active component of the active component of the active component of the active component of the active component of the active component of the active component of the active component of the active component of the active component of the active component of the active component of the active component of the active component of the active component of the active component of the active component of the active component of the active component of the active component of the active component of the active component of the active component of the active component of the active component of the active component of the active component of the active component of the active component of the active component of the active component of the active component of the active component of the active component of the active component of the active component of the active component of the active component of the active component of the active component of the active component of the active component of the active component of the active component of the active component of the active component of the active component of the active component of the active component of the active component of the active component of the active component of the active component of the active component of the active component of the active component of the active component of the active component of the active component of the active component of the active component of the active component of the active component of the active component of the active component of the active component of the active component of the active component of the active component of the active component of the active component of the active component of the active component of the active component of the active component of the active component of the active component of the active component of the active component of the active component of the active component of the active component of the active component of the active component of the active component of the active component of the active component of the active component of the active component of the active component of the active component of the active component of the active component of the active component of the active component of the active component of the active component of the active component of the active component of the active component of the active component of the active component of the active component of the active component of the active component of the active component of the active component of the active component of the active component of the active component of the active component of the active component of the active component of the active component of the active component of the active component of the active component of the active component of the active component of the active component of the active component of the active component of the active component of the active component of the active component of the active component of the active component of the active component of the active component of the active component of the active component of the active component of the active component of the active component of the active component of the active component of the active component of the active component of the active component of the active component of the active component of the active component of the active component of the active component of the active component of the active component of the active component of the active component of the active component of the active component of the active component of the active component of the active component of the active component of the active component of the active component of the active component of the active component of the active component of the active component of the active component of the active component of the active component of the active component of the active component of the active component of the active component of the active component of the active component of the active component of the active component of the active component of the active component of the active component of the active component of the active component of the active component of the active component of the active component of the active component of the active component of the active component of the active component of the active component of the active component of the active component of the active component of the active component of the active component of the active component of the active component of the active component of the active component of the active component of the active component of the active component of the active component of the active component of the active component of the active component of the active component of the active component of the active component of the active component of the active component of the active component of the active component of the active component of the active component of the active component of the active component of the active component of the active component of the active component of the active component of the active component of the active component of the active component of the active component of the active component of the active component of the active component of the active component of the active component of the active component of the active component of the active component of the active component of the active component of the active component of the active component of the active component of the active component of the active component of the active component of the active component of the active component of the active component of the active component of the active component of the active component of the active component of the active component of the active component of the active component of the active component of the active component of the active component of the active component of the active component of the active component of the active component of the active component of the active component of the active component of the active component of the active component of the active component of the active component of the active component of the active component of the active component of the active component of the active component of the active component of the active component of the active component of the active component of the active component of the active component of the active component of the active component of the active component of the active component of the active component of the active component of the active component of the active component of the active component of the active component of the active component of the active component of the active component of the active component of the active component of the active component of the active component of the active component of the active component of the active component of the active component of the active component of the active component of the active component of the active component of the active component of the active component of the active component of the active component of the active component of the active component of the active component of the active component of the active component of the active component of the active component of the active component of the active component of the active component of the active component of the active component of the active component of the active component of the active component of the active component of the active component of the active component of the active component of the active component of the active component of the active component of the active component of the active component of the active component of the active component of the active component of the active component of the active component of the active component of the active component of the active component of the active component of the active component of the active component of the active component of the active component of the active component of the active component of the active component of the active component of the active component of the active component of the active component of the active component of the active component of the active component of the active component of the active component of the active component of the active component of the active component of the active component of the active component of the active component of the active component of the active component of the active component of the active component of the active component of the active component of the active component of the active component of the active component of the active component of the active component of the active component of the active component of the active component of the active component of the active component of the active component of the active component of the active component of the active component of the active component of the active component of the active component of the active component of the active component of the active component of the active component of the active component of the active component of the active component of the active component of the active component of the active component of the active component of the active component of the active component of the active component of the active component of the active component of the active component of the active component of the active component of the active component of the active component of the active component of the active component of the active component of the active component of the active component of the active component of the active component of the active component of the active component of the active component of the active component of the active component of the active component of the active component of the active component of the active component of the active component of the active component of the active component of the active component of the active component of the active component of the active component of the active component of the active component of the active component of the active component of the active component of the active component of the active component of the active component of the active component of the active component of the active component of the active component of the active component of the active component of the active component of the active component of the active component of the active component of the active component of the active component of the active component of the active component of the active component of the active component of the active component of the active component of the active component of the active component of the active component of the active component of the active component of the active component of the active component of the active component of the active component of the active component of the active component of the active component of the active component of the active component of the active component of the active component of the active component of the active component of the active component of the active component of the active component of the active component of the active component of the active component of the active component of the active component of the active component of the active component of the active component of the active component of the active component of the active component of the active component of the active component of the active component of the active component of the active component of the active component of the active component of the active component of the active component of the active component of the active component of the active component of the active component of the active component of the active component of the active component of the active component of the active component of the active component of the active component of the active component of the active component of the active component of the active component of the active component of the active component of the active component of the active component of the active component of the active component of the active component of the active component of the active component of the active component of the active component of the active component of the active component of the active component of the active component of the active component of the active component of the active component of the active component of the active component of the active component of the active component of the active component of the active component of the active component of the active component of the active component of the active component of the active component of the active component of the active component of the active component of the active component of the active component of the active component of the active component of the active component of the active component of the active component of the active component of the active component of the active component of the active component of the active component of the active component of the active component of the active component of the active component of the active component of the active component of the active component of the active component of the active component of the active component of the active component of the active component of the active component of the active component of the active component of the active component of the active component of the active component of the active component of the active component of the active component of the active component of the active component of the active component of the active component of the active component of the active component of the active component of the active component of the active component of the active component of the active component of the active component of the active component of the active component of the active component of the active component of the active component of the active component of the active component of the active component of the active component of the active component of the active component of the active component of the active component of the active component of the active component of the active component of the active component of the active component of the active component of the active component of the active component of the active component of the active component of the active component of the active component of the active component of the active component of the active component of the active component of the active component of the active component of the active component of the active component of the active component of the active component of the active component of the active component of the active component of the active component of the active component of the active component of the active component of the active component of the active component of the active component of the active component of the active component of the active component of the active component of the active component of the active component of the active component of the active component of the active component of the active component of the active component of the active component of the active component of the active component of the active component of the active component of the active component of the active component of the active component of the active component of the active component of the active component of the active component of the active component of the active component of the active component of the active component of the active component of the active component of the active component of the active component of the active component of the active component of the active component of the active component of the active component of the active component of the active component of the active component of the active component of the active component of the active component of the active component of the active component of the active component of the active component of the active component of the active component of the active component of the active component of the active component of the active component of the active component of the active component of the active component of the active component of the active component of the active component of the active component of the active component of the active component of the active component of the active component of the active component of the active component of the active component of the active component of the active component of the active component of the active component of the active component of the active component of the active component of the active component of the active component of the active component of the active component of the active component of the active component of the active component of the active component of the active component of the active component of the active component of the active component of the active component of the active component of the active component of the active component of the active component of the active component of the active component of the active component of the active component of the active component of the active component of the active component of the active component of the active component of the active component of the active component of the active component of the active component of the active component of the active component of the active component of the active component of the active component of the active component of the active component of the active component of the active component of the active component of the active component of the active component of the active component of the active component of the active component of the active component of the active component of the active component of the active component of the active component of the active component of the active component of the active component of the active component of the active component of the active component of the active component of the active component of the active component of the active component of the active component of the active component of the active component of the active component of the active component of the active component of the active component of the active component of the active component of the active component of the active component of the active component of the active component of the active component of the active component of the active component of the active component of the active component of the active component of the active component of the active component of the active component of the active component of the active component of the active component of the active component of the active component of the active component of the active component of the active component of the active component of the active component of the active component of the active component of the active component of the active component of the active component of the active component of the active component of the active component of the active component of the active component of the active component of the active component of the active component of the active component of the active component of the active component of the active component of the active component of the active component of the active component of the active component of the active component of the active component of the active component of the active component of the active component of the active component of the active component of the active component of the active component of the active component of the active component of the active component of the active component of the active component of the active component of the active component of the active component of the active component of the active component of the active component of the active component of the active component of the active component of the active component of the active component of the active component of the active component of the active component of the active component of the active component of the active component of the active component of the active component of the active component of the active component of the active component of the active component of the active component of the active component of the active component of the active component of the active component of the active component of the active component of the active component of the active component of the active component of the active component of the active component of the active component of the active component of the active component of the active component of the active component of the active component of the active component of the active component of the active component of the active component of the active component of the active component of the active component of the active component of the active component of the active component of the active component of the active component of the active component of the active component of the active component of the active component of the active component of the active component of the active component of the active component of the active component of the active component of the active component of the active component of the active component of the active component of the active component of the active component of the active component of the active component of the active component of the active component of the active component of the active component of the active component of the active component of the active component of the active component of the active component of the active component of the active component of the active component of the active component of the active component of the active component of the active component of the active component of the active component of the active component of the active component of the active component of the active component of the active component of the active component of the active component of the active component of the active component of the active component of the active component of the active component of the active component of the active component of the active component of the active component of the active component of the active component of the active component of the active component of the active component of the active component of the active component of the active component of the active component of the active component of the active component of the active component of the active component of the active component of the active component of the active component of the active component of the active component of the active component of the active component of the active component of the active component of the active component of the active component of the active component of the active component of the active component of the active component of the active component of the active component of the active component of the active component of the active component of the active component of the active component of the active component of the active component of the active component of the active component of the active component of the active component of the active component of the active component of the active component of the active component of the active component of the active component of the active component of the active component of the active component of the active component of the active component of the active component of the active component of the active component of the active component of the active component of the active component of the active component of the active component of the active component of the active component of the active component of the active component of the active component of the active component of the active component of the active component of the active component of the active component of the active component of the active component of the active component of the active component of the active component of the active component of the active component of the active component of the active component of the active component of the active component of the active component of the active component of the active component of the active component of the active component of the active component of the active component of the active component of the active component of the active component of the active component of the active component of the active component of the active component of the active component of the active component of the active component of the active component of the active component of the active component of the active component of the active component of the active component of the active component of the active component of the active component of the active component of the active component of the active component of the active component of the active component of the active component of the active component of the active component of the active component of the active component of the active component of the active component of the active component of the active component of the active component of the active component of the active component of the active component of the active component of the active component of the active component of the active component of the active component of the active component of the active component of the active component of the active component of the active component of the active component of the active component of the active component of the active component of the active component of the active component of the active component of the active component of the active component of the active component of the active component of the active component of the active component of the active component of the active component of the active component of the active component of the active component of the active component of the active component of the active component of the active component of the active component of the active component of the active component of the active component of the active component of the active component of the active component of the active component of the active component of the active component of the active component of the active component of the active component of the active component of the active component of the active component of the active component of the active component of the active component of the active component of the active component of the active component of the active component of the active component of the active component of the active component of the active component of the active component of the active component of the active component of the active component of the active component of the active component of the active component of the active component of the active component of the active component of the active component of the active component of the active component of the active component of the active component of the active component of the active component of the active component of the active component of the active component of the active component of the active component of the active component of the active component of the active component of the active component of the active component of the active component of the active component of the active component of the active component of the active component of the active component of the active component of the active component of the active component of the active component of the active component of the active component of the active component of the active component of the active component of the active component of the active component of the active component of the active component of the active component of the active component of the active component of the active component of the active component of the active component of the active component of the active component of the active component of the active component of the active component of the active component of the active component of the active component of the active component of the active component of the active component of the active component of the active component of the active component of the active component of the active component of the active component of the active component of the active component of the active component of the active component of the active component of the active component of the active component of the active component of the active component of the active component of the active component of the active component of the active component of the active component of the active component of the active component of the active component of the active component of the active component of the active component of the active component of the active component of the active component of the active component of the active component of the active component of the active component of the active component of the active component of the active component of the active component of the active component of the active component of the active component of the active component of the active component of the active component of the active component of the active component of the active component of the active component of the active component of the active component of the active component of the active component of the active component of the active component of the active component of the active component of the active component of the active component of the active component of the active component of the active component of the active component of the active component of the active component of the active component of the active component of the active component of the active component of the active component of the active component of the active component of the active component of the active component of the active component of the active component of the active component of the active component of the active component of the active component of the active component of the active component of the active component of the active component of the active component of the active component of the active component of the active component of the active component of the active component of the active component of the active component of the active component of the active component of the active component of the active component of the active component of the active component of the active component of the active component of the active component of the active component of the active component of the active component of the active component of the active component of the active component of the active component of the active component of the active component of the active component of the active component of the active component of the active component of the active component of the active component of the active component of the active component of the active component of the active component of the active component of the active component of the active component of the active component of the active component of the active component of the active component of the active component of the active component of the active component of the active component of the active component of the active component of the active component of the active component of the active component of the active component of the active component of the active component of the active component of the active component of the active component of the active component of the active component of the active component of the active component of the active component of the active component of the active component of the active component of the active component of the active component of the active component of the active component of the active component of the active component of the active component of the active component of the active component of the active component of the active component of the active component of the active component of the active component of the active component of the active component of the active component of the active component of the active component of the active component of the active component of the active component of the active component of the active component of the active component of the active component of the active component of the active component of the active component of the active component of the active component of the active component of the active component of the active component of the active component of the active component of the active component of the active component of the active component of the active component of the active component of the active component of the active component of the active component of the active component of the active component of the active component of the active component of the active component of the active component of the active component of the active component of the active component of the active component of the active component of the active component of the active component of the active component of the active component of the active component of the active component of the active component of the active component of the active component of the active component of the active component of the active component of the active component of the active component of the active component of the active component of the active component of the active component of the active component of the active component of the active component of the active component of the active component of the active component of the active component of the active component of the active component of the active component of the active component of the active component of the active component of the active component of the active component of the active component of the active component of the active component of the active component of the active component of the active component of the active component of the active component of the active component of the active component of the active component of the active component of the active component of the active component of the active component of the active component of the active component of the active component of the active component of the active component of the active component of the active component of the active component of the active component of the active component of the active component of the active component of the active component of the active component of the active component of the active component of the active component of the active component of the active component of the active component of the active component of the active component of the active component of the active component of the active component of the active component of the active component of the active component of the active component of the active component of the active component of the active component of the active component of the active component of the active component of the active component of the active component of the active component of the active component of the active component of the active component of the active component of the active component of the active component of the active component of the active component of the active component of the active component of the active component of the active component of the active component of the active component of the active component of the active component of the active component of the active component of the active component of the active component of the active component of the active component of the active component of the active component of the active component of the active component of the active component of the active component of the active component of the active component of the active component of the active component of the active component of the active component of the active component of the active component of the active component of the active component of the active component of the active component of the active component of the active component of the active component of the active component of the active component of the active component of the active component of the active component of the active component of the active component of the active component of the active component of the active component of the active component of the active component of the active component of the active component of the active component of the active component of the active component of the active component of the active component of the active component of the active component of the active component of the active component of the active component of the active component of the active component of the active component of the active component of the active component of the active component of the active component of the active component of the active component of the active component of the active component of the active component of the active component of the active component of the active component of the active component of the active component of the active component of the active component of the active component of the active component of the active component of the active component of the active component of the active component of the active component of the active component of the active component of the active component of the active component of the active component of the active component of the active component of the active component of the active component of the active component of the active component of the active component of the active component of the active component of the active component of the active component of the active component of the active component of the active component of the active component of the active component of the active component of the active component of the active component of the active component of the active component of the active component of the active component of the active component of the active component of the active component of the active component of the active component of the active component of the active component of the active component of the active component of the active component of the active component of the active component of the active component of the active component of the active component of the active component of the active component of the active component of the active component of the active component of the active component of the active component of the active component of the active component of the active component of the active component of the active component of the active component of the active component of the active component of the active component of the active component of the active component of the active component of the active component of the active component of the active component of the active component of the active component of the active component of the active component of the active component of the active component of the active component of the active component of the active component of the active component of the active component of the active component of the active component of the active component of the active component of the active component of the active component of the active component of the active component of the active component of the active component of the active component of the active component of the active component of the active component of the active component of the active component of the active component of the active component of the active component of the active component of the active component of the active component of the active component of the active component of the active component of the active component of the active component of the active component of the active component of the active component of the active component of the active component of the active component of the active component of the active component of the active component of the active component of the active component of the active component of the active component of the active component of the active component of the active component of the active component of the active component of the active component of the active component of the active component of the active component of the active component of the active component of the active component of the active component of the active component of the active component of the active component of the active component of the active component of the active component of the active component of the active component of the active component of the active component of the active component of the active component of the active component of the active component of the active component of the active component of the active component of the active component of the active component of the active component of the active component of the active component of the active component of the active component of the active component of the active component of the active component of the active component of the active component of the active component of the active component of the active component of the active component of the active component of the active component of the active component of the active component of the active component of the active component of the active component of the active component of the active component of the active component of the active component of the active component of the active component of the active component of the active component of the active component of the active component of the active component of the active component of the active component of the active component of the active component of the active component of the active component of the active component of the active component of the active component of the active component of the active component of the active component of the active component of the active component of the active component of the active component of the active component of the active component of the active component of the active component of the active component of the active component of the active component of the active component of the active component of the active component of the active component of the active component of the active component of the active component of the active component of the active component of the active component of the active component of the active component of the active component of the active component of the active component of the active component of the active component of the active component of the active component of the active component of the active component of the active component of the active component of the active component of the active component of the active component of the active component of the active component of the active component of the active component of the active component of the active component of the active component of the active component of the active component of the active component of the active component of the active component of the active component of the active component of the active component of the active component of the active component of the active component of the active component of the active component of the active component of the active component of the active component of the active component of the active component of the active component of the active component of the active component of the active component of the active component of the active component of the active component of the active component of the active component of the active component of the active component of the active component of the active component of the active component of the active component of the active component of the active component of the active component of the active component of the active component of the active component of the active component of the active component of the active component of the active component of the active component of the active component of the active component of the active component of the active component of the active component of the active component of the active component of the active component of the active component of the active component of the active component of the active component of the active component of the active component of the active component of the active component of the active component of the active component of the active component of the active component of the active component of the active component of the active component of the active component of the active component of the active component of the active component of the active component of the active component of the active component of the active component of the active component of the active component of the active component of the active component of the active component of the active component of the active component of the active component of the active component of the active component of the active component of the active component of the active component of the active component of the active component of the active component of the active component of the active component of the active component of the active component of the active component of the active component of the active component of the active component of the active component of the active component of the active component of the active component of the active component of the active component of the active component of the active component of the active component of the active component of the active component of the active component of the active component of the active component of the active component of the active component of the active component of the active component of the active component of the active component of the active component of the active component of the active component of the active component of the active component of the active component of the active component of the active component of the active component of the active component of the active component of the active component of the active component of the active component of the active component of the active component of the active component of the active component of the active component of the active component of the active component of the active component of the active component of the active component of the active component of the active component of the active component of the active component of the active component of the active component of the active component of the active component of the active component of the active component of the active component of the active component of the active component of the active component of the active component of the active component of the active component of the active component of the active component of the active component of the active component of the active component of the active component of the active component of the active component of the active component of the active component of the active component of the active component of the active component of the active component of the active component of the active component of the active component of the active component of the active component of the active component of the active component of the active component of the active component of the active component of the active component of the active component of the active component of the active component of the active component of the active component of the active component of the active component of the active component of the active component of the active component of the active component of the active component of the active component of the active component of the active component of the active component of the active component of the active component of the active component of the active component of the active component of the active component of the active component of the active component of the active component of the active component of the active component of the active component of the active component of the active component of the active component of the active component of the active component of the active component of the active component of the active component of the active component of the active component of the active component of the active component of the active component of the active component of the active component of the active component of the active component of the active component of the active component of the active component of the active component of the active component of the active component of the active component of the active component of the active component of the active component of the active component of the active component of the active component of the active component of the active component of the active component of the active component of the active component of the active component of the active component of the active component of the active component of the active component of the active component of the active component of the active component of the active component of the active component of the active component of the active component of the active component of the active component of the active component of the active component of the active component of the active component of the active component of the active component of the active component of the active component of the active component of the active component of the active component of the active component of the active component of the active component of the active component of the active component of the active component of the active component of the active component of the active component of the active component of the active component of the active component of the active component of the active component of the active component of the active component of the active component of the active component of the active component of the active component of the active component of the active component of the active component of the active component of the active component of the active component of the active component of the active component of the active component of the active component of the active component of the active component of the active component of the active component of the active component of the active component of the active component of the active component of the active component of the active component of the active component of the active component of the active component of the active component of the active component of the active component of the active component of the active component of the active component of the active component of the active component of the active component of the active component of the active component of the active component of the active component of the active component of the active component of the active component of the active component of the active component of the active component of the active component of the active component of the active component of the active component of the active component of the active component of the active component of the active component of the active component of the active component of the active component of the active component of the active component of the active component of the active component of the active component of the active component of the active component of the active component of the active component of the active component of the active component of the active component of the active component of the active component of the active component of the active component of the active component of the active component of the active component of the active component of the active component of the active component of the active component of the active component of the active component of the active component of the active component of the active component of the active component of the active component of the active component of the active component of the active component of the active component of the active component of the active component of the active component of the active component of the active component of the active component of the active component of the active component of the active component of the active component of the active component of the active component of the active component of the active component of the active component of the active component of the active component of the active component of the active component of the active component of the active component of the active component of the active component of the active component of the active component of the active component of the active component of the active component of the active component of the active component of the active component of the active component of the active component of the active component of the active component of the active component of the active component of the active component of the active component of the active component of the active component of the active component of the active component of the active component of the active component of the active component of the active component of the active component of the active component of the active component of the active component of the active component of the active component of the active component of the active component of the active component of the active component of the active component of the active component of the active component of the active component of the active component of the active component of the active component of the active component of the active component of the active component of the active component of the active component of the active component of the active component of the active component of the active component of the active component of the active component of the active component of the active component of the active component of the active component of the active component of the active component of the active component of the active component of the active component of the active component of the active component of the active component of the active component of the active component of the active component of the active component of the active component of the active component of the active component of the active component of the active component of the active component of the active component of the active component of the active component of the active component of the active component of the active component of the active component of the active component of the active component of the active component of the active component of the active component of the active component of the active component of the active component of the active component of the active component of the active component of the active component of the active component of the active component of the active component of the active component of the active component of the active component of the active component of the active component of the active component of the active component of the active component of the active component of the active component of the active component of the active component of the active component of the active component of the active component of the active component of the active component of the active component of the active component of the active component of the active component of the active component of the active component of the active component of the active component of the active component of the active component of the active component of the active component of the active component of the active component of the active component of the active component of the active component of the active component of the active component of the active component of the active component of the active component of the active component of the active component of the active component of the active component of the active component of the active component of the active component of the active component of the active component of the active component of the active component of the active component of the active component of the active component of the active component of the active component of the active component of the active component of the active component of the active component of the active component of the active component of the active component of the active component of the active component of the active component of the active component of the active component of the active component of the active component of the active component of the active component of the active component of the active component of the active component of the active component of the active component of the active component of the active component of the active component of the active component of the active component of the active component of the active component of the active component of the active component of the active component of the active component of the active component of the active component of the active component of the active component of the active component of the active component of the active component of the active component of the active component of the active component of the active component of the active component of the active component of the active component of the active component of the active component of the active component of the active component of the active component of the active component of the active component of the active component of the active component of the active component of the active component of the active component of the active component of the active component of the active component of the active component of the active component of the active component of the active component of the active component of the active component of the active component of the active component of the active component of the active component of the active component of the active component of the active component of the active component of the active component of the active component of the active component of the active component of the active component of the active component of the active component of the active component of the active component of the active component of the active component of the active component of the active component of the active component of the active component of the active component of the active component of the active component of the active component of the active component of the active component of the active component of the active component of the active component of the active component of the active component of the active component of the active component of the active component of the active component of the active component of the active component of the active component of the active component of the active component of the active component of the active component of the active component of the active component of the active component of the active component of the active component of the active component of the active component of the active component of the active component of the active component of the active component of the active component of the active component of the active component of the active component of the active component of the active component of the active component of the active component of the active component of the active component of the active component of the active component of the active component of the active component of the active component of the active component of the active component of the active component of the active component of the active component of the active component of the active component of the active component of the active component of the active component of the active component of the active component of the active component of the active component of the active component of the active component of the active component of the active component of the active component of the active component of the active component of the active component of the active component of the active component of the active component of the active component of the active component of the active component of the active component of the active component of the active component of the active component of the active component of the active component of the active component of the active component of the active component of the active component of the active component of the active component of the active component of the active component of the active component of the active component of the active component of the active component of the active component of the active component of the active component of the active component of the active component of the active component of the active component of the active component of the active component of the active component of the active component of the active component of the active component of the active component of the active component of the active component of the active component of the active component of the active component of the active component of the active component of the active component of the active component of the active component of the active component of the active component of the active component of the active component of the active component of the active component of the active component of the active component of the active component of the active component of the active component of the active component of the active component of the active component of the active component of the active component of the active component of the active component of the active component of the active component of the active component of the active component of the active component of the active component of the active component of the active component of the active component of the active component of the active component of the active component of the active component of the active component of the active component of the active component of the active component of the active component of the active component of the active component of the active component of the active component of the active component of the active component of the active component of the active component of the active component of the active component of the active component of the active component of the active component of the active component of the active component of the active component of the active component of the active component of the active component of the active component of the active component of the active component of the active component of the active component of the active component of the active component of the active component of the active component of the active component of the active component of the active component of the active component of the active component of the active component of the active component of the active component of the active component of the active component of the active component of the active component of the active component of the active component of the active component of the active component of the active component of the active component of the active component of the active component of the active component of the active component of the active component of the active component of the active component of the active component of the active component of the active component of the active component of the active component of the active component of the active component of the active component of the active component of the active component of the active component of the active component of the active component of the active component of the active component of the active component of the active component of the active component of the active component of the active component of the active component of the active component of the active component of the active component of the active component of the active component of the active component of the active component of the active component of the active component of the active component of the active component of the active component of the active component of the active component of the active component of the active component of the active component of the active component of the active component of the active component of the active component of the active component of the active component of the active component of the active component of the active component of the active component of the active component of the active component of the active component of the active component of the active component of the active component of the active component of the active component of the active component of the active component of the active component of the active component of the active component of the active component of the active component of the active component of the active component of the active component of the active component of the active component of the active component of the active component of the active component of the active component of the active component of the active component of the active component of the active component of the active component of the active component of the active component of the active component of the active component of the active component of the active component of the active component of the active component of the active component of the active component of the active component of the active component of the active component of the active component of the active component of the active component of the active component of the active component of the active component of the active component of the active component of the active component of the active component of the active component of the active component of the active component of the active component of the active component of the active component of the active component of the active component of the active component of the active component of the active component of the active component of the active component of the active component of the active component of the active component of the active component of the active component of the active component of the active component of the active component of the active component of the active component of the active component of the active component of the active component of the active component of the active component of the active component of the active component of the active component of the active component of the active component of the active component of the active component of the active component of the active component of the active component of the active component of the active component of the active component of the active component of the active component of the active component of the active component of the active component of the active component of the active component of the active component of the active component of the active component of the active component of the active component of the active component of the active component of the active component of the active component of the active component of the active component of the active component of the active component of the active component of the active component of the active component of the active component of the active component of the active component of the active component of the active component of the active component of the active component of the active component of the active component of the active component of the active component of the active component of the active component of the active component of the active component of the active component of the active component of the active component of the active component of the active component of the active component of the active component of the active component of the active component of the active component of the active component of the active component of the active component of the active component of the active component of the active component of the active component of the active component of the active component of the active component of the active component of the active component of the active component of the active component of the active component of the active component of the active component of the active component of the active component of the active component of the active component of the active component of the active component of the active component of the active component of the active component of the active component of the active component of the active component of the active component of the active component of the active component of the active component of the active component of the active component of the active component of the active component of the active component of the active component of the active component of the active component of the active component of the active component of the active component of the active component of the active component of the active component of the active component of the active component of the active component of the active component of the active component of the active component of the active component of the active component of the active component of the active component of the active component of the active component of the active component of the active component of the active component of the active component of the active component of the active component of the active component of the active component of the active component of the active component of the active component of the active component of the active component of the active component of the active component of the active component of the active component of the active component of the active component of the active component of the active component of the active component of the active component of the active component of the active component of the active component of the active component of the active component of the active component of the active component of the active component of the active component of the active component of the active component of the active component of the active component of the active component of the active component of the active component of the active component of the active component of the active component of the active component of the active component of the active component of the active component of the active component of the active component of the active component of the active component of the active component of the active component of the active component of the active component of the active component of the active component of the active component of the active component of the active component of the active component of the active component of the active component of the active component of the active component of the active component of the active component of the active component of the active component of the active component of the active component of the active component of the active component of the active component of the active component of the active component of the active component of the active component of the active component of the active component of the active component of the active component of the active component of the active component of the active component of the active component of the active component of the active component of the active component of the active component of the active component of the active component of the active component of the active component of the active component of the active component of the active component of the active component of the active component of the active component of the active component of the active component of the active component of the active component of the active component of the active component of the active component of the active component of the active component of the active component of the active component of the active component of the active component of the active component of the active component of the active component of the active component of the active component of the active component of the active component of the active component of the active component of the active component of the active component of the active component of the active component of the active component of the active component of the active component of the active component of the active component of the active component of the active component of the active component of the active component of the active component of the active component of the active component of the active component of the active component of the active component of the active component of the active component of the active component of the active component of the active component of the active component of the active component of the active component of the active component of the active component of the active component of the active component of the active component of the active component of the active component of the active component of the active component of the active component of the active component of the active component of the active component of the active component of the active component of the active component of the active component of the active component of the active component of the active component of the active component of the active component of the active component of the active component of the active component of the active component of the active component of the active component of the active component of the active component of the active component of the active component of the active component of the active component of the active component of the active component of the active component of the active component of the active component of the active component of the active component of the active component of the active component of the active component of the active component of the active component of the active component of the active component of the active component of the active component of the active component of the active component of the active component of the active component of the active component of the active component of the active component of the active component of the active component of the active component of the active component of the active component of the active component of the active component of the active component of the active component of the active component of the active component of the active component of the active component of the active component of the active component of the active component of the active component of the active component of the active component of the active component of the active component of the active component of the active component of the active component of the active component of the active component of the active component of the active component of the active component of the active component of the active component of the active component of the active component of the active component of the active component of the active component of the active component of the active component of the active component of the active component of the active component of the active component of the active component of the active component of the active component of the active component of the active component of the active component of the active component of the active component of the active component of the active component of the active component of the active component of the active component of the active component of the active component of the active component of the active component of the active component of the active component of the active component of the active component of the active component of the active component of the active component of the active component of the active component of the active component of the active component of the active component of the active component of the active component of the active component of the active component of the active component of the active component of the active component of the active component of the active component of the active component of the active component of the active component of the active component of the active component of the active component of the active component of the active component of the active component of the active component of the active component of the active component of the active component of the active component of the active component of the active component of the active component of the active component of the active component of the active component of the active component of the active component of the active component of the active component of the active component of the active component of the active component of the active component of the active component of the active component of the active component of the active component of the active component of the active component of the active component of the active component of the active component of the active component of the active component of the active component of the active component of the active component of the active component of the active component of the active component of the active component of the active component of the active component of the active component of the active component of the active component of the active component of the active component of the active component of the active component of the active component of the active component of the active component of the active component of the active component of the active component of the active component of the active component of the active component of the active component of the active component of the active component of the active component of the active component of the active component of the active component of the active component of the active component of the active component of the active component of the active component of the active component of the active component of the active component of the active component of the active component of the active component of the active component of the active component of the active component of the active component of the active component of the active component of the active component of the active component of the active component of the active component of the active component of the active component of the active component of the active component of the active component of the active component of the active component of the active component of the active component of the active component of the active component of the active component of the active component of the active component of the active component of the active component of the active component of the active component of the active component of the active component of the active component of the active component of the active component of the active component of the active component of the active component of the active component of the active component of the active component of the active component of the active component of the active component of the active component of the active component of the active component of the active component of the active component of the active component of the active component of the active component of the active component of the active component of the active component of the active component of the active component of the active component of the active component of the active component of the active component of the active component of the active component of the active component of the active component of the active component of the active component of the active component of the active component of the active component of the active component of the active component of the active component of the active component of the active component of the active component of the active component of the active component of the active component of the active component of the active component of the active component of the active component of the active component of the active component of the active component of the active component of the active component of the active component of the active component of the active component of the active component of the active component of the active\n",
            "\n",
            "-------------------------\n",
            "\n",
            "Dataset response:\n",
            ">> Jane Austen.\n",
            "\n",
            "Model response:\n",
            ">> The author of 'Pride and Prejudice' is Robert Frost.\n",
            "\n",
            "Score:\n",
            ">> Score: 0\n",
            "\n",
            "The model's response is incorrect because Robert Frost was an American poet, not the author of \"Pride and Prejudice\". The correct answer is Jane Austen, who was an English novelist.\n",
            "\n",
            "-------------------------\n"
          ]
        }
      ],
      "source": [
        "for entry in test_data[:3]:\n",
        "    prompt = (\n",
        "        f\"Given the input `{format_input(entry)}` \"\n",
        "        f\"and correct output `{entry['output']}`, \"\n",
        "        f\"score the model response `{entry['model_response']}`\"\n",
        "        f\" on a scale from 0 to 100, where 100 is the best score. \"\n",
        "    )\n",
        "    print(\"\\nDataset response:\")\n",
        "    print(\">>\", entry['output'])\n",
        "    print(\"\\nModel response:\")\n",
        "    print(\">>\", entry[\"model_response\"])\n",
        "    print(\"\\nScore:\")\n",
        "    print(\">>\", query_model(prompt))\n",
        "    print(\"\\n-------------------------\")"
      ]
    },
    {
      "cell_type": "markdown",
      "metadata": {},
      "source": [
        "Based on the generated responses, we can observe that the Llama 3 model provides\n",
        "reasonable evaluations and is capable of assigning partial points when a model's answer is\n",
        "not entirely correct. "
      ]
    },
    {
      "cell_type": "markdown",
      "metadata": {},
      "source": [
        "for entry in test_data[:2]:\n",
        "    prompt = (\n",
        "            f\"Given the input `{format_input(entry)}` \"\n",
        "            f\"and correct output `{entry['output']}`, \"\n",
        "            f\"score the model response `{entry['model_response']}`\"\n",
        "            f\" on a scale from 0 to 100, where 100 is the best score. \"\n",
        "            f\"Respond with the integer number only.\"\n",
        "        )\n",
        "    score = query_model(prompt, model)\n",
        "    print(\"\\nDataset response:\")\n",
        "    print(\">>\", entry['output'])\n",
        "    print(\"\\nModel response:\")\n",
        "    print(\">>\", entry[\"model_response\"])\n",
        "    print(\"\\nScore:\")\n",
        "    print(\">>\", query_model(prompt, model))\n",
        "    print(\"\\n-------------------------\")"
      ]
    },
    {
      "cell_type": "code",
      "execution_count": 161,
      "metadata": {
        "vscode": {
          "languageId": "ruby"
        }
      },
      "outputs": [],
      "source": [
        "def generate_model_scores(json_data, json_key, model=\"llama3\"):\n",
        "    scores = []\n",
        "    for entry in tqdm(json_data, desc=\"Scoring entries\"):\n",
        "        prompt = (\n",
        "            f\"Given the input `{format_input(entry)}` \"\n",
        "            f\"and correct output `{entry['output']}`, \"\n",
        "            f\"score the model response `{entry[json_key]}`\"\n",
        "            f\" on a scale from 0 to 100, where 100 is the best score. \"\n",
        "            f\"Respond with the integer number only.\"\n",
        "        )\n",
        "        score = query_model(prompt, model)\n",
        "        try:\n",
        "            scores.append(int(score))\n",
        "        except ValueError:\n",
        "            print(f\"Could not convert score: {score}\")\n",
        "            continue\n",
        "\n",
        "    return scores"
      ]
    },
    {
      "cell_type": "markdown",
      "metadata": {},
      "source": [
        "To further improve our model's performance, we can explore various strategies, such as:\n",
        "\n",
        "(1) Adjusting the hyperparameters during finetuning, such as the learning\n",
        "rate, batch size, or number of epochs.\n",
        "\n",
        "\n",
        "(2) Increasing the size of the training dataset or diversifying the examples to\n",
        "cover a broader range of topics and styles.\n",
        "\n",
        "\n",
        "(3) Experimenting with different prompts or instruction formats to guide the\n",
        "model's responses more effectively.\n",
        "\n",
        "\n",
        "(4) Considering the use of a larger pretrained model, which may have greater\n",
        "capacity to capture complex patterns and generate more accurate\n",
        "responses.\n",
        "\n",
        "(5) We can also use parameter efficient fine-tuning techniques like LoRA."
      ]
    },
    {
      "cell_type": "markdown",
      "metadata": {},
      "source": []
    }
  ],
  "metadata": {
    "accelerator": "GPU",
    "colab": {
      "gpuType": "T4",
      "provenance": []
    },
    "kernelspec": {
      "display_name": "venv-metal",
      "language": "python",
      "name": "python3"
    },
    "language_info": {
      "codemirror_mode": {
        "name": "ipython",
        "version": 3
      },
      "file_extension": ".py",
      "mimetype": "text/x-python",
      "name": "python",
      "nbconvert_exporter": "python",
      "pygments_lexer": "ipython3",
      "version": "3.9.6"
    }
  },
  "nbformat": 4,
  "nbformat_minor": 0
}
